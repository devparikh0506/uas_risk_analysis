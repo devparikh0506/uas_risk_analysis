{
 "cells": [
  {
   "cell_type": "markdown",
   "id": "9489b74a-1e15-4b75-9498-e01b8a0dd56f",
   "metadata": {},
   "source": [
    "# UAS Sightings Exploratory Data Analysis (EDA) with PySpark\n",
    "**Author(s):** \n",
    "* Brett Allen\n",
    "* Dev Parikh\n",
    "* Lokesh Reddy Venna\n",
    "\n",
    "**Environment:**\n",
    "```\n",
    "   SageMaker Image: SparkAnalytics 3.0\n",
    "  SageMaker Kernel: Glue PySpark\n",
    "SageMaker Instance: ml.t3.medium (2 vCPU + 4 GiB @ $0.0416/hr) - EBS storage only (for HDFS)\n",
    "```\n",
    "\n",
    "**NOTE:** Must have the specified `%profile` available on system. Install AWS CLI via `pip install awscli` and run `aws configure` to initialize CLI environment. Must have generated keys in IAM first.\n",
    "\n",
    "**NOTE:** Additional jars are required for `apache-sedona`. Refer to https://sedona.apache.org/1.3.1-incubating/setup/install-python/\n",
    "\n",
    "**NOTE:** Download the following jars and upload to s3 for reference via `%extra_jars` magic (for Glue 3.0 support):\n",
    "* `geotools-wrapper-1.1.0-25.2.jar`: https://mvnrepository.com/artifact/org.datasyslab/geotools-wrapper/1.1.0-25.2\n",
    "* `gt-epsg-hsql-24.0.jar`: https://mvnrepository.com/artifact/org.geotools/gt-epsg-hsql/24.0\n",
    "* `gt-main-24.0.jar`: https://mvnrepository.com/artifact/org.geotools/gt-main/24.0\n",
    "* `gt-referencing-24.0.jar`: https://mvnrepository.com/artifact/org.geotools/gt-referencing/24.0\n",
    "* `jts-core-1.18.2.jar`: https://mvnrepository.com/artifact/org.locationtech.jts/jts-core/1.18.2\n",
    "* `jts-io-common-1.18.2.jar`: https://mvnrepository.com/artifact/org.locationtech.jts.io/jts-io-common/1.18.2\n",
    "* `sedona-core-3.0_2.12-1.1.0-incubating.jar`: https://mvnrepository.com/artifact/org.apache.sedona/sedona-core-3.0_2.12/1.1.0-incubating\n",
    "* `sedona-python-adapter-3.0_2.12-1.1.0-incubating.jar`: https://mvnrepository.com/artifact/org.apache.sedona/sedona-python-adapter-3.0_2.12/1.1.0-incubating\n",
    "* `sedona-sql-3.0_2.12-1.1.0-incubating.jar`: https://mvnrepository.com/artifact/org.apache.sedona/sedona-sql-3.0_2.12/1.1.0-incubating\n",
    "* `sedona-viz-3.0_2.12-1.1.0-incubating.jar`: https://mvnrepository.com/artifact/org.apache.sedona/sedona-viz-3.0_2.12/1.1.0-incubating\n"
   ]
  },
  {
   "cell_type": "code",
   "execution_count": 9,
   "id": "7f7ae0ce-86fd-4dee-9c29-747d9632aa74",
   "metadata": {
    "execution": {
     "iopub.execute_input": "2024-12-05T12:46:50.109689Z",
     "iopub.status.busy": "2024-12-05T12:46:50.109220Z",
     "iopub.status.idle": "2024-12-05T12:46:50.327390Z",
     "shell.execute_reply": "2024-12-05T12:46:50.326408Z",
     "shell.execute_reply.started": "2024-12-05T12:46:50.109661Z"
    },
    "tags": []
   },
   "outputs": [
    {
     "name": "stdout",
     "output_type": "stream",
     "text": [
      "Welcome to the Glue Interactive Sessions Kernel\n",
      "For more information on available magic commands, please type %help in any new cell.\n",
      "\n",
      "Please view our Getting Started page to access the most up-to-date information on the Interactive Sessions kernel: https://docs.aws.amazon.com/glue/latest/dg/interactive-sessions.html\n",
      "Installed kernel version: 1.0.7 \n",
      "Current iam_role is arn:aws:iam::867344433302:role/service-role/SageMaker-ExecutionRole-20241012T165481\n",
      "iam_role has been set to arn:aws:iam::867344433302:role/endurasoft-GlueJobServiceRole.\n",
      "Previous profile: None\n",
      "Setting new profile to: default\n",
      "Previous session type: etl\n",
      "Setting new session type to ETL\n",
      "Previous number of workers: None\n",
      "Setting new number of workers to: 2\n",
      "Previous worker type: None\n",
      "Setting new worker type to: G.2X\n",
      "Setting Glue version to: 3.0\n",
      "Additional python modules to be included:\n",
      "plotly-express\n",
      "datashader\n",
      "apache-sedona\n",
      "geopandas\n",
      "shapely\n",
      "geojson\n",
      "dask[dataframe]\n",
      "folium\n",
      "Extra jars to be included:\n",
      "s3://endurasoft-dev-risk-framework/config/jars/apache_sedona_glue_v3/geotools-wrapper-1.1.0-25.2.jar\n",
      "s3://endurasoft-dev-risk-framework/config/jars/apache_sedona_glue_v3/gt-epsg-hsql-24.0.jar\n",
      "s3://endurasoft-dev-risk-framework/config/jars/apache_sedona_glue_v3/gt-main-24.0.jar\n",
      "s3://endurasoft-dev-risk-framework/config/jars/apache_sedona_glue_v3/gt-referencing-24.0.jar\n",
      "s3://endurasoft-dev-risk-framework/config/jars/apache_sedona_glue_v3/jts-core-1.18.2.jar\n",
      "s3://endurasoft-dev-risk-framework/config/jars/apache_sedona_glue_v3/jts-io-common-1.18.2.jar\n",
      "s3://endurasoft-dev-risk-framework/config/jars/apache_sedona_glue_v3/sedona-core-3.0_2.12-1.1.0-incubating.jar\n",
      "s3://endurasoft-dev-risk-framework/config/jars/apache_sedona_glue_v3/sedona-python-adapter-3.0_2.12-1.1.0-incubating.jar\n",
      "s3://endurasoft-dev-risk-framework/config/jars/apache_sedona_glue_v3/sedona-sql-3.0_2.12-1.1.0-incubating.jar\n",
      "s3://endurasoft-dev-risk-framework/config/jars/apache_sedona_glue_v3/sedona-viz-3.0_2.12-1.1.0-incubating.jar\n",
      "s3://endurasoft-dev-risk-framework/config/jars/apache_sedona_glue_v3/geotools-wrapper-1.1.0-25.2.jar,s3://endurasoft-dev-risk-framework/config/jars/apache_sedona_glue_v3/gt-epsg-hsql-24.0.jar,s3://endurasoft-dev-risk-framework/config/jars/apache_sedona_glue_v3/gt-main-24.0.jar,s3://endurasoft-dev-risk-framework/config/jars/apache_sedona_glue_v3/gt-referencing-24.0.jar,s3://endurasoft-dev-risk-framework/config/jars/apache_sedona_glue_v3/jts-core-1.18.2.jar,s3://endurasoft-dev-risk-framework/config/jars/apache_sedona_glue_v3/jts-io-common-1.18.2.jar,s3://endurasoft-dev-risk-framework/config/jars/apache_sedona_glue_v3/sedona-core-3.0_2.12-1.1.0-incubating.jar,s3://endurasoft-dev-risk-framework/config/jars/apache_sedona_glue_v3/sedona-python-adapter-3.0_2.12-1.1.0-incubating.jar,s3://endurasoft-dev-risk-framework/config/jars/apache_sedona_glue_v3/sedona-sql-3.0_2.12-1.1.0-incubating.jar,s3://endurasoft-dev-risk-framework/config/jars/apache_sedona_glue_v3/sedona-viz-3.0_2.12-1.1.0-incubating.jar\n"
     ]
    }
   ],
   "source": [
    "%iam_role arn:aws:iam::867344433302:role/endurasoft-GlueJobServiceRole\n",
    "%profile default\n",
    "%etl\n",
    "%number_of_workers 2\n",
    "%worker_type G.2X\n",
    "%glue_version 3.0\n",
    "%additional_python_modules \"plotly-express,datashader,apache-sedona,geopandas,shapely,geojson,dask[dataframe],folium\"\n",
    "%extra_jars \"s3://endurasoft-dev-risk-framework/config/jars/apache_sedona_glue_v3/geotools-wrapper-1.1.0-25.2.jar,s3://endurasoft-dev-risk-framework/config/jars/apache_sedona_glue_v3/gt-epsg-hsql-24.0.jar,s3://endurasoft-dev-risk-framework/config/jars/apache_sedona_glue_v3/gt-main-24.0.jar,s3://endurasoft-dev-risk-framework/config/jars/apache_sedona_glue_v3/gt-referencing-24.0.jar,s3://endurasoft-dev-risk-framework/config/jars/apache_sedona_glue_v3/jts-core-1.18.2.jar,s3://endurasoft-dev-risk-framework/config/jars/apache_sedona_glue_v3/jts-io-common-1.18.2.jar,s3://endurasoft-dev-risk-framework/config/jars/apache_sedona_glue_v3/sedona-core-3.0_2.12-1.1.0-incubating.jar,s3://endurasoft-dev-risk-framework/config/jars/apache_sedona_glue_v3/sedona-python-adapter-3.0_2.12-1.1.0-incubating.jar,s3://endurasoft-dev-risk-framework/config/jars/apache_sedona_glue_v3/sedona-sql-3.0_2.12-1.1.0-incubating.jar,s3://endurasoft-dev-risk-framework/config/jars/apache_sedona_glue_v3/sedona-viz-3.0_2.12-1.1.0-incubating.jar\""
   ]
  },
  {
   "cell_type": "markdown",
   "id": "a62cdba1-fbf8-47d0-993a-5ff58468070e",
   "metadata": {},
   "source": [
    "## Imports"
   ]
  },
  {
   "cell_type": "code",
   "execution_count": 111,
   "id": "211936b1-7905-438f-90cc-ca03f5159604",
   "metadata": {
    "execution": {
     "iopub.execute_input": "2024-12-05T19:36:27.719165Z",
     "iopub.status.busy": "2024-12-05T19:36:27.718462Z",
     "iopub.status.idle": "2024-12-05T19:36:28.097161Z",
     "shell.execute_reply": "2024-12-05T19:36:28.093855Z",
     "shell.execute_reply.started": "2024-12-05T19:36:27.719140Z"
    },
    "tags": []
   },
   "outputs": [
    {
     "name": "stdout",
     "output_type": "stream",
     "text": [
      "\n"
     ]
    }
   ],
   "source": [
    "from awsglue.transforms import *\n",
    "from awsglue.utils import getResolvedOptions\n",
    "from awsglue.context import GlueContext\n",
    "from awsglue.job import Job\n",
    "from pyspark.sql import SparkSession, DataFrame\n",
    "from pyspark.sql.window import Window\n",
    "from pyspark import StorageLevel\n",
    "from pyspark.context import SparkContext\n",
    "from pyspark.conf import SparkConf\n",
    "import pyspark.sql.types as T\n",
    "import pyspark.sql.functions as F\n",
    "from pyspark.sql import Row\n",
    "from pyspark.ml.regression import RandomForestRegressor\n",
    "from pyspark.ml.clustering import KMeans\n",
    "from pyspark.ml.feature import VectorAssembler, StringIndexer, MinMaxScaler\n",
    "from pyspark.ml import Pipeline\n",
    "from pyspark.ml.evaluation import RegressionEvaluator\n",
    "from pyspark.ml.stat import Correlation\n",
    "from pyspark.mllib.linalg.distributed import RowMatrix\n",
    "from sedona.register import SedonaRegistrator\n",
    "from sedona.core.formatMapper.shapefileParser import ShapefileReader\n",
    "from sedona.core.formatMapper import GeoJsonReader\n",
    "from sedona.core.enums import FileDataSplitter, IndexType, GridType\n",
    "from sedona.core import SpatialRDD\n",
    "from sedona.utils import SedonaKryoRegistrator, KryoSerializer\n",
    "from sedona.utils.adapter import Adapter\n",
    "import pandas as pd\n",
    "import geopandas as gpd\n",
    "import shapely\n",
    "from shapely.geometry import shape, Point, Polygon\n",
    "import re\n",
    "import matplotlib.pyplot as plt\n",
    "import seaborn as sns\n",
    "import folium\n",
    "from folium.plugins import HeatMap\n",
    "import plotly.express as px\n",
    "from colorcet import fire\n",
    "import datashader.transfer_functions as tf\n",
    "import datashader as ds\n",
    "import boto3\n",
    "import io\n",
    "import json\n",
    "import geojson\n",
    "import os\n",
    "import zipfile\n",
    "from zipfile import ZipFile\n",
    "import subprocess\n",
    "import numpy as np\n",
    "from scipy.ndimage import gaussian_filter"
   ]
  },
  {
   "cell_type": "code",
   "execution_count": 11,
   "id": "54dcf13f-baed-470a-947a-271fde1235d7",
   "metadata": {
    "execution": {
     "iopub.execute_input": "2024-12-05T12:48:12.779742Z",
     "iopub.status.busy": "2024-12-05T12:48:12.779399Z",
     "iopub.status.idle": "2024-12-05T12:48:13.123840Z",
     "shell.execute_reply": "2024-12-05T12:48:13.120266Z",
     "shell.execute_reply.started": "2024-12-05T12:48:12.779720Z"
    },
    "tags": []
   },
   "outputs": [
    {
     "name": "stdout",
     "output_type": "stream",
     "text": [
      "Session ID: b4961618-1c6e-4d3b-a9bd-e039331319b7\n",
      "Status: READY\n",
      "Role: arn:aws:iam::867344433302:role/endurasoft-GlueJobServiceRole\n",
      "CreatedOn: 2024-12-05 12:46:55.976000+00:00\n",
      "GlueVersion: 3.0\n",
      "Session Type: glueetl\n",
      "Idle Timeout: 2880\n",
      "Timeout: 2880\n",
      "Tags: {'owner': 'AIDA4T4OBYCLOCNMZTZU3', 'sagemaker:user-profile-arn': 'arn:aws:sagemaker:us-east-1:867344433302:user-profile/d-eikyi6u8iy8g/ballen', 'sagemaker:domain-arn': 'arn:aws:sagemaker:us-east-1:867344433302:domain/d-eikyi6u8iy8g', 'sagemaker:space-arn': 'arn:aws:sagemaker:us-east-1:867344433302:space/d-eikyi6u8iy8g/Bretts-Private-JupyterLab-Space'}\n",
      "Worker Type: G.2X\n",
      "Number of Workers: 2\n",
      "Region: us-east-1\n",
      "Applying the following default arguments:\n",
      "--glue_kernel_version 1.0.7\n",
      "--enable-glue-datacatalog true\n",
      "--extra-jars s3://endurasoft-dev-risk-framework/config/jars/apache_sedona_glue_v3/geotools-wrapper-1.1.0-25.2.jar,s3://endurasoft-dev-risk-framework/config/jars/apache_sedona_glue_v3/gt-epsg-hsql-24.0.jar,s3://endurasoft-dev-risk-framework/config/jars/apache_sedona_glue_v3/gt-main-24.0.jar,s3://endurasoft-dev-risk-framework/config/jars/apache_sedona_glue_v3/gt-referencing-24.0.jar,s3://endurasoft-dev-risk-framework/config/jars/apache_sedona_glue_v3/jts-core-1.18.2.jar,s3://endurasoft-dev-risk-framework/config/jars/apache_sedona_glue_v3/jts-io-common-1.18.2.jar,s3://endurasoft-dev-risk-framework/config/jars/apache_sedona_glue_v3/sedona-core-3.0_2.12-1.1.0-incubating.jar,s3://endurasoft-dev-risk-framework/config/jars/apache_sedona_glue_v3/sedona-python-adapter-3.0_2.12-1.1.0-incubating.jar,s3://endurasoft-dev-risk-framework/config/jars/apache_sedona_glue_v3/sedona-sql-3.0_2.12-1.1.0-incubating.jar,s3://endurasoft-dev-risk-framework/config/jars/apache_sedona_glue_v3/sedona-viz-3.0_2.12-1.1.0-incubating.jar\n",
      "--additional-python-modules plotly-express,datashader,apache-sedona,geopandas,shapely,geojson,dask[dataframe],folium\n",
      "Arguments Passed: ['--glue_kernel_version: 1.0.7', '--enable-glue-datacatalog: true', '--extra-jars: s3://endurasoft-dev-risk-framework/config/jars/apache_sedona_glue_v3/geotools-wrapper-1.1.0-25.2.jar,s3://endurasoft-dev-risk-framework/config/jars/apache_sedona_glue_v3/gt-epsg-hsql-24.0.jar,s3://endurasoft-dev-risk-framework/config/jars/apache_sedona_glue_v3/gt-main-24.0.jar,s3://endurasoft-dev-risk-framework/config/jars/apache_sedona_glue_v3/gt-referencing-24.0.jar,s3://endurasoft-dev-risk-framework/config/jars/apache_sedona_glue_v3/jts-core-1.18.2.jar,s3://endurasoft-dev-risk-framework/config/jars/apache_sedona_glue_v3/jts-io-common-1.18.2.jar,s3://endurasoft-dev-risk-framework/config/jars/apache_sedona_glue_v3/sedona-core-3.0_2.12-1.1.0-incubating.jar,s3://endurasoft-dev-risk-framework/config/jars/apache_sedona_glue_v3/sedona-python-adapter-3.0_2.12-1.1.0-incubating.jar,s3://endurasoft-dev-risk-framework/config/jars/apache_sedona_glue_v3/sedona-sql-3.0_2.12-1.1.0-incubating.jar,s3://endurasoft-dev-risk-framework/config/jars/apache_sedona_glue_v3/sedona-viz-3.0_2.12-1.1.0-incubating.jar', '--additional-python-modules: plotly-express,datashader,apache-sedona,geopandas,shapely,geojson,dask[dataframe],folium']\n"
     ]
    }
   ],
   "source": [
    "%status"
   ]
  },
  {
   "cell_type": "markdown",
   "id": "de290bb3-bb96-4764-bb7c-1c6e3c3676b5",
   "metadata": {},
   "source": [
    "## Configurations\n",
    "For reference/guidance on using sedona for geospatial analysis, see https://anant-sharma.medium.com/apache-sedona-geospark-using-pyspark-e60485318fbe"
   ]
  },
  {
   "cell_type": "code",
   "execution_count": null,
   "id": "13fd3cea-2d38-448f-89ab-a131b5d14cca",
   "metadata": {
    "execution": {
     "iopub.execute_input": "2024-12-05T12:48:13.125456Z",
     "iopub.status.busy": "2024-12-05T12:48:13.125109Z",
     "iopub.status.idle": "2024-12-05T12:48:14.600721Z",
     "shell.execute_reply": "2024-12-05T12:48:14.599939Z",
     "shell.execute_reply.started": "2024-12-05T12:48:13.125424Z"
    },
    "tags": []
   },
   "outputs": [
    {
     "name": "stdout",
     "output_type": "stream",
     "text": [
      "\n"
     ]
    }
   ],
   "source": [
    "# Initialize spark context and glue context to create glue job for analysis\n",
    "conf = SparkConf()\n",
    "conf.set(\"spark.serializer\", KryoSerializer.getName)\\\n",
    "    .set(\"spark.kryo.registrator\", SedonaKryoRegistrator.getName)\n",
    "sc = SparkContext.getOrCreate(conf=conf)\n",
    "glueContext = GlueContext(sc)\n",
    "spark = glueContext.spark_session\n",
    "job = Job(glueContext)"
   ]
  },
  {
   "cell_type": "code",
   "execution_count": null,
   "id": "a1c91638-c5d2-46b0-b591-96006e4ba771",
   "metadata": {
    "execution": {
     "iopub.execute_input": "2024-12-05T12:48:14.607734Z",
     "iopub.status.busy": "2024-12-05T12:48:14.603852Z",
     "iopub.status.idle": "2024-12-05T12:48:36.506547Z",
     "shell.execute_reply": "2024-12-05T12:48:36.505408Z",
     "shell.execute_reply.started": "2024-12-05T12:48:14.607702Z"
    }
   },
   "outputs": [
    {
     "name": "stdout",
     "output_type": "stream",
     "text": [
      "True\n"
     ]
    }
   ],
   "source": [
    "# Register spark with sedona\n",
    "SedonaRegistrator.registerAll(spark)"
   ]
  },
  {
   "cell_type": "code",
   "execution_count": null,
   "id": "7c25c7aa-d4dd-434b-a91a-f72022982400",
   "metadata": {
    "execution": {
     "iopub.execute_input": "2024-12-05T12:48:36.509055Z",
     "iopub.status.busy": "2024-12-05T12:48:36.508070Z",
     "iopub.status.idle": "2024-12-05T12:48:36.789603Z",
     "shell.execute_reply": "2024-12-05T12:48:36.788674Z",
     "shell.execute_reply.started": "2024-12-05T12:48:36.509022Z"
    },
    "tags": []
   },
   "outputs": [
    {
     "name": "stdout",
     "output_type": "stream",
     "text": [
      "\n"
     ]
    }
   ],
   "source": [
    "spark.conf.set(\"spark.sql.files.ignoreCorruptFiles\", \"true\")\n",
    "spark.conf.set(\"spark.sql.parquet.enableVectorizedReader\", \"false\")\n",
    "spark.conf.set(\"spark.sql.broadcastTimeout\", \"1200\") # 1200 seconds = 20 minutes"
   ]
  },
  {
   "cell_type": "code",
   "execution_count": null,
   "id": "57048349-6961-4bf6-acd4-f35ba8df792f",
   "metadata": {
    "execution": {
     "iopub.execute_input": "2024-12-05T12:48:36.791379Z",
     "iopub.status.busy": "2024-12-05T12:48:36.790722Z",
     "iopub.status.idle": "2024-12-05T12:48:38.268396Z",
     "shell.execute_reply": "2024-12-05T12:48:38.267585Z",
     "shell.execute_reply.started": "2024-12-05T12:48:36.791346Z"
    },
    "tags": []
   },
   "outputs": [
    {
     "name": "stdout",
     "output_type": "stream",
     "text": [
      "\n"
     ]
    }
   ],
   "source": [
    "s3_client = boto3.client('s3')"
   ]
  },
  {
   "cell_type": "code",
   "execution_count": null,
   "id": "4bf66aed-208f-4814-9786-5623ba886756",
   "metadata": {
    "execution": {
     "iopub.execute_input": "2024-12-05T12:48:38.269979Z",
     "iopub.status.busy": "2024-12-05T12:48:38.269608Z",
     "iopub.status.idle": "2024-12-05T12:48:38.547735Z",
     "shell.execute_reply": "2024-12-05T12:48:38.546757Z",
     "shell.execute_reply.started": "2024-12-05T12:48:38.269946Z"
    }
   },
   "outputs": [
    {
     "name": "stdout",
     "output_type": "stream",
     "text": [
      "\n"
     ]
    }
   ],
   "source": [
    "sns.set_style('darkgrid')"
   ]
  },
  {
   "cell_type": "markdown",
   "id": "8b5cdfb7-d163-447b-9b1d-af285fd799b7",
   "metadata": {},
   "source": [
    "## Load the Data"
   ]
  },
  {
   "cell_type": "markdown",
   "id": "c6b8e520-bf5e-423b-bfc5-0bf67639529a",
   "metadata": {},
   "source": [
    "### Track Points\n",
    "Loading OpenSky Network data.\n",
    "* Flight Recorder Data: `s3://endurasoft-dev-risk-framework/opensky-network/track-points/`"
   ]
  },
  {
   "cell_type": "code",
   "execution_count": 7,
   "id": "59698802-3dd4-4daa-8a29-16ac33267edf",
   "metadata": {
    "execution": {
     "iopub.execute_input": "2024-12-05T12:48:38.549625Z",
     "iopub.status.busy": "2024-12-05T12:48:38.548945Z",
     "iopub.status.idle": "2024-12-05T12:50:52.424763Z",
     "shell.execute_reply": "2024-12-05T12:50:52.423501Z",
     "shell.execute_reply.started": "2024-12-05T12:48:38.549595Z"
    },
    "tags": []
   },
   "outputs": [
    {
     "name": "stdout",
     "output_type": "stream",
     "text": [
      "root\n",
      " |-- time: timestamp (nullable = true)\n",
      " |-- icao24: string (nullable = true)\n",
      " |-- lat: double (nullable = true)\n",
      " |-- lon: double (nullable = true)\n",
      " |-- velocity: double (nullable = true)\n",
      " |-- heading: double (nullable = true)\n",
      " |-- vertrate: double (nullable = true)\n",
      " |-- callsign: string (nullable = true)\n",
      " |-- onground: integer (nullable = true)\n",
      " |-- alert: integer (nullable = true)\n",
      " |-- spi: integer (nullable = true)\n",
      " |-- baroaltitude: double (nullable = true)\n",
      " |-- geoaltitude: double (nullable = true)\n",
      " |-- lastposupdate: double (nullable = true)\n",
      " |-- lastcontact: double (nullable = true)\n",
      " |-- serials: array (nullable = true)\n",
      " |    |-- element: long (containsNull = true)\n",
      " |-- day_of_week: string (nullable = true)\n",
      " |-- daynum_of_week: integer (nullable = true)\n",
      " |-- month_name: string (nullable = true)\n"
     ]
    }
   ],
   "source": [
    "# NOTE: Loading 2024-08-01 through 2024-09-30 for proof of concept purposes.\n",
    "# track_points_df = spark.read.parquet(\"s3://endurasoft-dev-risk-framework/opensky-network/track-points/year=*/month=*/day=*/hour=*/*.parquet\")            # Full dataset\n",
    "# track_points_df = spark.read.parquet(\"s3://endurasoft-dev-risk-framework/opensky-network/track-points/year=2024/month=*/day=*/hour=*/*.parquet\")         # 1 year from full dataset\n",
    "# track_points_df = spark.read.parquet(\"s3://endurasoft-dev-risk-framework/opensky-network/track-points/year=2024/month=[8-9]/day=*/hour=*/*.parquet\")     # 2 months from full dataset\n",
    "# track_points_df = spark.read.parquet(\"s3://endurasoft-dev-risk-framework/datasets/track-points/year=*/month=*/day=*/hour=*/*.parquet\")                   # Sample dataset (sync with uas sightings)\n",
    "# track_points_df = spark.read.parquet('s3://endurasoft-dev-risk-framework/datasets/sampled-track-points/year=2024/month=[8-9]/day=*/hour=*/*.parquet')    # 2 months from sample dataset\n",
    "track_points_df = spark.read.parquet(\"s3://endurasoft-dev-risk-framework/datasets/grid-ceiling-track-points/year=2024/month=[7-9]/day=*/hour=*/*.parquet\") # 3 months from grid ceiling track points\n",
    "track_points_df.printSchema()"
   ]
  },
  {
   "cell_type": "code",
   "execution_count": 8,
   "id": "825eb671-3a73-4891-bdfa-21273dd0a1eb",
   "metadata": {
    "execution": {
     "iopub.execute_input": "2024-12-05T12:50:52.428344Z",
     "iopub.status.busy": "2024-12-05T12:50:52.427666Z",
     "iopub.status.idle": "2024-12-05T12:50:53.749296Z",
     "shell.execute_reply": "2024-12-05T12:50:53.748456Z",
     "shell.execute_reply.started": "2024-12-05T12:50:52.428308Z"
    }
   },
   "outputs": [
    {
     "name": "stdout",
     "output_type": "stream",
     "text": [
      "DataFrame[time: timestamp, icao24: string, lat: double, lon: double, velocity: double, heading: double, vertrate: double, callsign: string, onground: int, alert: int, spi: int, baroaltitude: double, geoaltitude: double, lastposupdate: double, lastcontact: double, serials: array<bigint>, day_of_week: string, daynum_of_week: int, month_name: string]\n"
     ]
    }
   ],
   "source": [
    "# NOTE: Full dataset is too large to persist; must target smaller subset to persist\n",
    "track_points_df.persist()"
   ]
  },
  {
   "cell_type": "code",
   "execution_count": 9,
   "id": "39352ff1-6522-4946-a287-e0160ada4956",
   "metadata": {
    "execution": {
     "iopub.execute_input": "2024-12-05T12:50:53.755992Z",
     "iopub.status.busy": "2024-12-05T12:50:53.755464Z",
     "iopub.status.idle": "2024-12-05T12:52:30.312908Z",
     "shell.execute_reply": "2024-12-05T12:52:30.311958Z",
     "shell.execute_reply.started": "2024-12-05T12:50:53.755966Z"
    }
   },
   "outputs": [
    {
     "name": "stdout",
     "output_type": "stream",
     "text": [
      "\n"
     ]
    }
   ],
   "source": [
    "track_points_count = track_points_df.count()"
   ]
  },
  {
   "cell_type": "code",
   "execution_count": 10,
   "id": "52efdbb5-3708-4fdc-8ee1-0dad85884146",
   "metadata": {
    "execution": {
     "iopub.execute_input": "2024-12-05T12:52:30.314831Z",
     "iopub.status.busy": "2024-12-05T12:52:30.313947Z",
     "iopub.status.idle": "2024-12-05T12:52:30.563037Z",
     "shell.execute_reply": "2024-12-05T12:52:30.562253Z",
     "shell.execute_reply.started": "2024-12-05T12:52:30.314798Z"
    }
   },
   "outputs": [
    {
     "name": "stdout",
     "output_type": "stream",
     "text": [
      "Total track points: 27,362,475\n"
     ]
    }
   ],
   "source": [
    "print(f'Total track points: {track_points_count:,}')"
   ]
  },
  {
   "cell_type": "markdown",
   "id": "1a35e6d0-3b14-46ab-9fb6-0dde4d592748",
   "metadata": {},
   "source": [
    "**Observation:** After syncing with UAS sightings data (later step), sampling the track points to reduce density (later step), and loading only the last two months, we have sufficiently reduced the dataset such that the memory footprint is small enough to persist in memory and disk."
   ]
  },
  {
   "cell_type": "markdown",
   "id": "24fddd1e-109a-48e5-8e62-6b815b300ae8",
   "metadata": {},
   "source": [
    "### UAS Sightings\n",
    "Loading UAS sightings reports converted to tabular format.\n",
    "* `s3://endurasoft-dev-risk-framework/datasets/uas_sightings_reports/zero_shot/uas_sightings.parquet`"
   ]
  },
  {
   "cell_type": "code",
   "execution_count": null,
   "id": "cf0b2806-324c-415d-87b2-493a347e747c",
   "metadata": {
    "execution": {
     "iopub.execute_input": "2024-12-05T12:52:30.564210Z",
     "iopub.status.busy": "2024-12-05T12:52:30.563905Z",
     "iopub.status.idle": "2024-12-05T12:52:31.864844Z",
     "shell.execute_reply": "2024-12-05T12:52:31.864009Z",
     "shell.execute_reply.started": "2024-12-05T12:52:30.564155Z"
    }
   },
   "outputs": [
    {
     "name": "stdout",
     "output_type": "stream",
     "text": [
      "root\n",
      " |-- id: long (nullable = true)\n",
      " |-- report_date: string (nullable = true)\n",
      " |-- city: string (nullable = true)\n",
      " |-- state: string (nullable = true)\n",
      " |-- report_narrative: string (nullable = true)\n",
      " |-- timestamp: string (nullable = true)\n",
      " |-- latitude: double (nullable = true)\n",
      " |-- longitude: double (nullable = true)\n",
      " |-- altitude: long (nullable = true)\n",
      " |-- uncertainty: string (nullable = true)\n"
     ]
    }
   ],
   "source": [
    "uas_sightings_df = spark.read.parquet(\"s3://endurasoft-dev-risk-framework/datasets/uas_sightings_reports/zero_shot/uas_sightings.parquet\")\n",
    "uas_sightings_df.printSchema()"
   ]
  },
  {
   "cell_type": "code",
   "execution_count": null,
   "id": "a857d0d8-30c5-42c3-80ba-ec14450d4f55",
   "metadata": {
    "execution": {
     "iopub.execute_input": "2024-12-05T12:52:31.865695Z",
     "iopub.status.busy": "2024-12-05T12:52:31.865444Z",
     "iopub.status.idle": "2024-12-05T12:52:32.256810Z",
     "shell.execute_reply": "2024-12-05T12:52:32.255727Z",
     "shell.execute_reply.started": "2024-12-05T12:52:31.865671Z"
    }
   },
   "outputs": [
    {
     "name": "stdout",
     "output_type": "stream",
     "text": [
      "DataFrame[id: bigint, report_date: string, city: string, state: string, report_narrative: string, timestamp: string, latitude: double, longitude: double, altitude: bigint, uncertainty: string]\n"
     ]
    }
   ],
   "source": [
    "uas_sightings_df.persist()"
   ]
  },
  {
   "cell_type": "markdown",
   "id": "3a68b1f2-b33f-4928-a86a-b7bec9618432",
   "metadata": {},
   "source": [
    "### UAS Facility Maps (UASFM) Grids\n",
    "Loading UAS Facility Map (UASFM) grids data. This data should be fused with UAS sightings data and track points data for risk analysis.\n",
    "* `s3://endurasoft-dev-risk-framework/datasets/uasfm_grids/FAA_UAS_FacilityMap_Data.parquet`\n",
    "* `s3://endurasoft-dev-risk-framework/datasets/uasfm_grids/FAA_UAS_FacilityMap_Data/FAA_UAS_FacilityMap_Data.shp`"
   ]
  },
  {
   "cell_type": "code",
   "execution_count": 13,
   "id": "8d255b4a-d2ba-4a4f-aeba-bfa93ee36a62",
   "metadata": {
    "execution": {
     "iopub.execute_input": "2024-12-05T12:52:32.259993Z",
     "iopub.status.busy": "2024-12-05T12:52:32.259639Z",
     "iopub.status.idle": "2024-12-05T13:00:24.199511Z",
     "shell.execute_reply": "2024-12-05T13:00:24.198690Z",
     "shell.execute_reply.started": "2024-12-05T12:52:32.259964Z"
    }
   },
   "outputs": [
    {
     "name": "stdout",
     "output_type": "stream",
     "text": [
      "\n"
     ]
    }
   ],
   "source": [
    "# uasfm_df = spark.read.parquet(\"s3://endurasoft-dev-risk-framework/datasets/uasfm_grids/FAA_UAS_FacilityMap_Data.parquet\")\n",
    "# uasfm_df = spark.read.format(\"shapefile\").load('s3://endurasoft-dev-risk-framework/datasets/uasfm_grids/FAA_UAS_FacilityMap_Data/FAA_UAS_FacilityMap_Data.shp')\n",
    "# uasfm_rdd = ShapefileReader.readToGeometryRDD(sc, \"s3://endurasoft-dev-risk-framework/datasets/uasfm_grids/FAA_UAS_FacilityMap_Data/\")\n",
    "# uasfm_rdd = GeoJsonReader.readToGeometryRDD(sc, \"s3://endurasoft-dev-risk-framework/datasets/uasfm_grids/FAA_UAS_FacilityMap_Data.geojson\")\n",
    "# uasfm_df = spark.read.json(\"s3://endurasoft-dev-risk-framework/datasets/uasfm_grids/FAA_UAS_FacilityMap_Data.geojson\")\n",
    "uasfm_geo_df = gpd.read_file('s3://endurasoft-dev-risk-framework/datasets/uasfm_grids/FAA_UAS_FacilityMap_Data.geojson')"
   ]
  },
  {
   "cell_type": "code",
   "execution_count": 14,
   "id": "f1fdd942-0133-4648-9a90-8e99ff20337b",
   "metadata": {
    "execution": {
     "iopub.execute_input": "2024-12-05T13:00:24.200782Z",
     "iopub.status.busy": "2024-12-05T13:00:24.200504Z",
     "iopub.status.idle": "2024-12-05T13:00:30.972623Z",
     "shell.execute_reply": "2024-12-05T13:00:30.971724Z",
     "shell.execute_reply.started": "2024-12-05T13:00:24.200753Z"
    }
   },
   "outputs": [
    {
     "name": "stdout",
     "output_type": "stream",
     "text": [
      "\n"
     ]
    }
   ],
   "source": [
    "# Convert geometry to wkt for pyspark support\n",
    "uasfm_geo_df['wkt'] = uasfm_geo_df['geometry'].apply(lambda geom: geom.wkt)"
   ]
  },
  {
   "cell_type": "code",
   "execution_count": 15,
   "id": "4e266a61-ac3e-4630-91c4-e9df36acaf9e",
   "metadata": {
    "execution": {
     "iopub.execute_input": "2024-12-05T13:00:30.974323Z",
     "iopub.status.busy": "2024-12-05T13:00:30.973611Z",
     "iopub.status.idle": "2024-12-05T13:00:32.297469Z",
     "shell.execute_reply": "2024-12-05T13:00:32.296782Z",
     "shell.execute_reply.started": "2024-12-05T13:00:30.974289Z"
    }
   },
   "outputs": [
    {
     "name": "stdout",
     "output_type": "stream",
     "text": [
      "\n"
     ]
    }
   ],
   "source": [
    "# Get rid of geometry column now that we have a wkt column that represents it\n",
    "uasfm_geo_df.drop('geometry', axis=1, inplace=True)"
   ]
  },
  {
   "cell_type": "code",
   "execution_count": 16,
   "id": "021985ff-1e1f-4874-842b-dc004848c226",
   "metadata": {
    "execution": {
     "iopub.execute_input": "2024-12-05T13:00:32.299072Z",
     "iopub.status.busy": "2024-12-05T13:00:32.298545Z",
     "iopub.status.idle": "2024-12-05T13:00:33.605220Z",
     "shell.execute_reply": "2024-12-05T13:00:33.604456Z",
     "shell.execute_reply.started": "2024-12-05T13:00:32.299025Z"
    },
    "scrolled": true
   },
   "outputs": [
    {
     "name": "stdout",
     "output_type": "stream",
     "text": [
      "<class 'geopandas.geodataframe.GeoDataFrame'>\n",
      "RangeIndex: 376569 entries, 0 to 376568\n",
      "Data columns (total 46 columns):\n",
      " #   Column           Non-Null Count   Dtype  \n",
      "---  ------           --------------   -----  \n",
      " 0   OBJECTID         376569 non-null  int64  \n",
      " 1   CEILING          376569 non-null  int64  \n",
      " 2   UNIT             376569 non-null  object \n",
      " 3   MAP_EFF          376569 non-null  object \n",
      " 4   LAST_EDIT        376569 non-null  object \n",
      " 5   LATITUDE         376569 non-null  float64\n",
      " 6   LONGITUDE        376569 non-null  float64\n",
      " 7   GLOBALID         376569 non-null  object \n",
      " 8   ARPT_COUNT       376569 non-null  int64  \n",
      " 9   APT1_FAAID       376569 non-null  object \n",
      " 10  APT1_ICAO        376569 non-null  object \n",
      " 11  APT1_NAME        376569 non-null  object \n",
      " 12  APT1_LAANC       376569 non-null  int64  \n",
      " 13  APT2_FAAID       376569 non-null  object \n",
      " 14  APT2_ICAO        376569 non-null  object \n",
      " 15  APT2_NAME        376569 non-null  object \n",
      " 16  APT2_LAANC       3636 non-null    float64\n",
      " 17  APT3_FAAID       376569 non-null  object \n",
      " 18  APT3_ICAO        376569 non-null  object \n",
      " 19  APT3_NAME        376569 non-null  object \n",
      " 20  APT3_LAANC       705 non-null     float64\n",
      " 21  APT4_FAAID       376569 non-null  object \n",
      " 22  APT4_ICAO        376569 non-null  object \n",
      " 23  APT4_NAME        376569 non-null  object \n",
      " 24  APT4_LAANC       0 non-null       object \n",
      " 25  APT5_FAAID       376569 non-null  object \n",
      " 26  APT5_ICAO        376569 non-null  object \n",
      " 27  APT5_NAME        376569 non-null  object \n",
      " 28  APT5_LAANC       0 non-null       object \n",
      " 29  AIRS_COUNT       376569 non-null  int64  \n",
      " 30  AIRSPACE_1       376569 non-null  object \n",
      " 31  AIRSPACE_2       376569 non-null  object \n",
      " 32  AIRSPACE_3       376569 non-null  object \n",
      " 33  AIRSPACE_4       376569 non-null  object \n",
      " 34  AIRSPACE_5       376569 non-null  object \n",
      " 35  REGION           376569 non-null  object \n",
      " 36  APT1_Enabled     376569 non-null  object \n",
      " 37  APT2_Enabled     376569 non-null  object \n",
      " 38  APT3_Enabled     376569 non-null  object \n",
      " 39  APT4_Enabled     376569 non-null  object \n",
      " 40  APT5_Enabled     376569 non-null  object \n",
      " 41  Shape__Length    0 non-null       object \n",
      " 42  Shape__Area      0 non-null       object \n",
      " 43  Shape__Area_2    376569 non-null  float64\n",
      " 44  Shape__Length_2  376569 non-null  float64\n",
      " 45  wkt              376569 non-null  object \n",
      "dtypes: float64(6), int64(5), object(35)\n",
      "memory usage: 132.2+ MB\n"
     ]
    }
   ],
   "source": [
    "uasfm_geo_df.info()"
   ]
  },
  {
   "cell_type": "code",
   "execution_count": 17,
   "id": "ed37b167-7f83-461d-9649-b69751f62064",
   "metadata": {
    "execution": {
     "iopub.execute_input": "2024-12-05T13:00:33.611862Z",
     "iopub.status.busy": "2024-12-05T13:00:33.606967Z",
     "iopub.status.idle": "2024-12-05T13:00:33.892760Z",
     "shell.execute_reply": "2024-12-05T13:00:33.891836Z",
     "shell.execute_reply.started": "2024-12-05T13:00:33.611822Z"
    },
    "scrolled": true
   },
   "outputs": [
    {
     "name": "stdout",
     "output_type": "stream",
     "text": [
      "                                                                 0\n",
      "OBJECTID                                                         1\n",
      "CEILING                                                        400\n",
      "UNIT                                                          Feet\n",
      "MAP_EFF                                                 11/28/2024\n",
      "LAST_EDIT                                                9/23/2020\n",
      "LATITUDE                                                 41.679174\n",
      "LONGITUDE                                               -70.320839\n",
      "GLOBALID                      c7df8c7b-3ede-4dc8-ae2c-68b12ce85a52\n",
      "ARPT_COUNT                                                       1\n",
      "APT1_FAAID                                                     HYA\n",
      "APT1_ICAO                                                     KHYA\n",
      "APT1_NAME                                         Cape Cod Gateway\n",
      "APT1_LAANC                                                       1\n",
      "APT2_FAAID                                                        \n",
      "APT2_ICAO                                                         \n",
      "APT2_NAME                                                         \n",
      "APT2_LAANC                                                     NaN\n",
      "APT3_FAAID                                                        \n",
      "APT3_ICAO                                                         \n",
      "APT3_NAME                                                         \n",
      "APT3_LAANC                                                     NaN\n",
      "APT4_FAAID                                                        \n",
      "APT4_ICAO                                                         \n",
      "APT4_NAME                                                         \n",
      "APT4_LAANC                                                    None\n",
      "APT5_FAAID                                                        \n",
      "APT5_ICAO                                                         \n",
      "APT5_NAME                                                         \n",
      "APT5_LAANC                                                    None\n",
      "AIRS_COUNT                                                       1\n",
      "AIRSPACE_1                                                       D\n",
      "AIRSPACE_2                                                        \n",
      "AIRSPACE_3                                                        \n",
      "AIRSPACE_4                                                        \n",
      "AIRSPACE_5                                                        \n",
      "REGION                                                     Eastern\n",
      "APT1_Enabled                                107-AA,107-FC,44809-AA\n",
      "APT2_Enabled                                                      \n",
      "APT3_Enabled                                                      \n",
      "APT4_Enabled                                                      \n",
      "APT5_Enabled                                                      \n",
      "Shape__Length                                                 None\n",
      "Shape__Area                                                   None\n",
      "Shape__Area_2                                             0.000069\n",
      "Shape__Length_2                                           0.033333\n",
      "wkt              POLYGON Z ((-70.3250052120622 41.6750069843554...\n"
     ]
    }
   ],
   "source": [
    "uasfm_geo_df.head(1).T"
   ]
  },
  {
   "cell_type": "code",
   "execution_count": 18,
   "id": "7e541bee-7a5a-4a0a-9ff2-381678c535db",
   "metadata": {
    "execution": {
     "iopub.execute_input": "2024-12-05T13:00:33.894082Z",
     "iopub.status.busy": "2024-12-05T13:00:33.893753Z",
     "iopub.status.idle": "2024-12-05T13:00:34.108401Z",
     "shell.execute_reply": "2024-12-05T13:00:34.107562Z",
     "shell.execute_reply.started": "2024-12-05T13:00:33.894051Z"
    }
   },
   "outputs": [
    {
     "name": "stdout",
     "output_type": "stream",
     "text": [
      "\n"
     ]
    }
   ],
   "source": [
    "pd_to_spark_type_map = {\n",
    "    'int64': T.IntegerType(),\n",
    "    'object': T.StringType(),\n",
    "    'float64': T.FloatType(),\n",
    "}"
   ]
  },
  {
   "cell_type": "code",
   "execution_count": 19,
   "id": "c85b9cdf-b274-4994-926e-fc64b7d1c1b4",
   "metadata": {
    "execution": {
     "iopub.execute_input": "2024-12-05T13:00:34.111027Z",
     "iopub.status.busy": "2024-12-05T13:00:34.109430Z",
     "iopub.status.idle": "2024-12-05T13:00:34.320526Z",
     "shell.execute_reply": "2024-12-05T13:00:34.319375Z",
     "shell.execute_reply.started": "2024-12-05T13:00:34.110966Z"
    }
   },
   "outputs": [
    {
     "name": "stdout",
     "output_type": "stream",
     "text": [
      "\n"
     ]
    }
   ],
   "source": [
    "uasfm_schema_types = []\n",
    "for col, dtype in zip(uasfm_geo_df.columns, uasfm_geo_df.dtypes):\n",
    "    # print(col, dtype, pd_to_spark_type_map.get(str(dtype)))\n",
    "    spark_dtype = pd_to_spark_type_map.get(str(dtype))\n",
    "    uasfm_schema_types.append(T.StructField(col, spark_dtype, True))"
   ]
  },
  {
   "cell_type": "code",
   "execution_count": 20,
   "id": "e1880c93-7089-483f-b2e4-08193a52fcd2",
   "metadata": {
    "execution": {
     "iopub.execute_input": "2024-12-05T13:00:34.322321Z",
     "iopub.status.busy": "2024-12-05T13:00:34.321660Z",
     "iopub.status.idle": "2024-12-05T13:00:34.541251Z",
     "shell.execute_reply": "2024-12-05T13:00:34.540510Z",
     "shell.execute_reply.started": "2024-12-05T13:00:34.322288Z"
    }
   },
   "outputs": [
    {
     "name": "stdout",
     "output_type": "stream",
     "text": [
      "\n"
     ]
    }
   ],
   "source": [
    "# Create schema for pyspark conversion\n",
    "uasfm_schema = T.StructType(uasfm_schema_types)"
   ]
  },
  {
   "cell_type": "code",
   "execution_count": 21,
   "id": "6574efda-6060-4053-aa17-df847c46864e",
   "metadata": {
    "execution": {
     "iopub.execute_input": "2024-12-05T13:00:34.545741Z",
     "iopub.status.busy": "2024-12-05T13:00:34.544492Z",
     "iopub.status.idle": "2024-12-05T13:00:50.168687Z",
     "shell.execute_reply": "2024-12-05T13:00:50.167714Z",
     "shell.execute_reply.started": "2024-12-05T13:00:34.545708Z"
    }
   },
   "outputs": [
    {
     "name": "stdout",
     "output_type": "stream",
     "text": [
      "\n"
     ]
    }
   ],
   "source": [
    "# Convert geopandas to pyspark\n",
    "uasfm_df = spark.createDataFrame(uasfm_geo_df, schema=uasfm_schema)"
   ]
  },
  {
   "cell_type": "code",
   "execution_count": 22,
   "id": "f943a598-877a-4dff-803b-4f94bc965608",
   "metadata": {
    "execution": {
     "iopub.execute_input": "2024-12-05T13:00:50.169732Z",
     "iopub.status.busy": "2024-12-05T13:00:50.169462Z",
     "iopub.status.idle": "2024-12-05T13:00:50.385410Z",
     "shell.execute_reply": "2024-12-05T13:00:50.384724Z",
     "shell.execute_reply.started": "2024-12-05T13:00:50.169704Z"
    },
    "scrolled": true
   },
   "outputs": [
    {
     "name": "stdout",
     "output_type": "stream",
     "text": [
      "root\n",
      " |-- OBJECTID: integer (nullable = true)\n",
      " |-- CEILING: integer (nullable = true)\n",
      " |-- UNIT: string (nullable = true)\n",
      " |-- MAP_EFF: string (nullable = true)\n",
      " |-- LAST_EDIT: string (nullable = true)\n",
      " |-- LATITUDE: float (nullable = true)\n",
      " |-- LONGITUDE: float (nullable = true)\n",
      " |-- GLOBALID: string (nullable = true)\n",
      " |-- ARPT_COUNT: integer (nullable = true)\n",
      " |-- APT1_FAAID: string (nullable = true)\n",
      " |-- APT1_ICAO: string (nullable = true)\n",
      " |-- APT1_NAME: string (nullable = true)\n",
      " |-- APT1_LAANC: integer (nullable = true)\n",
      " |-- APT2_FAAID: string (nullable = true)\n",
      " |-- APT2_ICAO: string (nullable = true)\n",
      " |-- APT2_NAME: string (nullable = true)\n",
      " |-- APT2_LAANC: float (nullable = true)\n",
      " |-- APT3_FAAID: string (nullable = true)\n",
      " |-- APT3_ICAO: string (nullable = true)\n",
      " |-- APT3_NAME: string (nullable = true)\n",
      " |-- APT3_LAANC: float (nullable = true)\n",
      " |-- APT4_FAAID: string (nullable = true)\n",
      " |-- APT4_ICAO: string (nullable = true)\n",
      " |-- APT4_NAME: string (nullable = true)\n",
      " |-- APT4_LAANC: string (nullable = true)\n",
      " |-- APT5_FAAID: string (nullable = true)\n",
      " |-- APT5_ICAO: string (nullable = true)\n",
      " |-- APT5_NAME: string (nullable = true)\n",
      " |-- APT5_LAANC: string (nullable = true)\n",
      " |-- AIRS_COUNT: integer (nullable = true)\n",
      " |-- AIRSPACE_1: string (nullable = true)\n",
      " |-- AIRSPACE_2: string (nullable = true)\n",
      " |-- AIRSPACE_3: string (nullable = true)\n",
      " |-- AIRSPACE_4: string (nullable = true)\n",
      " |-- AIRSPACE_5: string (nullable = true)\n",
      " |-- REGION: string (nullable = true)\n",
      " |-- APT1_Enabled: string (nullable = true)\n",
      " |-- APT2_Enabled: string (nullable = true)\n",
      " |-- APT3_Enabled: string (nullable = true)\n",
      " |-- APT4_Enabled: string (nullable = true)\n",
      " |-- APT5_Enabled: string (nullable = true)\n",
      " |-- Shape__Length: string (nullable = true)\n",
      " |-- Shape__Area: string (nullable = true)\n",
      " |-- Shape__Area_2: float (nullable = true)\n",
      " |-- Shape__Length_2: float (nullable = true)\n",
      " |-- wkt: string (nullable = true)\n"
     ]
    }
   ],
   "source": [
    "uasfm_df.printSchema()"
   ]
  },
  {
   "cell_type": "code",
   "execution_count": 23,
   "id": "fa094aa3-f04d-4ce9-9015-765fe79a43a4",
   "metadata": {
    "execution": {
     "iopub.execute_input": "2024-12-05T13:00:50.387147Z",
     "iopub.status.busy": "2024-12-05T13:00:50.386420Z",
     "iopub.status.idle": "2024-12-05T13:00:50.592272Z",
     "shell.execute_reply": "2024-12-05T13:00:50.591220Z",
     "shell.execute_reply.started": "2024-12-05T13:00:50.387118Z"
    }
   },
   "outputs": [
    {
     "name": "stdout",
     "output_type": "stream",
     "text": [
      "\n"
     ]
    }
   ],
   "source": [
    "# Convert WKT back to geometry using sedona\n",
    "uasfm_df = uasfm_df.withColumn(\"geometry\", F.expr(\"ST_GeomFromWKT(wkt)\"))"
   ]
  },
  {
   "cell_type": "code",
   "execution_count": 24,
   "id": "b2b661fe-5ae5-4d8e-8eb1-309cf302cd9b",
   "metadata": {
    "execution": {
     "iopub.execute_input": "2024-12-05T13:00:50.593869Z",
     "iopub.status.busy": "2024-12-05T13:00:50.593319Z",
     "iopub.status.idle": "2024-12-05T13:00:50.812024Z",
     "shell.execute_reply": "2024-12-05T13:00:50.811010Z",
     "shell.execute_reply.started": "2024-12-05T13:00:50.593820Z"
    },
    "scrolled": true
   },
   "outputs": [
    {
     "name": "stdout",
     "output_type": "stream",
     "text": [
      "root\n",
      " |-- OBJECTID: integer (nullable = true)\n",
      " |-- CEILING: integer (nullable = true)\n",
      " |-- UNIT: string (nullable = true)\n",
      " |-- MAP_EFF: string (nullable = true)\n",
      " |-- LAST_EDIT: string (nullable = true)\n",
      " |-- LATITUDE: float (nullable = true)\n",
      " |-- LONGITUDE: float (nullable = true)\n",
      " |-- GLOBALID: string (nullable = true)\n",
      " |-- ARPT_COUNT: integer (nullable = true)\n",
      " |-- APT1_FAAID: string (nullable = true)\n",
      " |-- APT1_ICAO: string (nullable = true)\n",
      " |-- APT1_NAME: string (nullable = true)\n",
      " |-- APT1_LAANC: integer (nullable = true)\n",
      " |-- APT2_FAAID: string (nullable = true)\n",
      " |-- APT2_ICAO: string (nullable = true)\n",
      " |-- APT2_NAME: string (nullable = true)\n",
      " |-- APT2_LAANC: float (nullable = true)\n",
      " |-- APT3_FAAID: string (nullable = true)\n",
      " |-- APT3_ICAO: string (nullable = true)\n",
      " |-- APT3_NAME: string (nullable = true)\n",
      " |-- APT3_LAANC: float (nullable = true)\n",
      " |-- APT4_FAAID: string (nullable = true)\n",
      " |-- APT4_ICAO: string (nullable = true)\n",
      " |-- APT4_NAME: string (nullable = true)\n",
      " |-- APT4_LAANC: string (nullable = true)\n",
      " |-- APT5_FAAID: string (nullable = true)\n",
      " |-- APT5_ICAO: string (nullable = true)\n",
      " |-- APT5_NAME: string (nullable = true)\n",
      " |-- APT5_LAANC: string (nullable = true)\n",
      " |-- AIRS_COUNT: integer (nullable = true)\n",
      " |-- AIRSPACE_1: string (nullable = true)\n",
      " |-- AIRSPACE_2: string (nullable = true)\n",
      " |-- AIRSPACE_3: string (nullable = true)\n",
      " |-- AIRSPACE_4: string (nullable = true)\n",
      " |-- AIRSPACE_5: string (nullable = true)\n",
      " |-- REGION: string (nullable = true)\n",
      " |-- APT1_Enabled: string (nullable = true)\n",
      " |-- APT2_Enabled: string (nullable = true)\n",
      " |-- APT3_Enabled: string (nullable = true)\n",
      " |-- APT4_Enabled: string (nullable = true)\n",
      " |-- APT5_Enabled: string (nullable = true)\n",
      " |-- Shape__Length: string (nullable = true)\n",
      " |-- Shape__Area: string (nullable = true)\n",
      " |-- Shape__Area_2: float (nullable = true)\n",
      " |-- Shape__Length_2: float (nullable = true)\n",
      " |-- wkt: string (nullable = true)\n",
      " |-- geometry: geometry (nullable = false)\n"
     ]
    }
   ],
   "source": [
    "uasfm_df.printSchema()"
   ]
  },
  {
   "cell_type": "code",
   "execution_count": 25,
   "id": "b3f14e83-64f7-467d-97f5-0e221c5b4172",
   "metadata": {
    "execution": {
     "iopub.execute_input": "2024-12-05T13:00:50.814030Z",
     "iopub.status.busy": "2024-12-05T13:00:50.813106Z",
     "iopub.status.idle": "2024-12-05T13:00:51.124614Z",
     "shell.execute_reply": "2024-12-05T13:00:51.123535Z",
     "shell.execute_reply.started": "2024-12-05T13:00:50.813919Z"
    }
   },
   "outputs": [
    {
     "name": "stdout",
     "output_type": "stream",
     "text": [
      "DataFrame[OBJECTID: int, CEILING: int, UNIT: string, MAP_EFF: string, LAST_EDIT: string, LATITUDE: float, LONGITUDE: float, GLOBALID: string, ARPT_COUNT: int, APT1_FAAID: string, APT1_ICAO: string, APT1_NAME: string, APT1_LAANC: int, APT2_FAAID: string, APT2_ICAO: string, APT2_NAME: string, APT2_LAANC: float, APT3_FAAID: string, APT3_ICAO: string, APT3_NAME: string, APT3_LAANC: float, APT4_FAAID: string, APT4_ICAO: string, APT4_NAME: string, APT4_LAANC: string, APT5_FAAID: string, APT5_ICAO: string, APT5_NAME: string, APT5_LAANC: string, AIRS_COUNT: int, AIRSPACE_1: string, AIRSPACE_2: string, AIRSPACE_3: string, AIRSPACE_4: string, AIRSPACE_5: string, REGION: string, APT1_Enabled: string, APT2_Enabled: string, APT3_Enabled: string, APT4_Enabled: string, APT5_Enabled: string, Shape__Length: string, Shape__Area: string, Shape__Area_2: float, Shape__Length_2: float, wkt: string, geometry: udt]\n"
     ]
    }
   ],
   "source": [
    "uasfm_df.persist()"
   ]
  },
  {
   "cell_type": "code",
   "execution_count": 26,
   "id": "a02d3d04-c129-44cb-b54a-4c7fd42ece3a",
   "metadata": {
    "execution": {
     "iopub.execute_input": "2024-12-05T13:00:51.126091Z",
     "iopub.status.busy": "2024-12-05T13:00:51.125781Z",
     "iopub.status.idle": "2024-12-05T13:00:56.766729Z",
     "shell.execute_reply": "2024-12-05T13:00:56.764480Z",
     "shell.execute_reply.started": "2024-12-05T13:00:51.126061Z"
    },
    "scrolled": true
   },
   "outputs": [
    {
     "name": "stdout",
     "output_type": "stream",
     "text": [
      "-RECORD 0---------------------------------------------------------------------------------------------------------------------------------------------------------------------------------------------------------------------\n",
      " OBJECTID        | 1                                                                                                                                                                                                          \n",
      " CEILING         | 400                                                                                                                                                                                                        \n",
      " UNIT            | Feet                                                                                                                                                                                                       \n",
      " MAP_EFF         | 11/28/2024                                                                                                                                                                                                 \n",
      " LAST_EDIT       | 9/23/2020                                                                                                                                                                                                  \n",
      " LATITUDE        | 41.679173                                                                                                                                                                                                  \n",
      " LONGITUDE       | -70.32084                                                                                                                                                                                                  \n",
      " GLOBALID        | c7df8c7b-3ede-4dc8-ae2c-68b12ce85a52                                                                                                                                                                       \n",
      " ARPT_COUNT      | 1                                                                                                                                                                                                          \n",
      " APT1_FAAID      | HYA                                                                                                                                                                                                        \n",
      " APT1_ICAO       | KHYA                                                                                                                                                                                                       \n",
      " APT1_NAME       | Cape Cod Gateway                                                                                                                                                                                           \n",
      " APT1_LAANC      | 1                                                                                                                                                                                                          \n",
      " APT2_FAAID      |                                                                                                                                                                                                            \n",
      " APT2_ICAO       |                                                                                                                                                                                                            \n",
      " APT2_NAME       |                                                                                                                                                                                                            \n",
      " APT2_LAANC      | NaN                                                                                                                                                                                                        \n",
      " APT3_FAAID      |                                                                                                                                                                                                            \n",
      " APT3_ICAO       |                                                                                                                                                                                                            \n",
      " APT3_NAME       |                                                                                                                                                                                                            \n",
      " APT3_LAANC      | NaN                                                                                                                                                                                                        \n",
      " APT4_FAAID      |                                                                                                                                                                                                            \n",
      " APT4_ICAO       |                                                                                                                                                                                                            \n",
      " APT4_NAME       |                                                                                                                                                                                                            \n",
      " APT4_LAANC      | null                                                                                                                                                                                                       \n",
      " APT5_FAAID      |                                                                                                                                                                                                            \n",
      " APT5_ICAO       |                                                                                                                                                                                                            \n",
      " APT5_NAME       |                                                                                                                                                                                                            \n",
      " APT5_LAANC      | null                                                                                                                                                                                                       \n",
      " AIRS_COUNT      | 1                                                                                                                                                                                                          \n",
      " AIRSPACE_1      | D                                                                                                                                                                                                          \n",
      " AIRSPACE_2      |                                                                                                                                                                                                            \n",
      " AIRSPACE_3      |                                                                                                                                                                                                            \n",
      " AIRSPACE_4      |                                                                                                                                                                                                            \n",
      " AIRSPACE_5      |                                                                                                                                                                                                            \n",
      " REGION          | Eastern                                                                                                                                                                                                    \n",
      " APT1_Enabled    | 107-AA,107-FC,44809-AA                                                                                                                                                                                     \n",
      " APT2_Enabled    |                                                                                                                                                                                                            \n",
      " APT3_Enabled    |                                                                                                                                                                                                            \n",
      " APT4_Enabled    |                                                                                                                                                                                                            \n",
      " APT5_Enabled    |                                                                                                                                                                                                            \n",
      " Shape__Length   | null                                                                                                                                                                                                       \n",
      " Shape__Area     | null                                                                                                                                                                                                       \n",
      " Shape__Area_2   | 6.944447E-5                                                                                                                                                                                                \n",
      " Shape__Length_2 | 0.03333334                                                                                                                                                                                                 \n",
      " wkt             | POLYGON Z ((-70.3250052120622 41.6750069843554 0, -70.3250052120622 41.6833403186508 0, -70.3166718767669 41.6833403186508 0, -70.3166718767669 41.6750069843554 0, -70.3250052120622 41.6750069843554 0)) \n",
      " geometry        | POLYGON ((-70.3250052120622 41.6750069843554, -70.3250052120622 41.6833403186508, -70.3166718767669 41.6833403186508, -70.3166718767669 41.6750069843554, -70.3250052120622 41.6750069843554))             \n",
      "only showing top 1 row\n"
     ]
    }
   ],
   "source": [
    "# Show results\n",
    "uasfm_df.show(n=1, vertical=True, truncate=False)"
   ]
  },
  {
   "cell_type": "code",
   "execution_count": 27,
   "id": "c21871d9-3955-4371-800c-c9b9e4fe4053",
   "metadata": {
    "execution": {
     "iopub.execute_input": "2024-12-05T13:00:56.773888Z",
     "iopub.status.busy": "2024-12-05T13:00:56.773282Z",
     "iopub.status.idle": "2024-12-05T13:01:01.364119Z",
     "shell.execute_reply": "2024-12-05T13:01:01.359010Z",
     "shell.execute_reply.started": "2024-12-05T13:00:56.773856Z"
    }
   },
   "outputs": [
    {
     "name": "stdout",
     "output_type": "stream",
     "text": [
      "\n"
     ]
    }
   ],
   "source": [
    "uasfm_grids_count = uasfm_df.count()"
   ]
  },
  {
   "cell_type": "code",
   "execution_count": 28,
   "id": "73fe6aa6-87bb-4986-8d73-91082d3dbd75",
   "metadata": {
    "execution": {
     "iopub.execute_input": "2024-12-05T13:01:01.371614Z",
     "iopub.status.busy": "2024-12-05T13:01:01.370973Z",
     "iopub.status.idle": "2024-12-05T13:01:01.617185Z",
     "shell.execute_reply": "2024-12-05T13:01:01.615996Z",
     "shell.execute_reply.started": "2024-12-05T13:01:01.371571Z"
    }
   },
   "outputs": [
    {
     "name": "stdout",
     "output_type": "stream",
     "text": [
      "UASFM grids count: 376,569\n"
     ]
    }
   ],
   "source": [
    "print(f'UASFM grids count: {uasfm_grids_count:,}')"
   ]
  },
  {
   "cell_type": "markdown",
   "id": "aee0e885-d85d-44c2-9c26-995dc645226e",
   "metadata": {},
   "source": [
    "## Exploratory Data Analysis (EDA)"
   ]
  },
  {
   "cell_type": "code",
   "execution_count": 29,
   "id": "ac26f421-d38e-475b-b190-4901597198db",
   "metadata": {
    "execution": {
     "iopub.execute_input": "2024-12-05T13:01:01.629535Z",
     "iopub.status.busy": "2024-12-05T13:01:01.618133Z",
     "iopub.status.idle": "2024-12-05T13:01:01.927593Z",
     "shell.execute_reply": "2024-12-05T13:01:01.923126Z",
     "shell.execute_reply.started": "2024-12-05T13:01:01.629476Z"
    },
    "tags": []
   },
   "outputs": [
    {
     "name": "stdout",
     "output_type": "stream",
     "text": [
      "\n"
     ]
    }
   ],
   "source": [
    "def clean_column_names(df: DataFrame) -> DataFrame:\n",
    "    \"\"\"\n",
    "    Rename columns by lowercasing them and replacing spaces, dots, and forward slashes with underscores.\n",
    "\n",
    "    Args:\n",
    "        df (DataFrame): Spark dataframe to clean column names.\n",
    "\n",
    "    Returns:\n",
    "        DataFrame: New Spark dataframe with cleaned column names.\n",
    "    \"\"\"\n",
    "    # Convert column names to lowercase and replace spaces, dots, and forward slashes with underscores\n",
    "    return df.toDF(*[ re.sub(r'[ \\.\\/]+', '_', c.lower()) for c in df.columns ])"
   ]
  },
  {
   "cell_type": "code",
   "execution_count": 30,
   "id": "909abe68-0fe3-4f98-95c4-3b20722140d8",
   "metadata": {
    "execution": {
     "iopub.execute_input": "2024-12-05T13:01:01.932981Z",
     "iopub.status.busy": "2024-12-05T13:01:01.932319Z",
     "iopub.status.idle": "2024-12-05T13:01:02.181091Z",
     "shell.execute_reply": "2024-12-05T13:01:02.180052Z",
     "shell.execute_reply.started": "2024-12-05T13:01:01.932944Z"
    },
    "tags": []
   },
   "outputs": [
    {
     "name": "stdout",
     "output_type": "stream",
     "text": [
      "\n"
     ]
    }
   ],
   "source": [
    "# Create function to show more information on missing values\n",
    "def get_missing_values(df: DataFrame) -> DataFrame:\n",
    "    \"\"\"\n",
    "    Create a dataframe to represent the missing values in the original dataframe.\n",
    "\n",
    "    Args:\n",
    "        df (DataFrame): Original dataframe to identify missing values.\n",
    "\n",
    "    Returns:\n",
    "        DataFrame: New dataframe representing a report of missing values in original dataframe.\n",
    "    \"\"\"\n",
    "    total_records = df.count()\n",
    "    \n",
    "    # For each column, calculate the total missing, available, ratio, and percentage of missing values\n",
    "    missing_stats = []\n",
    "    \n",
    "    for column in df.columns:\n",
    "        total_missing = df.select(F.count(F.when(F.col(column).isNull(), column)).alias(\"total_missing\")).collect()[0][0]\n",
    "        total_available = total_records - total_missing\n",
    "        ratio_missing = total_missing / total_records\n",
    "        percent_missing = round(ratio_missing * 100, 1)\n",
    "        \n",
    "        missing_stats.append({\n",
    "            'column': column,\n",
    "            'total_missing': total_missing,\n",
    "            'total_available': total_available,\n",
    "            'ratio_missing': round(ratio_missing, 4),\n",
    "            'percent_missing': f'{percent_missing}%'\n",
    "        })\n",
    "    \n",
    "    # Create a DataFrame from the list of dictionaries\n",
    "    result_df = df.sql_ctx.createDataFrame(missing_stats)\n",
    "    \n",
    "    # Ensure correct column order\n",
    "    return result_df.select(['column', 'total_missing', 'total_available', 'ratio_missing', 'percent_missing'])"
   ]
  },
  {
   "cell_type": "code",
   "execution_count": 31,
   "id": "073599e5-6838-4c94-ab39-849dc1caa780",
   "metadata": {
    "execution": {
     "iopub.execute_input": "2024-12-05T13:01:02.187546Z",
     "iopub.status.busy": "2024-12-05T13:01:02.186811Z",
     "iopub.status.idle": "2024-12-05T13:01:02.449421Z",
     "shell.execute_reply": "2024-12-05T13:01:02.444866Z",
     "shell.execute_reply.started": "2024-12-05T13:01:02.187507Z"
    },
    "tags": []
   },
   "outputs": [
    {
     "name": "stdout",
     "output_type": "stream",
     "text": [
      "\n"
     ]
    }
   ],
   "source": [
    "def get_unique_values(df: DataFrame) -> DataFrame:\n",
    "    \"\"\"\n",
    "    Get unique values for each column in provided Spark dataframe.\n",
    "\n",
    "    Args:\n",
    "        df (DataFrame): Spark dataframe to identify unique values.\n",
    "\n",
    "    Returns:\n",
    "        DataFrame: Spark dataframe representing unique values.\n",
    "    \"\"\"\n",
    "    # NOTE: Can use approx_count_distinct (see https://stackoverflow.com/a/53764762)\n",
    "    return df.agg(*(F.countDistinct(F.col(c)).alias(c) for c in df.columns))"
   ]
  },
  {
   "cell_type": "code",
   "execution_count": 32,
   "id": "215f7c4c-fb9d-44b5-b88f-ca28cc7b8db4",
   "metadata": {
    "execution": {
     "iopub.execute_input": "2024-12-05T13:01:02.459592Z",
     "iopub.status.busy": "2024-12-05T13:01:02.450906Z",
     "iopub.status.idle": "2024-12-05T13:01:02.697549Z",
     "shell.execute_reply": "2024-12-05T13:01:02.696348Z",
     "shell.execute_reply.started": "2024-12-05T13:01:02.459532Z"
    }
   },
   "outputs": [
    {
     "name": "stdout",
     "output_type": "stream",
     "text": [
      "\n"
     ]
    }
   ],
   "source": [
    "def add_point_wkt(row: Row, lat_col: str, lon_col: str, alt_col: str, point_wkt_col: str='point_wkt') -> Row:\n",
    "    \"\"\"\n",
    "    Create 3D point geometry and capture its WKT string as a new column in provided row.\n",
    "\n",
    "    Args:\n",
    "        row (Row): Row containing relevant data to build 3D point.\n",
    "        lat_col (str): Name of column representing latitude.\n",
    "        lon_col (str): Name of column representing longitude.\n",
    "        alt_col (str): Name of column representing altitude.\n",
    "        point_wkt_col (str, optional): Name of column to be created for point wkt. Defaults to 'point_wkt'.\n",
    "\n",
    "    Returns:\n",
    "        Row: New row containing 3D point WKT string.\n",
    "    \"\"\"\n",
    "    dictRow = row.asDict()\n",
    "    lat = dictRow.get(lat_col)\n",
    "    lng = dictRow.get(lon_col)\n",
    "    alt = dictRow.get(alt_col, 0) # Set altitude to 0 if null to prevent errors\n",
    "    dictRow[point_wkt_col] = Point( lng, lat, alt ).wkt\n",
    "    newrow = Row(**dictRow)\n",
    "    return newrow"
   ]
  },
  {
   "cell_type": "code",
   "execution_count": 33,
   "id": "e2c6b523-2354-44ce-9589-3867015d7760",
   "metadata": {
    "execution": {
     "iopub.execute_input": "2024-12-05T13:01:02.702906Z",
     "iopub.status.busy": "2024-12-05T13:01:02.702630Z",
     "iopub.status.idle": "2024-12-05T13:01:02.909927Z",
     "shell.execute_reply": "2024-12-05T13:01:02.908296Z",
     "shell.execute_reply.started": "2024-12-05T13:01:02.702883Z"
    }
   },
   "outputs": [
    {
     "name": "stdout",
     "output_type": "stream",
     "text": [
      "\n"
     ]
    }
   ],
   "source": [
    "def generate_histplot(df: DataFrame, feature_col: str, bins: int=20, figsize: tuple=(12, 12), title: str=None):\n",
    "    \"\"\"\n",
    "    Create and display histogram plot using spark dataframe, based on a desired feature column.\n",
    "\n",
    "    **NOTE:** Must use \"%matplot plt\" to render plots in glue pyspark kernel. Include this magic directly after calling this function. For example:\n",
    "\n",
    "    ```python\n",
    "    generate_histplot(...)\n",
    "    %matplot plt\n",
    "    ```\n",
    "\n",
    "    Args:\n",
    "        df (DataFrame): Spark dataframe to identify feature and plot histogram for.\n",
    "        feature_col (str): Desired feature to create histogram for\n",
    "        bins (int, optional): Number of bins for the histogram. Defaults to 20.\n",
    "        figsize (tuple, optional): Size of the figure to plot. Defaults to (12, 12).\n",
    "        title (str, optional): Title of the plot. Defaults to None and uses default title, \"Distribution of {feature_col}\".\n",
    "    \"\"\"\n",
    "    # Analyze distribution of target feature\n",
    "    hist = df.select(feature_col).rdd.flatMap(lambda x: x).histogram(bins)\n",
    "\n",
    "    # Plot the histogram for barometric altitude\n",
    "    plt.figure(figsize=figsize)\n",
    "    hist_df = pd.DataFrame(\n",
    "        list(zip(*hist)),\n",
    "        columns=['bin', 'frequency']\n",
    "    )\n",
    "    hist_df['bin'] = hist_df['bin'].round(2)\n",
    "    hist_df.set_index('bin').plot(kind='bar')\n",
    "    plt.xlabel(None)\n",
    "    plt.xticks(rotation=45, ha='right')\n",
    "    plt.title(title or f'Distribution of {feature_col}')\n",
    "    plt.tight_layout()\n",
    "    plt.show()"
   ]
  },
  {
   "cell_type": "markdown",
   "id": "b32c4d13-a7b0-4e5c-bdd6-e0a3131caca2",
   "metadata": {},
   "source": [
    "### UASFM Grids\n",
    "Source: https://uas-faa.opendata.arcgis.com/datasets/faa::faa-uas-facilitymap-data/about"
   ]
  },
  {
   "cell_type": "code",
   "execution_count": 34,
   "id": "6c5ba2fd-1d00-45c5-922e-f5bc4e625179",
   "metadata": {
    "execution": {
     "iopub.execute_input": "2024-12-05T13:01:02.912156Z",
     "iopub.status.busy": "2024-12-05T13:01:02.911820Z",
     "iopub.status.idle": "2024-12-05T13:01:03.157508Z",
     "shell.execute_reply": "2024-12-05T13:01:03.153889Z",
     "shell.execute_reply.started": "2024-12-05T13:01:02.912125Z"
    }
   },
   "outputs": [
    {
     "name": "stdout",
     "output_type": "stream",
     "text": [
      "\n"
     ]
    }
   ],
   "source": [
    "uasfm_df = clean_column_names(uasfm_df)"
   ]
  },
  {
   "cell_type": "code",
   "execution_count": 35,
   "id": "c7d55605-7409-47ff-90ff-5c707b99778d",
   "metadata": {
    "execution": {
     "iopub.execute_input": "2024-12-05T13:01:03.163797Z",
     "iopub.status.busy": "2024-12-05T13:01:03.163403Z",
     "iopub.status.idle": "2024-12-05T13:01:03.390534Z",
     "shell.execute_reply": "2024-12-05T13:01:03.389438Z",
     "shell.execute_reply.started": "2024-12-05T13:01:03.163761Z"
    }
   },
   "outputs": [
    {
     "name": "stdout",
     "output_type": "stream",
     "text": [
      "\n"
     ]
    }
   ],
   "source": [
    "# Convert boolean columns to integer\n",
    "bool_cols = [col_name for col_name, col_type in uasfm_df.dtypes if col_type == \"boolean\"]\n",
    "\n",
    "# Convert boolean columns to integers\n",
    "for col_name in bool_cols:\n",
    "    uasfm_df = uasfm_df.withColumn(col_name, F.col(col_name).cast(T.IntegerType()))"
   ]
  },
  {
   "cell_type": "code",
   "execution_count": 36,
   "id": "a23f1f05-4c77-4404-984d-4ed7168b9610",
   "metadata": {
    "execution": {
     "iopub.execute_input": "2024-12-05T13:01:03.399479Z",
     "iopub.status.busy": "2024-12-05T13:01:03.393972Z",
     "iopub.status.idle": "2024-12-05T13:01:04.867533Z",
     "shell.execute_reply": "2024-12-05T13:01:04.866661Z",
     "shell.execute_reply.started": "2024-12-05T13:01:03.399417Z"
    },
    "scrolled": true
   },
   "outputs": [
    {
     "name": "stdout",
     "output_type": "stream",
     "text": [
      "-RECORD 0---------------------------------------------------------------------------------------------------------------------------------------------------------------------------------------------------------------------\n",
      " objectid        | 1                                                                                                                                                                                                          \n",
      " ceiling         | 400                                                                                                                                                                                                        \n",
      " unit            | Feet                                                                                                                                                                                                       \n",
      " map_eff         | 11/28/2024                                                                                                                                                                                                 \n",
      " last_edit       | 9/23/2020                                                                                                                                                                                                  \n",
      " latitude        | 41.679173                                                                                                                                                                                                  \n",
      " longitude       | -70.32084                                                                                                                                                                                                  \n",
      " globalid        | c7df8c7b-3ede-4dc8-ae2c-68b12ce85a52                                                                                                                                                                       \n",
      " arpt_count      | 1                                                                                                                                                                                                          \n",
      " apt1_faaid      | HYA                                                                                                                                                                                                        \n",
      " apt1_icao       | KHYA                                                                                                                                                                                                       \n",
      " apt1_name       | Cape Cod Gateway                                                                                                                                                                                           \n",
      " apt1_laanc      | 1                                                                                                                                                                                                          \n",
      " apt2_faaid      |                                                                                                                                                                                                            \n",
      " apt2_icao       |                                                                                                                                                                                                            \n",
      " apt2_name       |                                                                                                                                                                                                            \n",
      " apt2_laanc      | NaN                                                                                                                                                                                                        \n",
      " apt3_faaid      |                                                                                                                                                                                                            \n",
      " apt3_icao       |                                                                                                                                                                                                            \n",
      " apt3_name       |                                                                                                                                                                                                            \n",
      " apt3_laanc      | NaN                                                                                                                                                                                                        \n",
      " apt4_faaid      |                                                                                                                                                                                                            \n",
      " apt4_icao       |                                                                                                                                                                                                            \n",
      " apt4_name       |                                                                                                                                                                                                            \n",
      " apt4_laanc      | null                                                                                                                                                                                                       \n",
      " apt5_faaid      |                                                                                                                                                                                                            \n",
      " apt5_icao       |                                                                                                                                                                                                            \n",
      " apt5_name       |                                                                                                                                                                                                            \n",
      " apt5_laanc      | null                                                                                                                                                                                                       \n",
      " airs_count      | 1                                                                                                                                                                                                          \n",
      " airspace_1      | D                                                                                                                                                                                                          \n",
      " airspace_2      |                                                                                                                                                                                                            \n",
      " airspace_3      |                                                                                                                                                                                                            \n",
      " airspace_4      |                                                                                                                                                                                                            \n",
      " airspace_5      |                                                                                                                                                                                                            \n",
      " region          | Eastern                                                                                                                                                                                                    \n",
      " apt1_enabled    | 107-AA,107-FC,44809-AA                                                                                                                                                                                     \n",
      " apt2_enabled    |                                                                                                                                                                                                            \n",
      " apt3_enabled    |                                                                                                                                                                                                            \n",
      " apt4_enabled    |                                                                                                                                                                                                            \n",
      " apt5_enabled    |                                                                                                                                                                                                            \n",
      " shape__length   | null                                                                                                                                                                                                       \n",
      " shape__area     | null                                                                                                                                                                                                       \n",
      " shape__area_2   | 6.944447E-5                                                                                                                                                                                                \n",
      " shape__length_2 | 0.03333334                                                                                                                                                                                                 \n",
      " wkt             | POLYGON Z ((-70.3250052120622 41.6750069843554 0, -70.3250052120622 41.6833403186508 0, -70.3166718767669 41.6833403186508 0, -70.3166718767669 41.6750069843554 0, -70.3250052120622 41.6750069843554 0)) \n",
      " geometry        | POLYGON ((-70.3250052120622 41.6750069843554, -70.3250052120622 41.6833403186508, -70.3166718767669 41.6833403186508, -70.3166718767669 41.6750069843554, -70.3250052120622 41.6750069843554))             \n",
      "only showing top 1 row\n"
     ]
    }
   ],
   "source": [
    "uasfm_df.show(n=1, vertical=True, truncate=False)"
   ]
  },
  {
   "cell_type": "markdown",
   "id": "36221b1c-40d4-4f19-972d-9280410cc561",
   "metadata": {},
   "source": [
    "#### Analyze Ceiling Range"
   ]
  },
  {
   "cell_type": "code",
   "execution_count": 37,
   "id": "2025a12f-e5f7-46b0-9e59-52bcb1e6f71c",
   "metadata": {
    "execution": {
     "iopub.execute_input": "2024-12-05T13:01:04.868778Z",
     "iopub.status.busy": "2024-12-05T13:01:04.868487Z",
     "iopub.status.idle": "2024-12-05T13:01:06.209404Z",
     "shell.execute_reply": "2024-12-05T13:01:06.208101Z",
     "shell.execute_reply.started": "2024-12-05T13:01:04.868747Z"
    }
   },
   "outputs": [
    {
     "name": "stdout",
     "output_type": "stream",
     "text": [
      "+-------+-----------------+\n",
      "|summary|ceiling          |\n",
      "+-------+-----------------+\n",
      "|count  |376569           |\n",
      "|mean   |246.5857518807974|\n",
      "|stddev |160.637926423644 |\n",
      "|min    |0                |\n",
      "|max    |400              |\n",
      "+-------+-----------------+\n"
     ]
    }
   ],
   "source": [
    "uasfm_df.select('ceiling').describe().show(truncate=False)"
   ]
  },
  {
   "cell_type": "code",
   "execution_count": 38,
   "id": "4b44d383-5695-4117-a16c-d96c7a4e0a0f",
   "metadata": {
    "execution": {
     "iopub.execute_input": "2024-12-05T13:01:06.215257Z",
     "iopub.status.busy": "2024-12-05T13:01:06.211834Z",
     "iopub.status.idle": "2024-12-05T13:01:08.704608Z",
     "shell.execute_reply": "2024-12-05T13:01:08.703416Z",
     "shell.execute_reply.started": "2024-12-05T13:01:06.215215Z"
    }
   },
   "outputs": [
    {
     "name": "stdout",
     "output_type": "stream",
     "text": [
      "\n"
     ]
    }
   ],
   "source": [
    "# Get the min and max values of the 'age' column\n",
    "min_ceiling = uasfm_df.select(F.min(\"ceiling\")).collect()[0][0]\n",
    "max_ceiling = uasfm_df.select(F.max(\"ceiling\")).collect()[0][0]"
   ]
  },
  {
   "cell_type": "code",
   "execution_count": 39,
   "id": "27c79bd6-327d-4ae7-8a30-432ee81a1376",
   "metadata": {
    "execution": {
     "iopub.execute_input": "2024-12-05T13:01:08.708359Z",
     "iopub.status.busy": "2024-12-05T13:01:08.706445Z",
     "iopub.status.idle": "2024-12-05T13:01:08.898255Z",
     "shell.execute_reply": "2024-12-05T13:01:08.897232Z",
     "shell.execute_reply.started": "2024-12-05T13:01:08.708324Z"
    }
   },
   "outputs": [
    {
     "name": "stdout",
     "output_type": "stream",
     "text": [
      "Minimum Ceiling: 0\n",
      "Maximum Ceiling: 400\n"
     ]
    }
   ],
   "source": [
    "print(f'Minimum Ceiling: {min_ceiling:,}')\n",
    "print(f'Maximum Ceiling: {max_ceiling:,}')"
   ]
  },
  {
   "cell_type": "markdown",
   "id": "1f3fb636-1f6f-47a4-8963-e84641438c20",
   "metadata": {},
   "source": [
    "### UAS Sightings"
   ]
  },
  {
   "cell_type": "code",
   "execution_count": null,
   "id": "315f3634-955d-4643-bd3e-3899ccfbe0c7",
   "metadata": {
    "execution": {
     "iopub.execute_input": "2024-12-05T13:01:08.902762Z",
     "iopub.status.busy": "2024-12-05T13:01:08.900292Z",
     "iopub.status.idle": "2024-12-05T13:01:09.121402Z",
     "shell.execute_reply": "2024-12-05T13:01:09.120555Z",
     "shell.execute_reply.started": "2024-12-05T13:01:08.902720Z"
    },
    "tags": []
   },
   "outputs": [
    {
     "name": "stdout",
     "output_type": "stream",
     "text": [
      "\n"
     ]
    }
   ],
   "source": [
    "# Clean column names\n",
    "uas_sightings_df = clean_column_names(uas_sightings_df)"
   ]
  },
  {
   "cell_type": "code",
   "execution_count": null,
   "id": "bcc5e8b9-b247-4f1b-9068-8640efeb8184",
   "metadata": {
    "execution": {
     "iopub.execute_input": "2024-12-05T13:01:09.125416Z",
     "iopub.status.busy": "2024-12-05T13:01:09.125162Z",
     "iopub.status.idle": "2024-12-05T13:01:09.334659Z",
     "shell.execute_reply": "2024-12-05T13:01:09.333903Z",
     "shell.execute_reply.started": "2024-12-05T13:01:09.125396Z"
    },
    "tags": []
   },
   "outputs": [
    {
     "name": "stdout",
     "output_type": "stream",
     "text": [
      "\n"
     ]
    }
   ],
   "source": [
    "# Convert boolean columns to integer\n",
    "bool_cols = [col_name for col_name, col_type in uas_sightings_df.dtypes if col_type == \"boolean\"]\n",
    "\n",
    "# Convert boolean columns to integers\n",
    "for col_name in bool_cols:\n",
    "    uas_sightings_df = uas_sightings_df.withColumn(col_name, F.col(col_name).cast(T.IntegerType()))"
   ]
  },
  {
   "cell_type": "code",
   "execution_count": null,
   "id": "a67a7426-3280-417e-b0db-dd2d8f2e167d",
   "metadata": {
    "execution": {
     "iopub.execute_input": "2024-12-05T13:01:09.336676Z",
     "iopub.status.busy": "2024-12-05T13:01:09.335743Z",
     "iopub.status.idle": "2024-12-05T13:01:09.531785Z",
     "shell.execute_reply": "2024-12-05T13:01:09.530998Z",
     "shell.execute_reply.started": "2024-12-05T13:01:09.336645Z"
    },
    "tags": []
   },
   "outputs": [
    {
     "name": "stdout",
     "output_type": "stream",
     "text": [
      "DataFrame[id: bigint, report_date: string, city: string, state: string, report_narrative: string, timestamp: string, latitude: double, longitude: double, altitude: bigint, uncertainty: string]\n"
     ]
    }
   ],
   "source": [
    "uas_sightings_df.persist()"
   ]
  },
  {
   "cell_type": "code",
   "execution_count": null,
   "id": "6f6e4f88-555a-48b9-99b8-c0d59396d65a",
   "metadata": {
    "execution": {
     "iopub.execute_input": "2024-12-05T13:01:09.535236Z",
     "iopub.status.busy": "2024-12-05T13:01:09.532746Z",
     "iopub.status.idle": "2024-12-05T13:01:10.789012Z",
     "shell.execute_reply": "2024-12-05T13:01:10.788313Z",
     "shell.execute_reply.started": "2024-12-05T13:01:09.535197Z"
    },
    "scrolled": true,
    "tags": []
   },
   "outputs": [
    {
     "name": "stdout",
     "output_type": "stream",
     "text": [
      "-RECORD 0-------------------------------------------------------------------------------------------------------------------------------------------------------------------------------------------------------------------------------------------------------------------------------------------------------------------------------------------------------------------------------------------------------------------------------------------------------------\n",
      " id               | 2293                                                                                                                                                                                                                                                                                                                                                                                                                                              \n",
      " report_date      | 2023-06-01                                                                                                                                                                                                                                                                                                                                                                                                                                        \n",
      " city             | New york                                                                                                                                                                                                                                                                                                                                                                                                                                          \n",
      " state            | New york                                                                                                                                                                                                                                                                                                                                                                                                                                          \n",
      " report_narrative | Prelim information (INFO) from federal aviation administration (FAA) af operations (OPS): new york, ny / unmanned aircraft systems (UAS) sighting/late report 5-31 1548e/new york terminal radar approach control (TRACON) advised, bcs3, toronto, canada (CYYZ)-lga, reported black unmanned aircraft systems (UAS) 200 feet above aircraft (ACFT) while ssw bound at 4,000 feet 7 W lga.No evasive action reported.Nypd aviation unit notified. \n",
      " timestamp        | 2023-05-31T15:48:00Z                                                                                                                                                                                                                                                                                                                                                                                                                              \n",
      " latitude         | 40.7789                                                                                                                                                                                                                                                                                                                                                                                                                                           \n",
      " longitude        | -73.8739                                                                                                                                                                                                                                                                                                                                                                                                                                          \n",
      " altitude         | 4000                                                                                                                                                                                                                                                                                                                                                                                                                                              \n",
      " uncertainty      | medium                                                                                                                                                                                                                                                                                                                                                                                                                                            \n",
      "only showing top 1 row\n"
     ]
    }
   ],
   "source": [
    "uas_sightings_df.show(n=1, vertical=True, truncate=False)"
   ]
  },
  {
   "cell_type": "markdown",
   "id": "7e28fdf7-3bf7-4ca7-a8b6-a3f979e1d787",
   "metadata": {
    "jp-MarkdownHeadingCollapsed": true
   },
   "source": [
    "#### Descriptive Statistics"
   ]
  },
  {
   "cell_type": "code",
   "execution_count": null,
   "id": "c4841a78-58d9-482f-a40d-1f31be9b0832",
   "metadata": {
    "execution": {
     "iopub.execute_input": "2024-11-29T20:48:05.515789Z",
     "iopub.status.busy": "2024-11-29T20:48:05.515119Z",
     "iopub.status.idle": "2024-11-29T20:48:06.839249Z"
    },
    "scrolled": true,
    "tags": []
   },
   "outputs": [
    {
     "name": "stdout",
     "output_type": "stream",
     "text": [
      "-RECORD 0------------------------------------------------------------------------------------------------------------------------------------------------------------------------------------------------------------------------------------------------------------------------------------------------------------------------------------------------------------------------------------------------------------------------------------------------------------\n",
      " summary          | count                                                                                                                                                                                                                                                                                                                                                                                                                                            \n",
      " id               | 2274                                                                                                                                                                                                                                                                                                                                                                                                                                             \n",
      " report_date      | 2274                                                                                                                                                                                                                                                                                                                                                                                                                                             \n",
      " city             | 2274                                                                                                                                                                                                                                                                                                                                                                                                                                             \n",
      " state            | 2274                                                                                                                                                                                                                                                                                                                                                                                                                                             \n",
      " report_narrative | 2274                                                                                                                                                                                                                                                                                                                                                                                                                                             \n",
      " timestamp        | 2274                                                                                                                                                                                                                                                                                                                                                                                                                                             \n",
      " latitude         | 2274                                                                                                                                                                                                                                                                                                                                                                                                                                             \n",
      " longitude        | 2274                                                                                                                                                                                                                                                                                                                                                                                                                                             \n",
      " altitude         | 2274                                                                                                                                                                                                                                                                                                                                                                                                                                             \n",
      " uncertainty      | 2274                                                                                                                                                                                                                                                                                                                                                                                                                                             \n",
      "-RECORD 1------------------------------------------------------------------------------------------------------------------------------------------------------------------------------------------------------------------------------------------------------------------------------------------------------------------------------------------------------------------------------------------------------------------------------------------------------------\n",
      " summary          | mean                                                                                                                                                                                                                                                                                                                                                                                                                                             \n",
      " id               | 11881.92875989446                                                                                                                                                                                                                                                                                                                                                                                                                                \n",
      " report_date      | null                                                                                                                                                                                                                                                                                                                                                                                                                                             \n",
      " city             | null                                                                                                                                                                                                                                                                                                                                                                                                                                             \n",
      " state            | null                                                                                                                                                                                                                                                                                                                                                                                                                                             \n",
      " report_narrative | null                                                                                                                                                                                                                                                                                                                                                                                                                                             \n",
      " timestamp        | null                                                                                                                                                                                                                                                                                                                                                                                                                                             \n",
      " latitude         | 36.677300158751216                                                                                                                                                                                                                                                                                                                                                                                                                               \n",
      " longitude        | -91.21401611697424                                                                                                                                                                                                                                                                                                                                                                                                                               \n",
      " altitude         | 4166.023306948109                                                                                                                                                                                                                                                                                                                                                                                                                                \n",
      " uncertainty      | null                                                                                                                                                                                                                                                                                                                                                                                                                                             \n",
      "-RECORD 2------------------------------------------------------------------------------------------------------------------------------------------------------------------------------------------------------------------------------------------------------------------------------------------------------------------------------------------------------------------------------------------------------------------------------------------------------------\n",
      " summary          | stddev                                                                                                                                                                                                                                                                                                                                                                                                                                           \n",
      " id               | 4571.870108479387                                                                                                                                                                                                                                                                                                                                                                                                                                \n",
      " report_date      | null                                                                                                                                                                                                                                                                                                                                                                                                                                             \n",
      " city             | null                                                                                                                                                                                                                                                                                                                                                                                                                                             \n",
      " state            | null                                                                                                                                                                                                                                                                                                                                                                                                                                             \n",
      " report_narrative | null                                                                                                                                                                                                                                                                                                                                                                                                                                             \n",
      " timestamp        | null                                                                                                                                                                                                                                                                                                                                                                                                                                             \n",
      " latitude         | 5.612877542882799                                                                                                                                                                                                                                                                                                                                                                                                                                \n",
      " longitude        | 16.77236827490317                                                                                                                                                                                                                                                                                                                                                                                                                                \n",
      " altitude         | 4317.784375744883                                                                                                                                                                                                                                                                                                                                                                                                                                \n",
      " uncertainty      | null                                                                                                                                                                                                                                                                                                                                                                                                                                             \n",
      "-RECORD 3------------------------------------------------------------------------------------------------------------------------------------------------------------------------------------------------------------------------------------------------------------------------------------------------------------------------------------------------------------------------------------------------------------------------------------------------------------\n",
      " summary          | min                                                                                                                                                                                                                                                                                                                                                                                                                                              \n",
      " id               | 0                                                                                                                                                                                                                                                                                                                                                                                                                                                \n",
      " report_date      | 2023-06-01                                                                                                                                                                                                                                                                                                                                                                                                                                       \n",
      " city             | Abilene                                                                                                                                                                                                                                                                                                                                                                                                                                          \n",
      " state            | Alabama                                                                                                                                                                                                                                                                                                                                                                                                                                          \n",
      " report_narrative | (correction to flight number) prelim information (INFO) from federal aviation administration (FAA) af operations (OPS): new york, ny / unmanned aircraft systems (UAS) sighting/1557e/la guardia airport traffic control tower (ATCT) advised, crj9, clt-lga, observed a unmanned aircraft systems (UAS) on left side while northwest bound at 1,900 feet, 5 se lga.No injuries reported.No leo notification provided.                           \n",
      " timestamp        | 2020-06-21T00:00:00Z                                                                                                                                                                                                                                                                                                                                                                                                                             \n",
      " latitude         | 18.2                                                                                                                                                                                                                                                                                                                                                                                                                                             \n",
      " longitude        | -157.8583                                                                                                                                                                                                                                                                                                                                                                                                                                        \n",
      " altitude         | 0                                                                                                                                                                                                                                                                                                                                                                                                                                                \n",
      " uncertainty      | low                                                                                                                                                                                                                                                                                                                                                                                                                                              \n",
      "-RECORD 4------------------------------------------------------------------------------------------------------------------------------------------------------------------------------------------------------------------------------------------------------------------------------------------------------------------------------------------------------------------------------------------------------------------------------------------------------------\n",
      " summary          | max                                                                                                                                                                                                                                                                                                                                                                                                                                              \n",
      " id               | 17010                                                                                                                                                                                                                                                                                                                                                                                                                                            \n",
      " report_date      | 2024-09-30                                                                                                                                                                                                                                                                                                                                                                                                                                       \n",
      " city             | York                                                                                                                                                                                                                                                                                                                                                                                                                                             \n",
      " state            | Wyoming                                                                                                                                                                                                                                                                                                                                                                                                                                          \n",
      " report_narrative | [message status] information (INFO) from federal aviation administration (FAA) operations (OPS): newark, nj / unmanned aircraft systems (UAS) sighting/1054e/newark airport traffic control tower (ATCT) advised, a320, san juan, puerto rico (TJSJ)-ewr, reported a white unmanned aircraft systems (UAS) from the 9 of the clock position while sw bound at 800 feet 2 no earlier (NE) ewr.No evasive action taken.Port authority pd notified. \n",
      " timestamp        | 2024-09-30T15:12:00Z                                                                                                                                                                                                                                                                                                                                                                                                                             \n",
      " latitude         | 71.2923                                                                                                                                                                                                                                                                                                                                                                                                                                          \n",
      " longitude        | -64.9333                                                                                                                                                                                                                                                                                                                                                                                                                                         \n",
      " altitude         | 41000                                                                                                                                                                                                                                                                                                                                                                                                                                            \n",
      " uncertainty      | medium\n"
     ]
    }
   ],
   "source": [
    "uas_sightings_df.describe().show(n=len(uas_sightings_df.columns), vertical=True, truncate=False)"
   ]
  },
  {
   "cell_type": "markdown",
   "id": "d5616502-3eaa-4d48-88f1-63bdc44ded67",
   "metadata": {
    "jp-MarkdownHeadingCollapsed": true
   },
   "source": [
    "#### Date Range and Total Records"
   ]
  },
  {
   "cell_type": "code",
   "execution_count": null,
   "id": "2d81a77b-faf7-4310-9d28-0fe5916ea975",
   "metadata": {
    "execution": {
     "iopub.execute_input": "2024-12-04T00:25:05.579113Z",
     "iopub.status.busy": "2024-12-04T00:25:05.578839Z",
     "iopub.status.idle": "2024-12-04T00:25:06.891117Z",
     "shell.execute_reply": "2024-12-04T00:25:06.887976Z",
     "shell.execute_reply.started": "2024-12-04T00:25:05.579086Z"
    },
    "tags": []
   },
   "outputs": [
    {
     "name": "stdout",
     "output_type": "stream",
     "text": [
      "Start Date : 2023-06-01 00:00:00\n",
      "End Date   : 2024-09-30 00:00:00\n"
     ]
    }
   ],
   "source": [
    "# Analyze date range for dataset\n",
    "uas_sightings_df = uas_sightings_df.withColumn('report_date', F.to_timestamp('report_date'))\n",
    "\n",
    "# Get the start and end dates\n",
    "uas_sightings_start_date = uas_sightings_df.select(F.min(\"report_date\")).collect()[0][0]\n",
    "uas_sightings_end_date = uas_sightings_df.select(F.max(\"report_date\")).collect()[0][0]\n",
    "\n",
    "print(\"Start Date :\", uas_sightings_start_date)\n",
    "print(\"End Date   :\", uas_sightings_end_date)"
   ]
  },
  {
   "cell_type": "code",
   "execution_count": null,
   "id": "97812f38-db16-4ee1-beb2-3f82b21769df",
   "metadata": {
    "execution": {
     "iopub.execute_input": "2024-12-04T00:25:06.893452Z",
     "iopub.status.busy": "2024-12-04T00:25:06.892916Z",
     "iopub.status.idle": "2024-12-04T00:25:07.102648Z",
     "shell.execute_reply": "2024-12-04T00:25:07.101265Z",
     "shell.execute_reply.started": "2024-12-04T00:25:06.893422Z"
    },
    "tags": []
   },
   "outputs": [
    {
     "name": "stdout",
     "output_type": "stream",
     "text": [
      "UAS Sightings dataset spans 487 days (1.33 years)\n"
     ]
    }
   ],
   "source": [
    "uas_sightings_date_diff = uas_sightings_end_date - uas_sightings_start_date\n",
    "print(f'UAS Sightings dataset spans {uas_sightings_date_diff.days} days ({round(uas_sightings_date_diff.days/365, 2)} years)')"
   ]
  },
  {
   "cell_type": "code",
   "execution_count": null,
   "id": "e4588fe2-3cfe-48b0-80db-3e99ec54c440",
   "metadata": {
    "execution": {
     "iopub.execute_input": "2024-12-04T00:25:07.104792Z",
     "iopub.status.busy": "2024-12-04T00:25:07.103957Z",
     "iopub.status.idle": "2024-12-04T00:25:08.385429Z",
     "shell.execute_reply": "2024-12-04T00:25:08.384790Z",
     "shell.execute_reply.started": "2024-12-04T00:25:07.104760Z"
    },
    "tags": []
   },
   "outputs": [
    {
     "name": "stdout",
     "output_type": "stream",
     "text": [
      "Total UAS sightings records: 2,274\n"
     ]
    }
   ],
   "source": [
    "print(f'Total UAS sightings records: {uas_sightings_df.count():,}')"
   ]
  },
  {
   "cell_type": "markdown",
   "id": "bf58617c-9c82-4bf6-9a56-8ac21540303c",
   "metadata": {
    "jp-MarkdownHeadingCollapsed": true
   },
   "source": [
    "#### Analyze Nulls"
   ]
  },
  {
   "cell_type": "code",
   "execution_count": null,
   "id": "7a34a086-f404-46d3-a983-9794ee59dafb",
   "metadata": {
    "execution": {
     "iopub.execute_input": "2024-11-29T22:22:58.155635Z",
     "iopub.status.busy": "2024-11-29T22:22:58.155307Z",
     "iopub.status.idle": "2024-11-29T22:23:00.587721Z",
     "shell.execute_reply": "2024-11-29T22:23:00.585943Z",
     "shell.execute_reply.started": "2024-11-29T22:22:58.155611Z"
    },
    "tags": []
   },
   "outputs": [
    {
     "name": "stdout",
     "output_type": "stream",
     "text": [
      "+----------------+-------------+---------------+-------------+---------------+\n",
      "|column          |total_missing|total_available|ratio_missing|percent_missing|\n",
      "+----------------+-------------+---------------+-------------+---------------+\n",
      "|id              |0            |2274           |0.0          |0.0%           |\n",
      "|report_date     |0            |2274           |0.0          |0.0%           |\n",
      "|city            |0            |2274           |0.0          |0.0%           |\n",
      "|state           |0            |2274           |0.0          |0.0%           |\n",
      "|report_narrative|0            |2274           |0.0          |0.0%           |\n",
      "|timestamp       |0            |2274           |0.0          |0.0%           |\n",
      "|latitude        |0            |2274           |0.0          |0.0%           |\n",
      "|longitude       |0            |2274           |0.0          |0.0%           |\n",
      "|altitude        |0            |2274           |0.0          |0.0%           |\n",
      "|uncertainty     |0            |2274           |0.0          |0.0%           |\n",
      "+----------------+-------------+---------------+-------------+---------------+\n"
     ]
    }
   ],
   "source": [
    "uas_sightings_missing_values_report = get_missing_values(uas_sightings_df)\n",
    "uas_sightings_missing_values_report.show(n=len(uas_sightings_df.columns), truncate=False)"
   ]
  },
  {
   "cell_type": "markdown",
   "id": "e7a97ceb-a9fe-43d5-bc00-fdb0fc7e00fe",
   "metadata": {
    "jp-MarkdownHeadingCollapsed": true
   },
   "source": [
    "#### Analyze Uniqueness"
   ]
  },
  {
   "cell_type": "code",
   "execution_count": null,
   "id": "d9d9e4a1-8c3f-45fc-9c9c-fa864ba3d766",
   "metadata": {
    "execution": {
     "iopub.execute_input": "2024-11-29T22:23:03.013518Z",
     "iopub.status.busy": "2024-11-29T22:23:03.012956Z",
     "iopub.status.idle": "2024-11-29T22:23:04.595505Z",
     "shell.execute_reply": "2024-11-29T22:23:04.594636Z",
     "shell.execute_reply.started": "2024-11-29T22:23:03.013491Z"
    },
    "tags": []
   },
   "outputs": [
    {
     "name": "stdout",
     "output_type": "stream",
     "text": [
      "-RECORD 0----------------\n",
      " id               | 2274 \n",
      " report_date      | 467  \n",
      " city             | 430  \n",
      " state            | 56   \n",
      " report_narrative | 2268 \n",
      " timestamp        | 729  \n",
      " latitude         | 807  \n",
      " longitude        | 976  \n",
      " altitude         | 168  \n",
      " uncertainty      | 2\n"
     ]
    }
   ],
   "source": [
    "uas_sightings_unique_counts = get_unique_values(uas_sightings_df)\n",
    "uas_sightings_unique_counts.show(n=len(uas_sightings_df.columns), vertical=True, truncate=False)"
   ]
  },
  {
   "cell_type": "markdown",
   "id": "bb05968a-c010-445a-981e-0062dab7eee4",
   "metadata": {},
   "source": [
    "**Observation:** The majority of the features for UAS sightings are unique with the exception of a few features such as `state` and `uncertainty`. We could categorical encode these features but it is unnecessary for the scope of risk analysis."
   ]
  },
  {
   "cell_type": "markdown",
   "id": "56932b0f-18ff-4f29-8e0e-36185e91bf68",
   "metadata": {
    "jp-MarkdownHeadingCollapsed": true
   },
   "source": [
    "#### Analyze Sightings by Altitude Bins"
   ]
  },
  {
   "cell_type": "code",
   "execution_count": null,
   "id": "7b6224f0-329c-4cb7-9194-065e61b79a06",
   "metadata": {
    "execution": {
     "iopub.execute_input": "2024-11-30T13:18:59.275641Z",
     "iopub.status.busy": "2024-11-30T13:18:59.275388Z",
     "iopub.status.idle": "2024-11-30T13:18:59.493265Z",
     "shell.execute_reply": "2024-11-30T13:18:59.492571Z",
     "shell.execute_reply.started": "2024-11-30T13:18:59.275620Z"
    },
    "tags": []
   },
   "outputs": [
    {
     "name": "stdout",
     "output_type": "stream",
     "text": [
      "\n"
     ]
    }
   ],
   "source": [
    "alt_bins = [0, 150, 200, 250, 500, 750, 1000, 2500, 5000, 10000, float(\"inf\")]\n",
    "alt_labels = ['<150', '150-200', '200-250', '250-500', '500-750', '750-1000', '1000-2500', '2500-5000', '5000-10000', '>10000']"
   ]
  },
  {
   "cell_type": "code",
   "execution_count": null,
   "id": "a3b2c491-47c4-4322-8732-70f5a75ee11e",
   "metadata": {
    "execution": {
     "iopub.execute_input": "2024-11-30T13:18:59.495225Z",
     "iopub.status.busy": "2024-11-30T13:18:59.494552Z",
     "iopub.status.idle": "2024-11-30T13:19:00.819662Z",
     "shell.execute_reply": "2024-11-30T13:19:00.818805Z",
     "shell.execute_reply.started": "2024-11-30T13:18:59.495193Z"
    },
    "tags": []
   },
   "outputs": [
    {
     "name": "stdout",
     "output_type": "stream",
     "text": [
      "\n"
     ]
    }
   ],
   "source": [
    "# Create the altitude bins for altitude and aircraft_1_altitudeinfeet\n",
    "uas_sightings_df = uas_sightings_df.withColumn(\"altitude_bin\", \n",
    "                   F.when(F.col(\"altitude\") < alt_bins[1], alt_labels[0])\n",
    "                   .when((F.col(\"altitude\") >= alt_bins[1]) & (F.col(\"altitude\") < alt_bins[2]), alt_labels[1])\n",
    "                   .when((F.col(\"altitude\") >= alt_bins[2]) & (F.col(\"altitude\") < alt_bins[3]), alt_labels[2])\n",
    "                   .when((F.col(\"altitude\") >= alt_bins[3]) & (F.col(\"altitude\") < alt_bins[4]), alt_labels[3])\n",
    "                   .when((F.col(\"altitude\") >= alt_bins[4]) & (F.col(\"altitude\") < alt_bins[5]), alt_labels[4])\n",
    "                   .when((F.col(\"altitude\") >= alt_bins[5]) & (F.col(\"altitude\") < alt_bins[6]), alt_labels[5])\n",
    "                   .when((F.col(\"altitude\") >= alt_bins[6]) & (F.col(\"altitude\") < alt_bins[7]), alt_labels[6])\n",
    "                   .when((F.col(\"altitude\") >= alt_bins[7]) & (F.col(\"altitude\") < alt_bins[8]), alt_labels[7])\n",
    "                   .when((F.col(\"altitude\") >= alt_bins[8]) & (F.col(\"altitude\") < alt_bins[9]), alt_labels[8])\n",
    "                   .otherwise(alt_labels[9]))"
   ]
  },
  {
   "cell_type": "code",
   "execution_count": null,
   "id": "552bbdc6-13d7-4533-98b5-537506a80736",
   "metadata": {
    "execution": {
     "iopub.execute_input": "2024-11-30T13:21:56.875809Z",
     "iopub.status.busy": "2024-11-30T13:21:56.875349Z",
     "iopub.status.idle": "2024-11-30T13:21:59.312311Z",
     "shell.execute_reply": "2024-11-30T13:21:59.308197Z",
     "shell.execute_reply.started": "2024-11-30T13:21:56.875784Z"
    },
    "tags": []
   },
   "outputs": [
    {
     "name": "stdout",
     "output_type": "stream",
     "text": [
      "====================================================================================================\n",
      "UAS Sightings by Altitude Bins\n",
      "====================================================================================================\n",
      "+------------+---------------+\n",
      "|altitude_bin|sightings_count|\n",
      "+------------+---------------+\n",
      "|   1000-2500|            695|\n",
      "|   2500-5000|            588|\n",
      "|  5000-10000|            444|\n",
      "|      >10000|            225|\n",
      "|     500-750|            135|\n",
      "|    750-1000|             75|\n",
      "|     250-500|             64|\n",
      "|        <150|             25|\n",
      "|     200-250|             18|\n",
      "|     150-200|              5|\n",
      "+------------+---------------+\n"
     ]
    }
   ],
   "source": [
    "# Analyze event score by aircraft_0_altitude_bin\n",
    "print('='*100)\n",
    "print(f'UAS Sightings by Altitude Bins')\n",
    "print('='*100)\n",
    "uas_sightings_df.groupBy('altitude_bin').agg(\n",
    "    F.count('*').alias('sightings_count'),\n",
    ").orderBy(F.col('sightings_count').desc()).show()"
   ]
  },
  {
   "cell_type": "markdown",
   "id": "17eb908c-99b0-43d1-a393-af4adc03063d",
   "metadata": {},
   "source": [
    "#### Filter by Altitude to Match Grids Ceiling\n",
    "Filtering by altitude to match the min/max range of UASFM grid ceilings will ensure only the records of interest get analyzed for geospatial risk analysis."
   ]
  },
  {
   "cell_type": "code",
   "execution_count": null,
   "id": "dcbb4d81-32c1-4086-91e4-d85198cf169d",
   "metadata": {
    "execution": {
     "iopub.execute_input": "2024-12-05T13:01:10.792349Z",
     "iopub.status.busy": "2024-12-05T13:01:10.791528Z",
     "iopub.status.idle": "2024-12-05T13:01:11.114421Z",
     "shell.execute_reply": "2024-12-05T13:01:11.113491Z",
     "shell.execute_reply.started": "2024-12-05T13:01:10.792325Z"
    }
   },
   "outputs": [
    {
     "name": "stdout",
     "output_type": "stream",
     "text": [
      "\n"
     ]
    }
   ],
   "source": [
    "uas_sightings_df = uas_sightings_df.filter(uas_sightings_df[\"altitude\"].between(min_ceiling, max_ceiling))"
   ]
  },
  {
   "cell_type": "code",
   "execution_count": null,
   "id": "18ec3f90-11fd-4db8-b90b-20dd9ac20c61",
   "metadata": {
    "execution": {
     "iopub.execute_input": "2024-12-05T13:01:11.115954Z",
     "iopub.status.busy": "2024-12-05T13:01:11.115429Z",
     "iopub.status.idle": "2024-12-05T13:01:11.311526Z",
     "shell.execute_reply": "2024-12-05T13:01:11.310707Z",
     "shell.execute_reply.started": "2024-12-05T13:01:11.115924Z"
    }
   },
   "outputs": [
    {
     "name": "stdout",
     "output_type": "stream",
     "text": [
      "DataFrame[id: bigint, report_date: string, city: string, state: string, report_narrative: string, timestamp: string, latitude: double, longitude: double, altitude: bigint, uncertainty: string]\n"
     ]
    }
   ],
   "source": [
    "uas_sightings_df.persist()"
   ]
  },
  {
   "cell_type": "code",
   "execution_count": null,
   "id": "360b1229-9948-4b9e-bebc-6733eae1cb5f",
   "metadata": {
    "execution": {
     "iopub.execute_input": "2024-12-05T13:01:11.313594Z",
     "iopub.status.busy": "2024-12-05T13:01:11.312858Z",
     "iopub.status.idle": "2024-12-05T13:01:12.615775Z",
     "shell.execute_reply": "2024-12-05T13:01:12.614844Z",
     "shell.execute_reply.started": "2024-12-05T13:01:11.313563Z"
    }
   },
   "outputs": [
    {
     "name": "stdout",
     "output_type": "stream",
     "text": [
      "\n"
     ]
    }
   ],
   "source": [
    "filtered_uas_sightings_count = uas_sightings_df.count()"
   ]
  },
  {
   "cell_type": "code",
   "execution_count": null,
   "id": "2b4021c2-7038-48a8-ac28-e3308d54fb43",
   "metadata": {
    "execution": {
     "iopub.execute_input": "2024-12-05T13:01:12.618654Z",
     "iopub.status.busy": "2024-12-05T13:01:12.617746Z",
     "iopub.status.idle": "2024-12-05T13:01:12.845240Z",
     "shell.execute_reply": "2024-12-05T13:01:12.843765Z",
     "shell.execute_reply.started": "2024-12-05T13:01:12.618618Z"
    }
   },
   "outputs": [
    {
     "name": "stdout",
     "output_type": "stream",
     "text": [
      "Filtered UAS sightings count: 111\n"
     ]
    }
   ],
   "source": [
    "print(f'Filtered UAS sightings count: {filtered_uas_sightings_count:,}')"
   ]
  },
  {
   "cell_type": "markdown",
   "id": "bdb6826a-7347-4217-aa60-44f830638a50",
   "metadata": {},
   "source": [
    "#### Add Point Geometry for UAS Sightings"
   ]
  },
  {
   "cell_type": "code",
   "execution_count": null,
   "id": "49121a41-23df-4e0b-a693-2d46be2f5f0c",
   "metadata": {
    "execution": {
     "iopub.execute_input": "2024-12-05T13:01:12.848704Z",
     "iopub.status.busy": "2024-12-05T13:01:12.847169Z",
     "iopub.status.idle": "2024-12-05T13:01:14.165605Z",
     "shell.execute_reply": "2024-12-05T13:01:14.164899Z",
     "shell.execute_reply.started": "2024-12-05T13:01:12.848670Z"
    }
   },
   "outputs": [
    {
     "name": "stdout",
     "output_type": "stream",
     "text": [
      "\n"
     ]
    }
   ],
   "source": [
    "# Create schema for RDD\n",
    "uas_sightings_schema = T.StructType(list(uas_sightings_df.schema) + [T.StructField(\"point_wkt\", T.StringType(), True)])\n",
    "\n",
    "# Capture RDD\n",
    "uas_sightings_rdd = uas_sightings_df.rdd\n",
    "\n",
    "# Add point geometry\n",
    "uas_sightings_rdd = uas_sightings_rdd.map(lambda row: add_point_wkt(row, lat_col='latitude', lon_col='longitude', alt_col='altitude', point_wkt_col='point_wkt'))\n",
    "\n",
    "# Transform RDD with point geometry back to spark dataframe\n",
    "uas_sightings_df = spark.createDataFrame(uas_sightings_rdd, schema=uas_sightings_schema).persist()"
   ]
  },
  {
   "cell_type": "code",
   "execution_count": null,
   "id": "14a25444-3ca2-489f-bfe6-45c229df20e1",
   "metadata": {
    "execution": {
     "iopub.execute_input": "2024-12-05T13:01:14.167138Z",
     "iopub.status.busy": "2024-12-05T13:01:14.166558Z",
     "iopub.status.idle": "2024-12-05T13:01:14.380054Z",
     "shell.execute_reply": "2024-12-05T13:01:14.379196Z",
     "shell.execute_reply.started": "2024-12-05T13:01:14.167109Z"
    }
   },
   "outputs": [
    {
     "name": "stdout",
     "output_type": "stream",
     "text": [
      "\n"
     ]
    }
   ],
   "source": [
    "# Convert point WKT to geometry using sedona\n",
    "uas_sightings_df = uas_sightings_df.withColumn(\"point_geometry\", F.expr(\"ST_GeomFromWKT(point_wkt)\"))"
   ]
  },
  {
   "cell_type": "code",
   "execution_count": null,
   "id": "f2fed2bd-00b3-44f6-b115-3a5284b54226",
   "metadata": {
    "execution": {
     "iopub.execute_input": "2024-12-05T13:01:14.381272Z",
     "iopub.status.busy": "2024-12-05T13:01:14.381058Z",
     "iopub.status.idle": "2024-12-05T13:01:16.372054Z",
     "shell.execute_reply": "2024-12-05T13:01:16.371025Z",
     "shell.execute_reply.started": "2024-12-05T13:01:14.381252Z"
    }
   },
   "outputs": [
    {
     "name": "stdout",
     "output_type": "stream",
     "text": [
      "root\n",
      " |-- id: long (nullable = true)\n",
      " |-- report_date: string (nullable = true)\n",
      " |-- city: string (nullable = true)\n",
      " |-- state: string (nullable = true)\n",
      " |-- report_narrative: string (nullable = true)\n",
      " |-- timestamp: string (nullable = true)\n",
      " |-- latitude: double (nullable = true)\n",
      " |-- longitude: double (nullable = true)\n",
      " |-- altitude: long (nullable = true)\n",
      " |-- uncertainty: string (nullable = true)\n",
      " |-- point_wkt: string (nullable = true)\n",
      " |-- point_geometry: geometry (nullable = false)\n"
     ]
    }
   ],
   "source": [
    "uas_sightings_df.printSchema()"
   ]
  },
  {
   "cell_type": "code",
   "execution_count": null,
   "id": "926db0f0-9f02-46c7-be4f-feb1b1df2552",
   "metadata": {
    "execution": {
     "iopub.execute_input": "2024-12-05T13:01:16.374086Z",
     "iopub.status.busy": "2024-12-05T13:01:16.373511Z",
     "iopub.status.idle": "2024-12-05T13:01:17.660890Z",
     "shell.execute_reply": "2024-12-05T13:01:17.659253Z",
     "shell.execute_reply.started": "2024-12-05T13:01:16.374060Z"
    }
   },
   "outputs": [
    {
     "name": "stdout",
     "output_type": "stream",
     "text": [
      "-RECORD 0--------------------------------------------------------------------------------------------------------------------------------------------------------------------------------------------------------------------------------------------------------------------------------------------------------------------------------------------------------------------------------------------------------------------------------------------------------------------\n",
      " id               | 2308                                                                                                                                                                                                                                                                                                                                                                                                                                                     \n",
      " report_date      | 2023-06-03                                                                                                                                                                                                                                                                                                                                                                                                                                               \n",
      " city             | Philadelphia                                                                                                                                                                                                                                                                                                                                                                                                                                             \n",
      " state            | Pennsylvania                                                                                                                                                                                                                                                                                                                                                                                                                                             \n",
      " report_narrative | Prelim information (INFO) from federal aviation administration (FAA) operations (OPS): philadelphia, public address (PA) / unmanned aircraft systems (UAS) sighting/1145e/northeast philadelphia airport traffic control tower (ATCT) advised, piper p28a, reported a unmanned aircraft systems (UAS) from the 6 of the clock position while N bound holding short runway (RWY) 6 at taxiway (TWY) e1.Airport security notified.No impact to operations. \n",
      " timestamp        | 2023-06-03T00:00:00Z                                                                                                                                                                                                                                                                                                                                                                                                                                     \n",
      " latitude         | 40.0833                                                                                                                                                                                                                                                                                                                                                                                                                                                  \n",
      " longitude        | -75.0167                                                                                                                                                                                                                                                                                                                                                                                                                                                 \n",
      " altitude         | 100                                                                                                                                                                                                                                                                                                                                                                                                                                                      \n",
      " uncertainty      | medium                                                                                                                                                                                                                                                                                                                                                                                                                                                   \n",
      " point_wkt        | POINT Z (-75.0167 40.0833 100)                                                                                                                                                                                                                                                                                                                                                                                                                           \n",
      " point_geometry   | POINT (-75.0167 40.0833)                                                                                                                                                                                                                                                                                                                                                                                                                                 \n",
      "only showing top 1 row\n"
     ]
    }
   ],
   "source": [
    "uas_sightings_df.show(n=1, vertical=True, truncate=False)"
   ]
  },
  {
   "cell_type": "markdown",
   "id": "8af7ebf4-9be8-49f9-a2b2-65f6b610db91",
   "metadata": {},
   "source": [
    "**Observation:** Unfortunately, Apache Sedona does not support 3D point geometry and has automatically converted the 3D point WKT to a 2D point geomtry. Therefore, we will need to consider altitude as a separate clause during geospatial joins."
   ]
  },
  {
   "cell_type": "markdown",
   "id": "d340fffb-b32d-4ef2-acea-9e4eeb7e14e8",
   "metadata": {},
   "source": [
    "### Track Points"
   ]
  },
  {
   "cell_type": "code",
   "execution_count": 52,
   "id": "71ff704b-e644-4b1d-bdc7-810b92b5e1c6",
   "metadata": {
    "execution": {
     "iopub.execute_input": "2024-12-05T13:01:17.665472Z",
     "iopub.status.busy": "2024-12-05T13:01:17.663286Z",
     "iopub.status.idle": "2024-12-05T13:01:17.868180Z",
     "shell.execute_reply": "2024-12-05T13:01:17.867185Z",
     "shell.execute_reply.started": "2024-12-05T13:01:17.663618Z"
    },
    "tags": []
   },
   "outputs": [
    {
     "name": "stdout",
     "output_type": "stream",
     "text": [
      "\n"
     ]
    }
   ],
   "source": [
    "# Clean column names\n",
    "track_points_df = clean_column_names(track_points_df)"
   ]
  },
  {
   "cell_type": "code",
   "execution_count": 53,
   "id": "a031a5e5-9f60-419a-8125-435183579b86",
   "metadata": {
    "execution": {
     "iopub.execute_input": "2024-12-05T13:01:17.869677Z",
     "iopub.status.busy": "2024-12-05T13:01:17.869389Z",
     "iopub.status.idle": "2024-12-05T13:01:18.091068Z",
     "shell.execute_reply": "2024-12-05T13:01:18.090319Z",
     "shell.execute_reply.started": "2024-12-05T13:01:17.869647Z"
    },
    "tags": []
   },
   "outputs": [
    {
     "name": "stdout",
     "output_type": "stream",
     "text": [
      "\n"
     ]
    }
   ],
   "source": [
    "# Convert boolean columns to integer\n",
    "bool_cols = [col_name for col_name, col_type in track_points_df.dtypes if col_type == \"boolean\"]\n",
    "\n",
    "# Convert boolean columns to integers\n",
    "for col_name in bool_cols:\n",
    "    track_points_df = track_points_df.withColumn(col_name, F.col(col_name).cast(T.IntegerType()))"
   ]
  },
  {
   "cell_type": "code",
   "execution_count": 54,
   "id": "a2ba9180-c5a3-4dd1-9068-ebae6bc93878",
   "metadata": {
    "execution": {
     "iopub.execute_input": "2024-12-05T13:01:18.093221Z",
     "iopub.status.busy": "2024-12-05T13:01:18.092348Z",
     "iopub.status.idle": "2024-12-05T13:01:18.279950Z",
     "shell.execute_reply": "2024-12-05T13:01:18.279143Z",
     "shell.execute_reply.started": "2024-12-05T13:01:18.093188Z"
    },
    "tags": []
   },
   "outputs": [
    {
     "name": "stdout",
     "output_type": "stream",
     "text": [
      "DataFrame[time: timestamp, icao24: string, lat: double, lon: double, velocity: double, heading: double, vertrate: double, callsign: string, onground: int, alert: int, spi: int, baroaltitude: double, geoaltitude: double, lastposupdate: double, lastcontact: double, serials: array<bigint>, day_of_week: string, daynum_of_week: int, month_name: string]\n"
     ]
    }
   ],
   "source": [
    "# NOTE: Full dataset is too large to persist; must target smaller subset to persist\n",
    "track_points_df.persist()"
   ]
  },
  {
   "cell_type": "code",
   "execution_count": 55,
   "id": "753f8bde-1d64-4484-8586-29df3afa65c4",
   "metadata": {
    "execution": {
     "iopub.execute_input": "2024-12-05T13:01:18.281525Z",
     "iopub.status.busy": "2024-12-05T13:01:18.281075Z",
     "iopub.status.idle": "2024-12-05T13:01:21.729284Z",
     "shell.execute_reply": "2024-12-05T13:01:21.727744Z",
     "shell.execute_reply.started": "2024-12-05T13:01:18.281494Z"
    },
    "tags": []
   },
   "outputs": [
    {
     "name": "stdout",
     "output_type": "stream",
     "text": [
      "-RECORD 0-----------------------------\n",
      " time           | 2024-07-19 11:00:02 \n",
      " icao24         | a025bc              \n",
      " lat            | 29.309646606445312  \n",
      " lon            | -81.1421673114483   \n",
      " velocity       | 53.800611565858915  \n",
      " heading        | 6.037682521422889   \n",
      " vertrate       | 4.22656             \n",
      " callsign       | JED122              \n",
      " onground       | 0                   \n",
      " alert          | 0                   \n",
      " spi            | 0                   \n",
      " baroaltitude   | 281.94              \n",
      " geoaltitude    | 289.56              \n",
      " lastposupdate  | 1.721386801701E9    \n",
      " lastcontact    | 1.721386801701E9    \n",
      " serials        | [-1408235449]       \n",
      " day_of_week    | Friday              \n",
      " daynum_of_week | 6                   \n",
      " month_name     | July                \n",
      "only showing top 1 row\n"
     ]
    }
   ],
   "source": [
    "track_points_df.show(n=1, vertical=True, truncate=False)"
   ]
  },
  {
   "cell_type": "markdown",
   "id": "0ddde688-eb18-4135-bd9e-bd2d0d844c58",
   "metadata": {
    "jp-MarkdownHeadingCollapsed": true
   },
   "source": [
    "#### Sync with UAS Sightings Date Range\n",
    "Sync track points with UAS sightings date range for analysis."
   ]
  },
  {
   "cell_type": "code",
   "execution_count": null,
   "id": "abcadbdd-e809-4c9f-93bd-454d141ab9e2",
   "metadata": {
    "execution": {
     "iopub.status.busy": "2024-11-30T13:19:02.175728Z",
     "iopub.status.idle": "2024-11-30T13:19:02.176619Z",
     "shell.execute_reply": "2024-11-30T13:19:02.176434Z",
     "shell.execute_reply.started": "2024-11-30T13:19:02.176414Z"
    }
   },
   "outputs": [],
   "source": [
    "# synced_track_points_df = track_points_df.filter(F.col('time').between(uas_sightings_start_date, uas_sightings_end_date))"
   ]
  },
  {
   "cell_type": "code",
   "execution_count": null,
   "id": "834e6585-9bb6-4f29-b47f-66668b25538a",
   "metadata": {
    "execution": {
     "iopub.status.busy": "2024-11-30T13:19:02.177708Z",
     "iopub.status.idle": "2024-11-30T13:19:02.178371Z",
     "shell.execute_reply": "2024-11-30T13:19:02.178197Z",
     "shell.execute_reply.started": "2024-11-30T13:19:02.178178Z"
    }
   },
   "outputs": [],
   "source": [
    "# synced_track_points_count = synced_track_points_df.count()"
   ]
  },
  {
   "cell_type": "code",
   "execution_count": null,
   "id": "b4f61bb8-7ded-4b1a-bb1a-88348aece5dd",
   "metadata": {
    "execution": {
     "iopub.status.busy": "2024-11-30T13:19:02.186718Z",
     "iopub.status.idle": "2024-11-30T13:19:02.190789Z",
     "shell.execute_reply": "2024-11-30T13:19:02.187223Z",
     "shell.execute_reply.started": "2024-11-30T13:19:02.187200Z"
    }
   },
   "outputs": [],
   "source": [
    "# print(f'Total track points after sync with UAS sightings: {synced_track_points_count:,}')"
   ]
  },
  {
   "cell_type": "markdown",
   "id": "d1e8307f-828b-4b09-89b6-f6572f1f93a2",
   "metadata": {
    "jp-MarkdownHeadingCollapsed": true
   },
   "source": [
    "#### Save Synced Track Points\n",
    "Saving smaller subset of track points data representing overlap with UAS sightings"
   ]
  },
  {
   "cell_type": "code",
   "execution_count": null,
   "id": "010174d1-bb15-4b96-bc2b-372da4013aa8",
   "metadata": {
    "execution": {
     "iopub.status.busy": "2024-11-30T13:19:02.192319Z",
     "iopub.status.idle": "2024-11-30T13:19:02.193307Z",
     "shell.execute_reply": "2024-11-30T13:19:02.193040Z",
     "shell.execute_reply.started": "2024-11-30T13:19:02.193020Z"
    }
   },
   "outputs": [],
   "source": [
    "# synced_track_points_df = synced_track_points_df.withColumn('year', F.year('time'))\\\n",
    "#                                                .withColumn('month', F.month('time'))\\\n",
    "#                                                .withColumn('day', F.dayofmonth('time'))\\\n",
    "#                                                .withColumn('hour', F.hour('time'))"
   ]
  },
  {
   "cell_type": "code",
   "execution_count": null,
   "id": "f7770520-bb20-4cb7-9d45-719cab216806",
   "metadata": {
    "execution": {
     "iopub.status.busy": "2024-11-30T13:19:02.194414Z",
     "iopub.status.idle": "2024-11-30T13:19:02.195199Z",
     "shell.execute_reply": "2024-11-30T13:19:02.195022Z",
     "shell.execute_reply.started": "2024-11-30T13:19:02.195004Z"
    }
   },
   "outputs": [],
   "source": [
    "# Write the DataFrame to Parquet format, partitioned by year, month, day, and hour\n",
    "# synced_track_points_df.write.partitionBy(\"year\", \"month\", \"day\", \"hour\")\\\n",
    "#                             .parquet(\"s3://endurasoft-dev-risk-framework/datasets/track-points/\")"
   ]
  },
  {
   "cell_type": "markdown",
   "id": "073106e9-2b06-452a-a4ce-ff1eac0d59f3",
   "metadata": {},
   "source": [
    "#### Load Synced Track Points"
   ]
  },
  {
   "cell_type": "code",
   "execution_count": null,
   "id": "4047a3a7-ffec-4309-9a1f-38dc17a463e9",
   "metadata": {
    "execution": {
     "iopub.status.busy": "2024-11-30T13:19:02.196441Z",
     "iopub.status.idle": "2024-11-30T13:19:02.197415Z",
     "shell.execute_reply": "2024-11-30T13:19:02.196980Z",
     "shell.execute_reply.started": "2024-11-30T13:19:02.196961Z"
    }
   },
   "outputs": [],
   "source": [
    "# track_points_df = spark.read.parquet(\"s3://endurasoft-dev-risk-framework/datasets/track-points/year=*/month=*/day=*/hour=*/*.parquet\")\n",
    "# track_points_df.printSchema()"
   ]
  },
  {
   "cell_type": "code",
   "execution_count": 57,
   "id": "88979ed3-9a66-4be7-9ab5-b2f2c3b94074",
   "metadata": {
    "execution": {
     "iopub.execute_input": "2024-12-05T13:17:11.090753Z",
     "iopub.status.busy": "2024-12-05T13:17:11.090378Z",
     "iopub.status.idle": "2024-12-05T13:17:33.340879Z",
     "shell.execute_reply": "2024-12-05T13:17:33.340054Z",
     "shell.execute_reply.started": "2024-12-05T13:17:11.090718Z"
    },
    "tags": []
   },
   "outputs": [
    {
     "name": "stdout",
     "output_type": "stream",
     "text": [
      "Start Date : 2024-07-01 00:00:01\n",
      "End Date   : 2024-09-29 23:59:59\n"
     ]
    }
   ],
   "source": [
    "# Analyze date range for dataset\n",
    "track_points_df = track_points_df.withColumn('time', F.to_timestamp('time'))\n",
    "\n",
    "# Get the start and end dates\n",
    "track_points_start_date = track_points_df.select(F.min(\"time\")).collect()[0][0]\n",
    "track_points_end_date = track_points_df.select(F.max(\"time\")).collect()[0][0]\n",
    "\n",
    "print(\"Start Date :\", track_points_start_date)\n",
    "print(\"End Date   :\", track_points_end_date)\n",
    "\n",
    "# Before sync with UAS sightings\n",
    "# Start Date : 2023-01-01 00:00:01\n",
    "# End Date   : 2024-10-05 23:59:59\n",
    "\n",
    "# After sync with UAS sightings\n",
    "# Start Date : 2023-10-01 00:00:01\n",
    "# End Date   : 2024-09-29 23:59:59\n",
    "\n",
    "# After sampling and filtering to last two months\n",
    "# Start Date : 2024-08-01 00:00:01\n",
    "# End Date   : 2024-09-29 23:59:59"
   ]
  },
  {
   "cell_type": "code",
   "execution_count": 58,
   "id": "639f871b-fe94-46e1-aab5-9b26fa5790ee",
   "metadata": {
    "execution": {
     "iopub.execute_input": "2024-12-05T13:17:33.349891Z",
     "iopub.status.busy": "2024-12-05T13:17:33.349094Z",
     "iopub.status.idle": "2024-12-05T13:17:33.660142Z",
     "shell.execute_reply": "2024-12-05T13:17:33.659372Z",
     "shell.execute_reply.started": "2024-12-05T13:17:33.349850Z"
    },
    "tags": []
   },
   "outputs": [
    {
     "name": "stdout",
     "output_type": "stream",
     "text": [
      "OpenSky Network (track points synced with UAS sightings and sampled) dataset spans 90 days (0.25 years)\n"
     ]
    }
   ],
   "source": [
    "track_points_date_diff = track_points_end_date - track_points_start_date\n",
    "print(f'OpenSky Network (track points synced with UAS sightings and sampled) dataset spans {track_points_date_diff.days} days ({round(track_points_date_diff.days/365, 2)} years)')\n",
    "# OpenSky Network (track points synced with UAS sightings) dataset spans 364 days (1.0 years)\n",
    "# OpenSky Network (track points synced with UAS sightings and sampled) dataset spans 59 days (0.16 years)"
   ]
  },
  {
   "cell_type": "code",
   "execution_count": 59,
   "id": "c0ed8517-432a-4d63-ad95-d34e105a2d7c",
   "metadata": {
    "execution": {
     "iopub.execute_input": "2024-12-05T13:17:33.663383Z",
     "iopub.status.busy": "2024-12-05T13:17:33.661397Z",
     "iopub.status.idle": "2024-12-05T13:17:35.012352Z",
     "shell.execute_reply": "2024-12-05T13:17:35.011601Z",
     "shell.execute_reply.started": "2024-12-05T13:17:33.663348Z"
    }
   },
   "outputs": [
    {
     "name": "stdout",
     "output_type": "stream",
     "text": [
      "\n"
     ]
    }
   ],
   "source": [
    "track_points_count = track_points_df.count()"
   ]
  },
  {
   "cell_type": "code",
   "execution_count": 60,
   "id": "2964aa12-704c-416a-aeac-6c57387e4617",
   "metadata": {
    "execution": {
     "iopub.execute_input": "2024-12-05T13:17:35.023780Z",
     "iopub.status.busy": "2024-12-05T13:17:35.021103Z",
     "iopub.status.idle": "2024-12-05T13:17:35.247393Z",
     "shell.execute_reply": "2024-12-05T13:17:35.246707Z",
     "shell.execute_reply.started": "2024-12-05T13:17:35.023743Z"
    },
    "tags": []
   },
   "outputs": [
    {
     "name": "stdout",
     "output_type": "stream",
     "text": [
      "Total track points: 27,362,475\n"
     ]
    }
   ],
   "source": [
    "print(f'Total track points: {track_points_count:,}')\n",
    "\n",
    "# Before sync with UAS sightings\n",
    "# Total track points: 1,363,536,638\n",
    "\n",
    "# After sync with UAS sightings\n",
    "# Total track points: 1,342,986,693\n",
    "\n",
    "# After sampling and filtering to last two months\n",
    "# Total track points: 7,321,049"
   ]
  },
  {
   "cell_type": "markdown",
   "id": "3e306da2-5c8f-46f9-96ca-baeaae96714a",
   "metadata": {},
   "source": [
    "#### Sync UAS Sightings with Track Points Date Range"
   ]
  },
  {
   "cell_type": "code",
   "execution_count": 61,
   "id": "44ca0441-7963-4150-8525-074daa1739b9",
   "metadata": {
    "execution": {
     "iopub.execute_input": "2024-12-05T13:17:35.249220Z",
     "iopub.status.busy": "2024-12-05T13:17:35.248522Z",
     "iopub.status.idle": "2024-12-05T13:17:36.569315Z",
     "shell.execute_reply": "2024-12-05T13:17:36.568521Z",
     "shell.execute_reply.started": "2024-12-05T13:17:35.249188Z"
    }
   },
   "outputs": [
    {
     "name": "stdout",
     "output_type": "stream",
     "text": [
      "\n"
     ]
    }
   ],
   "source": [
    "uas_sightings_df = uas_sightings_df.filter(F.col('report_date').between(track_points_start_date, track_points_end_date))"
   ]
  },
  {
   "cell_type": "markdown",
   "id": "0e53a7df-1bf3-432c-8a5c-dde1264a98bf",
   "metadata": {
    "jp-MarkdownHeadingCollapsed": true
   },
   "source": [
    "#### Analyze Number of Flights per Day"
   ]
  },
  {
   "cell_type": "code",
   "execution_count": null,
   "id": "91fa5151-3863-4337-af93-1772d6a01c7b",
   "metadata": {
    "execution": {
     "iopub.execute_input": "2024-12-04T00:25:40.244065Z",
     "iopub.status.busy": "2024-12-04T00:25:40.243628Z",
     "iopub.status.idle": "2024-12-04T00:25:40.481738Z",
     "shell.execute_reply": "2024-12-04T00:25:40.480733Z",
     "shell.execute_reply.started": "2024-12-04T00:25:40.244035Z"
    }
   },
   "outputs": [
    {
     "name": "stdout",
     "output_type": "stream",
     "text": [
      "\n"
     ]
    }
   ],
   "source": [
    "# Create day of week string column (e.g., \"Monday\", \"Tuesday\", ...)\n",
    "track_points_df = track_points_df.withColumn('day_of_week', F.date_format('time', 'EEEE'))"
   ]
  },
  {
   "cell_type": "code",
   "execution_count": null,
   "id": "2248c1b9-c884-43ba-9ed9-e304d0afbae7",
   "metadata": {
    "execution": {
     "iopub.execute_input": "2024-12-04T00:25:40.483576Z",
     "iopub.status.busy": "2024-12-04T00:25:40.482890Z",
     "iopub.status.idle": "2024-12-04T00:25:40.717500Z",
     "shell.execute_reply": "2024-12-04T00:25:40.716679Z",
     "shell.execute_reply.started": "2024-12-04T00:25:40.483547Z"
    }
   },
   "outputs": [
    {
     "name": "stdout",
     "output_type": "stream",
     "text": [
      "\n"
     ]
    }
   ],
   "source": [
    "# Create day of week number column (e.g., 1 = Sunday, 2 = Monday, etc.)\n",
    "track_points_df = track_points_df.withColumn('daynum_of_week', F.dayofweek('time'))"
   ]
  },
  {
   "cell_type": "code",
   "execution_count": null,
   "id": "0efde0a9-5836-436b-851a-2a4980b14562",
   "metadata": {
    "execution": {
     "iopub.execute_input": "2024-12-02T13:29:32.021509Z",
     "iopub.status.busy": "2024-12-02T13:29:32.020556Z",
     "iopub.status.idle": "2024-12-02T13:29:32.261905Z",
     "shell.execute_reply": "2024-12-02T13:29:32.261137Z",
     "shell.execute_reply.started": "2024-12-02T13:29:32.021426Z"
    }
   },
   "outputs": [
    {
     "name": "stdout",
     "output_type": "stream",
     "text": [
      "\n"
     ]
    }
   ],
   "source": [
    "track_points_by_day_agg = track_points_df.groupBy('day_of_week').agg(\n",
    "    F.count('*').alias('track_points_count')\n",
    ").orderBy(F.col('track_points_count').desc())"
   ]
  },
  {
   "cell_type": "code",
   "execution_count": null,
   "id": "5a90b51f-0d02-4f50-9e9c-2820a617880d",
   "metadata": {
    "execution": {
     "iopub.execute_input": "2024-12-02T01:21:58.074855Z",
     "iopub.status.busy": "2024-12-02T01:21:58.074397Z",
     "iopub.status.idle": "2024-12-02T01:22:00.453247Z",
     "shell.execute_reply": "2024-12-02T01:22:00.452481Z",
     "shell.execute_reply.started": "2024-12-02T01:21:58.074770Z"
    }
   },
   "outputs": [
    {
     "name": "stdout",
     "output_type": "stream",
     "text": [
      "====================================================================================================\n",
      "OpenSky Network Track Points by Day of Week\n",
      "====================================================================================================\n",
      "+-----------+------------------+\n",
      "|day_of_week|track_points_count|\n",
      "+-----------+------------------+\n",
      "|Friday     |1110845           |\n",
      "|Sunday     |1108400           |\n",
      "|Saturday   |1096659           |\n",
      "|Thursday   |1088083           |\n",
      "|Monday     |999505            |\n",
      "|Tuesday    |965449            |\n",
      "|Wednesday  |952108            |\n",
      "+-----------+------------------+\n"
     ]
    }
   ],
   "source": [
    "print('='*100)\n",
    "print(f'OpenSky Network Track Points by Day of Week')\n",
    "print('='*100)\n",
    "track_points_by_day_agg.show(truncate=False)"
   ]
  },
  {
   "cell_type": "markdown",
   "id": "f317a501-65d8-4c85-8c0c-c678461dba6f",
   "metadata": {},
   "source": [
    "**Observation:** TODO"
   ]
  },
  {
   "cell_type": "markdown",
   "id": "344b3955-4328-4ef5-9473-4063c3adb20a",
   "metadata": {},
   "source": [
    "Results after sync with UAS sightings:\n",
    "\n",
    "```\n",
    "====================================================================================================\n",
    "OpenSky Network Track Points by Day of Week\n",
    "====================================================================================================\n",
    "+-----------+------------------+\n",
    "|day_of_week|track_points_count|\n",
    "+-----------+------------------+\n",
    "|Sunday     |197019509         |\n",
    "|Friday     |195296543         |\n",
    "|Thursday   |193607343         |\n",
    "|Wednesday  |192431559         |\n",
    "|Saturday   |190917219         |\n",
    "|Monday     |189207528         |\n",
    "|Tuesday    |184506992         |\n",
    "+-----------+------------------+\n",
    "```\n",
    "\n",
    "**Observation:** Nearly `200 million` track point records by day across `2023-06-01 00:00:00` through `2024-09-30 00:00:00` (1.33 years). The `least traffic occuring on Monday and Tuesday`, gradually increasing in density throughout the week. `Friday and Sunday are the busiest days` of the week, most likely due to people leaving on Friday and coming back on Sunday. Interestingly, Saturday is not nearly as busy with less overall traffic than Wednesday.\n",
    "\n",
    "It is worth doing seasonality analysis to determine peak business during certain events such holidays and the superbowl."
   ]
  },
  {
   "cell_type": "code",
   "execution_count": null,
   "id": "e2a19f36-6a24-4937-9c0e-60aec1e49ed3",
   "metadata": {
    "execution": {
     "iopub.execute_input": "2024-12-02T13:29:35.614423Z",
     "iopub.status.busy": "2024-12-02T13:29:35.613872Z",
     "iopub.status.idle": "2024-12-02T13:29:35.924938Z",
     "shell.execute_reply": "2024-12-02T13:29:35.924246Z",
     "shell.execute_reply.started": "2024-12-02T13:29:35.614398Z"
    }
   },
   "outputs": [
    {
     "name": "stdout",
     "output_type": "stream",
     "text": [
      "\n"
     ]
    }
   ],
   "source": [
    "flights_by_day_agg = track_points_df.groupBy('day_of_week').agg(\n",
    "    F.countDistinct('icao24').alias('flight_count')\n",
    ").orderBy(F.col('flight_count').desc())"
   ]
  },
  {
   "cell_type": "code",
   "execution_count": null,
   "id": "f3e25d67-4ae4-4eed-aaf2-96a170e60a27",
   "metadata": {
    "execution": {
     "iopub.execute_input": "2024-12-02T00:22:11.130007Z",
     "iopub.status.busy": "2024-12-02T00:22:11.129447Z",
     "iopub.status.idle": "2024-12-02T00:22:13.510525Z",
     "shell.execute_reply": "2024-12-02T00:22:13.509710Z",
     "shell.execute_reply.started": "2024-12-02T00:22:11.129976Z"
    }
   },
   "outputs": [
    {
     "name": "stdout",
     "output_type": "stream",
     "text": [
      "====================================================================================================\n",
      "OpenSky Network Track Points by Day and Unique Flight ID\n",
      "====================================================================================================\n",
      "+-----------+------------+\n",
      "|day_of_week|flight_count|\n",
      "+-----------+------------+\n",
      "|Friday     |4766        |\n",
      "|Saturday   |4745        |\n",
      "|Thursday   |4735        |\n",
      "|Sunday     |4696        |\n",
      "|Wednesday  |4286        |\n",
      "|Tuesday    |4248        |\n",
      "|Monday     |4223        |\n",
      "+-----------+------------+\n"
     ]
    }
   ],
   "source": [
    "print('='*100)\n",
    "print(f'OpenSky Network Track Points by Day and Unique Flight ID')\n",
    "print('='*100)\n",
    "flights_by_day_agg.show(truncate=False)"
   ]
  },
  {
   "cell_type": "markdown",
   "id": "a18d0945-cf6c-4f29-9614-eef92a7ec02c",
   "metadata": {},
   "source": [
    "After sync with UAS sightings: \n",
    "\n",
    "```\n",
    "====================================================================================================\n",
    "OpenSky Network Track Points by Day and Unique Flight ID\n",
    "====================================================================================================\n",
    "+-----------+------------+\n",
    "|day_of_week|flight_count|\n",
    "+-----------+------------+\n",
    "|Wednesday  |19842       |\n",
    "|Thursday   |19804       |\n",
    "|Friday     |19583       |\n",
    "|Saturday   |18960       |\n",
    "|Tuesday    |18889       |\n",
    "|Sunday     |18426       |\n",
    "|Monday     |18294       |\n",
    "+-----------+------------+\n",
    "```\n",
    "\n",
    "**Observation** Wednesday and Thursday have the most number of flights compared to other days. However, based on the total flight track points observed in the previous analysis with total flight track points by day, we saw that Friday and Sunday had the most density. This indicates that while there are more flights on Wednesday and Thursday, they are shorter flights compared to the flights that occur on Friday and Sunday. Thus, **people tend to travel longer distances on the weekends rather than during the week.**"
   ]
  },
  {
   "cell_type": "code",
   "execution_count": null,
   "id": "73731a9a-1bd5-4e63-898b-1470ca03bed5",
   "metadata": {
    "execution": {
     "iopub.execute_input": "2024-12-02T13:29:38.564577Z",
     "iopub.status.busy": "2024-12-02T13:29:38.563995Z",
     "iopub.status.idle": "2024-12-02T13:29:40.994263Z",
     "shell.execute_reply": "2024-12-02T13:29:40.993545Z",
     "shell.execute_reply.started": "2024-12-02T13:29:38.564553Z"
    }
   },
   "outputs": [
    {
     "name": "stdout",
     "output_type": "stream",
     "text": [
      "Average number of flights per day between 2024-08-01 00:00:01 and 2024-09-29 23:59:59: 4,528.428571428572\n"
     ]
    }
   ],
   "source": [
    "avg_flights_by_day = flights_by_day_agg.agg(F.avg('flight_count')).collect()[0][0]\n",
    "print(f'Average number of flights per day between {track_points_start_date} and {track_points_end_date}: {avg_flights_by_day:,}')\n",
    "\n",
    "# After sync with UAS sightings\n",
    "# Average number of flights per day between 2023-10-01 00:00:01 and 2024-09-29 23:59:59: 19,114.0\n",
    "\n",
    "# After sampling and targeting last two months\n",
    "# Average number of flights per day between 2024-08-01 00:00:01 and 2024-09-29 23:59:59: 4,528.428571428572"
   ]
  },
  {
   "cell_type": "code",
   "execution_count": null,
   "id": "1d323b34-eaf6-448d-aafa-6ddbc612266e",
   "metadata": {
    "execution": {
     "iopub.execute_input": "2024-12-04T00:25:40.720963Z",
     "iopub.status.busy": "2024-12-04T00:25:40.719103Z",
     "iopub.status.idle": "2024-12-04T00:25:40.901068Z",
     "shell.execute_reply": "2024-12-04T00:25:40.900281Z",
     "shell.execute_reply.started": "2024-12-04T00:25:40.720857Z"
    }
   },
   "outputs": [
    {
     "name": "stdout",
     "output_type": "stream",
     "text": [
      "\n"
     ]
    }
   ],
   "source": [
    "# Add month name\n",
    "track_points_df = track_points_df.withColumn(\"month_name\", F.date_format(\"time\", \"MMMM\"))"
   ]
  },
  {
   "cell_type": "code",
   "execution_count": null,
   "id": "258f5144-ca82-4225-9c99-c43816ec2ea3",
   "metadata": {
    "execution": {
     "iopub.execute_input": "2024-12-02T13:29:58.342902Z",
     "iopub.status.busy": "2024-12-02T13:29:58.342337Z",
     "iopub.status.idle": "2024-12-02T13:29:58.565323Z",
     "shell.execute_reply": "2024-12-02T13:29:58.564526Z",
     "shell.execute_reply.started": "2024-12-02T13:29:58.342861Z"
    }
   },
   "outputs": [
    {
     "name": "stdout",
     "output_type": "stream",
     "text": [
      "\n"
     ]
    }
   ],
   "source": [
    "flights_by_month_agg = track_points_df.groupBy('month_name').agg(\n",
    "    F.countDistinct('icao24').alias('flight_count')\n",
    ").orderBy(F.col('flight_count').desc())"
   ]
  },
  {
   "cell_type": "code",
   "execution_count": null,
   "id": "5c9e09a7-08b4-4c35-b06a-20a31c093302",
   "metadata": {
    "execution": {
     "iopub.execute_input": "2024-12-02T00:22:16.327450Z",
     "iopub.status.busy": "2024-12-02T00:22:16.327144Z",
     "iopub.status.idle": "2024-12-02T00:22:17.590205Z",
     "shell.execute_reply": "2024-12-02T00:22:17.589414Z",
     "shell.execute_reply.started": "2024-12-02T00:22:16.327420Z"
    }
   },
   "outputs": [
    {
     "name": "stdout",
     "output_type": "stream",
     "text": [
      "====================================================================================================\n",
      "OpenSky Network Flights by Month\n",
      "====================================================================================================\n",
      "+----------+------------+\n",
      "|month_name|flight_count|\n",
      "+----------+------------+\n",
      "|August    |12600       |\n",
      "|September |11979       |\n",
      "+----------+------------+\n"
     ]
    }
   ],
   "source": [
    "print('='*100)\n",
    "print(f'OpenSky Network Flights by Month')\n",
    "print('='*100)\n",
    "flights_by_month_agg.show(truncate=False)\n",
    "\n",
    "# After sync with UAS sightings\n",
    "# ====================================================================================================\n",
    "# OpenSky Network Flights by Month\n",
    "# ====================================================================================================\n",
    "# +----------+------------+\n",
    "# |month_name|flight_count|\n",
    "# +----------+------------+\n",
    "# |December  |16705       |\n",
    "# |July      |12710       |\n",
    "# |August    |12628       |\n",
    "# |June      |12340       |\n",
    "# |March     |12283       |\n",
    "# |May       |12251       |\n",
    "# |April     |12151       |\n",
    "# |October   |12118       |\n",
    "# |September |11999       |\n",
    "# |November  |11922       |\n",
    "# |January   |11823       |\n",
    "# |February  |11743       |\n",
    "# +----------+------------+\n",
    "\n",
    "# After sampling and targeting last two months"
   ]
  },
  {
   "cell_type": "markdown",
   "id": "c4760bf5-0026-49ac-98c5-d41d0375b28f",
   "metadata": {},
   "source": [
    "After sync with UAS sightings:\n",
    "\n",
    "```\n",
    "====================================================================================================\n",
    "OpenSky Network Flights by Month\n",
    "====================================================================================================\n",
    "+----------+------------+\n",
    "|month_name|flight_count|\n",
    "+----------+------------+\n",
    "|December  |16705       |\n",
    "|July      |12710       |\n",
    "|August    |12628       |\n",
    "|June      |12340       |\n",
    "|March     |12283       |\n",
    "|May       |12251       |\n",
    "|April     |12151       |\n",
    "|October   |12118       |\n",
    "|September |11999       |\n",
    "|November  |11922       |\n",
    "|January   |11823       |\n",
    "|February  |11743       |\n",
    "+----------+------------+\n",
    "```\n",
    "\n",
    "**Observation:** December is the busiest month with the highest number of flights. The summer months (July, August, and June), also have a high number of flights. This indicates that months with holidays or high liklihood of vacations have more flight traffic than other months."
   ]
  },
  {
   "cell_type": "markdown",
   "id": "1b99e8cc-1b7d-45b7-956d-0400e249a398",
   "metadata": {
    "jp-MarkdownHeadingCollapsed": true
   },
   "source": [
    "#### Create Sample Dataset by Flight"
   ]
  },
  {
   "cell_type": "code",
   "execution_count": null,
   "id": "60319cd9-d14e-4244-8887-08c491ab32c6",
   "metadata": {
    "execution": {
     "iopub.execute_input": "2024-11-30T14:31:27.497864Z",
     "iopub.status.busy": "2024-11-30T14:31:27.497433Z",
     "iopub.status.idle": "2024-11-30T14:35:18.457371Z",
     "shell.execute_reply": "2024-11-30T14:35:18.456591Z",
     "shell.execute_reply.started": "2024-11-30T14:31:27.497834Z"
    }
   },
   "outputs": [
    {
     "name": "stdout",
     "output_type": "stream",
     "text": [
      "Applied sampling to track points.\n",
      "  Original Count : 1,342,986,693\n",
      "  Target Count   : 50,000,000\n",
      "  Sampled Count  : 49,998,420\n"
     ]
    }
   ],
   "source": [
    "# Create temporary smaller sample for more efficently analysis\n",
    "# See: https://spark.apache.org/docs/latest/api/python/reference/pyspark.sql/api/pyspark.sql.DataFrame.sample.html\n",
    "# target_n = 50_000_000\n",
    "# frac = target_n / track_points_count\n",
    "# sampled_track_points_df = track_points_df.sample(fraction=frac, seed=42)\n",
    "# sampled_track_points_count = sampled_track_points_df.count()\n",
    "# print('Applied sampling to track points.')\n",
    "# print(f'  Original Count : {track_points_count:,}')\n",
    "# print(f'  Target Count   : {target_n:,}')\n",
    "# print(f'  Sampled Count  : {sampled_track_points_count:,}')\n",
    "# # Applied sampling to track points.\n",
    "# #   Original Count : 1,342,986,693\n",
    "# #   Target Count   : 50,000,000\n",
    "# #   Sampled Count  : 49,998,420"
   ]
  },
  {
   "cell_type": "markdown",
   "id": "0468e780-b22b-4bc9-ac45-f27df458c392",
   "metadata": {
    "jp-MarkdownHeadingCollapsed": true
   },
   "source": [
    "#### Save Sampled Dataset"
   ]
  },
  {
   "cell_type": "code",
   "execution_count": null,
   "id": "db6a7b24-0b82-4738-991b-ee6f8869b89a",
   "metadata": {
    "execution": {
     "iopub.execute_input": "2024-11-30T16:10:29.671079Z",
     "iopub.status.busy": "2024-11-30T16:10:29.670445Z",
     "iopub.status.idle": "2024-11-30T16:10:29.963555Z",
     "shell.execute_reply": "2024-11-30T16:10:29.961550Z",
     "shell.execute_reply.started": "2024-11-30T16:10:29.671053Z"
    }
   },
   "outputs": [
    {
     "name": "stdout",
     "output_type": "stream",
     "text": [
      "\n"
     ]
    }
   ],
   "source": [
    "# sampled_track_points_df = sampled_track_points_df.withColumn('year', F.year('time'))\\\n",
    "#                                                .withColumn('month', F.month('time'))\\\n",
    "#                                                .withColumn('day', F.dayofmonth('time'))\\\n",
    "#                                                .withColumn('hour', F.hour('time'))"
   ]
  },
  {
   "cell_type": "code",
   "execution_count": null,
   "id": "d302036b-fb66-4015-a867-9f744a5b1d74",
   "metadata": {
    "execution": {
     "iopub.execute_input": "2024-11-30T16:10:32.808974Z",
     "iopub.status.busy": "2024-11-30T16:10:32.808386Z",
     "iopub.status.idle": "2024-11-30T16:27:23.668683Z",
     "shell.execute_reply": "2024-11-30T16:27:23.667909Z",
     "shell.execute_reply.started": "2024-11-30T16:10:32.808928Z"
    }
   },
   "outputs": [
    {
     "name": "stdout",
     "output_type": "stream",
     "text": [
      "\n"
     ]
    }
   ],
   "source": [
    "# Save and reload temporary dataset to clear lazy evaluation cache\n",
    "# Write the DataFrame to Parquet format, partitioned by year, month, day, and hour\n",
    "# sampled_track_points_df.write.partitionBy(\"year\", \"month\", \"day\", \"hour\")\\\n",
    "#                             .parquet(\"s3://endurasoft-dev-risk-framework/datasets/sampled-track-points/\")"
   ]
  },
  {
   "cell_type": "code",
   "execution_count": null,
   "id": "68da1d25-cbdc-45ff-9bc0-bf76ee7e22cf",
   "metadata": {},
   "outputs": [],
   "source": [
    "# Sample down to maximum of 1000 flights per day for each day spanning the date range of track points\n",
    "# TODO Apply to aggregated results and then join with main track points dataframe on icao24 id to downsample\n",
    "# flights_per_day = 1000\n",
    "# day_window = Window.partitionBy(\"time\", \"daynum_of_week\").orderBy(F.rand())\n",
    "# track_points_df = track_points_df.withColumn(\"row_num\", F.row_number().over(day_window))\n",
    "# sampled_track_points_df = track_points_df.filter(F.col(\"row_num\") <= flights_per_day)"
   ]
  },
  {
   "cell_type": "markdown",
   "id": "8e699087-ac3f-44d7-b948-ccff58817069",
   "metadata": {
    "jp-MarkdownHeadingCollapsed": true
   },
   "source": [
    "#### Load Sampled Dataset"
   ]
  },
  {
   "cell_type": "code",
   "execution_count": null,
   "id": "9a307e23-dd4f-4794-b914-fde88921829d",
   "metadata": {
    "execution": {
     "iopub.execute_input": "2024-11-30T17:41:56.738777Z",
     "iopub.status.busy": "2024-11-30T17:41:56.738299Z",
     "iopub.status.idle": "2024-11-30T17:49:46.614856Z",
     "shell.execute_reply": "2024-11-30T17:49:46.613839Z",
     "shell.execute_reply.started": "2024-11-30T17:41:56.738748Z"
    }
   },
   "outputs": [
    {
     "name": "stdout",
     "output_type": "stream",
     "text": [
      "root\n",
      " |-- time: timestamp (nullable = true)\n",
      " |-- icao24: string (nullable = true)\n",
      " |-- lat: double (nullable = true)\n",
      " |-- lon: double (nullable = true)\n",
      " |-- velocity: double (nullable = true)\n",
      " |-- heading: double (nullable = true)\n",
      " |-- vertrate: double (nullable = true)\n",
      " |-- callsign: string (nullable = true)\n",
      " |-- onground: integer (nullable = true)\n",
      " |-- alert: integer (nullable = true)\n",
      " |-- spi: integer (nullable = true)\n",
      " |-- squawk: string (nullable = true)\n",
      " |-- baroaltitude: double (nullable = true)\n",
      " |-- geoaltitude: double (nullable = true)\n",
      " |-- lastposupdate: double (nullable = true)\n",
      " |-- lastcontact: double (nullable = true)\n",
      " |-- serials: array (nullable = true)\n",
      " |    |-- element: long (containsNull = true)\n",
      " |-- day_of_week: string (nullable = true)\n",
      " |-- daynum_of_week: integer (nullable = true)\n"
     ]
    }
   ],
   "source": [
    "# sampled_track_points_df = spark.read.parquet('s3://endurasoft-dev-risk-framework/datasets/sampled-track-points/year=*/month=*/day=*/hour=*/*.parquet')\n",
    "# sampled_track_points_df.printSchema()"
   ]
  },
  {
   "cell_type": "code",
   "execution_count": null,
   "id": "dfbea8c1-f3d1-47a3-8989-9dff337f8aae",
   "metadata": {
    "execution": {
     "iopub.execute_input": "2024-11-30T20:03:40.529757Z",
     "iopub.status.busy": "2024-11-30T20:03:40.528338Z",
     "iopub.status.idle": "2024-11-30T20:03:40.857603Z",
     "shell.execute_reply": "2024-11-30T20:03:40.856866Z",
     "shell.execute_reply.started": "2024-11-30T20:03:40.529727Z"
    }
   },
   "outputs": [
    {
     "name": "stdout",
     "output_type": "stream",
     "text": [
      "\n"
     ]
    }
   ],
   "source": [
    "# Set track points to sampled version\n",
    "# track_points_df = sampled_track_points_df"
   ]
  },
  {
   "cell_type": "markdown",
   "id": "01d09225-5173-41e1-a40c-875e84746ba4",
   "metadata": {
    "jp-MarkdownHeadingCollapsed": true
   },
   "source": [
    "#### Descriptive Statistics"
   ]
  },
  {
   "cell_type": "code",
   "execution_count": null,
   "id": "e3204efa-e8b1-49e2-8507-63b97864ef9b",
   "metadata": {
    "execution": {
     "iopub.execute_input": "2024-12-02T00:39:27.542607Z",
     "iopub.status.busy": "2024-12-02T00:39:27.542276Z",
     "iopub.status.idle": "2024-12-02T00:40:03.996377Z",
     "shell.execute_reply": "2024-12-02T00:40:03.994596Z",
     "shell.execute_reply.started": "2024-12-02T00:39:27.542585Z"
    },
    "scrolled": true,
    "tags": []
   },
   "outputs": [
    {
     "name": "stdout",
     "output_type": "stream",
     "text": [
      "-RECORD 0------------------------------\n",
      " summary        | count                \n",
      " icao24         | 7321049              \n",
      " lat            | 7281222              \n",
      " lon            | 7281222              \n",
      " velocity       | 7001085              \n",
      " heading        | 7001085              \n",
      " vertrate       | 7001316              \n",
      " callsign       | 7229348              \n",
      " onground       | 7321049              \n",
      " alert          | 7321049              \n",
      " spi            | 7321049              \n",
      " squawk         | 2316338              \n",
      " baroaltitude   | 6683153              \n",
      " geoaltitude    | 6662395              \n",
      " lastposupdate  | 7281222              \n",
      " lastcontact    | 7321049              \n",
      " day_of_week    | 7321049              \n",
      " daynum_of_week | 7321049              \n",
      " month_name     | 7321049              \n",
      "-RECORD 1------------------------------\n",
      " summary        | mean                 \n",
      " icao24         | Infinity             \n",
      " lat            | 37.70793471656258    \n",
      " lon            | -95.16787965495026   \n",
      " velocity       | 143.81032238429202   \n",
      " heading        | 179.5665046881646    \n",
      " vertrate       | -0.5680158432385914  \n",
      " callsign       | 4940750.819394561    \n",
      " onground       | 0.08262354206343928  \n",
      " alert          | 0.015044428742383776 \n",
      " spi            | 0.011040357741083279 \n",
      " squawk         | 3696.223444074224    \n",
      " baroaltitude   | 5191.284273794066    \n",
      " geoaltitude    | 5456.271401623613    \n",
      " lastposupdate  | 1.7250524570916262E9 \n",
      " lastcontact    | 1.7250523255637517E9 \n",
      " day_of_week    | null                 \n",
      " daynum_of_week | 4.042356088587852    \n",
      " month_name     | null                 \n",
      "-RECORD 2------------------------------\n",
      " summary        | stddev               \n",
      " icao24         | NaN                  \n",
      " lat            | 5.443313396633557    \n",
      " lon            | 16.944844735491177   \n",
      " velocity       | 82.39057887561451    \n",
      " heading        | 101.88934422668063   \n",
      " vertrate       | 4.779981693545755    \n",
      " callsign       | 1.5163685036423005E7 \n",
      " onground       | 0.27531237297588795  \n",
      " alert          | 0.12172960170081522  \n",
      " spi            | 0.1044914816308615   \n",
      " squawk         | 2193.513157503549    \n",
      " baroaltitude   | 4385.48337065914     \n",
      " geoaltitude    | 4613.553183786       \n",
      " lastposupdate  | 1499667.663860112    \n",
      " lastcontact    | 1499720.8913076464   \n",
      " day_of_week    | null                 \n",
      " daynum_of_week | 2.035309465944983    \n",
      " month_name     | null                 \n",
      "-RECORD 3------------------------------\n",
      " summary        | min                  \n",
      " icao24         | 002034               \n",
      " lat            | -22.763809204101562  \n",
      " lon            | -175.14505004882812  \n",
      " velocity       | 0.0                  \n",
      " heading        | 0.0                  \n",
      " vertrate       | -165.8112            \n",
      " callsign       |                      \n",
      " onground       | 0                    \n",
      " alert          | 0                    \n",
      " spi            | 0                    \n",
      " squawk         | 0000                 \n",
      " baroaltitude   | -472.44000000000005  \n",
      " geoaltitude    | -685.8               \n",
      " lastposupdate  | 1.722470293304E9     \n",
      " lastcontact    | 1.722470400854E9     \n",
      " day_of_week    | Friday               \n",
      " daynum_of_week | 1                    \n",
      " month_name     | August               \n",
      "-RECORD 4------------------------------\n",
      " summary        | max                  \n",
      " icao24         | e80241               \n",
      " lat            | 64.90040588378906    \n",
      " lon            | 120.2191267342403    \n",
      " velocity       | 1940.61478413284     \n",
      " heading        | 359.8920984712272    \n",
      " vertrate       | 165.8112             \n",
      " callsign       | ZEUS34               \n",
      " onground       | 1                    \n",
      " alert          | 1                    \n",
      " spi            | 1                    \n",
      " squawk         | 7777                 \n",
      " baroaltitude   | 38618.16             \n",
      " geoaltitude    | 38823.9              \n",
      " lastposupdate  | 1.72765439898E9      \n",
      " lastcontact    | 1.72765439898E9      \n",
      " day_of_week    | Wednesday            \n",
      " daynum_of_week | 7                    \n",
      " month_name     | September\n"
     ]
    }
   ],
   "source": [
    "track_points_df.describe().show(n=len(track_points_df.columns), vertical=True, truncate=False)"
   ]
  },
  {
   "cell_type": "markdown",
   "id": "33b5569d-3493-4dd9-82f2-fe5baa46e379",
   "metadata": {},
   "source": [
    "#### Date Range and Total Records"
   ]
  },
  {
   "cell_type": "code",
   "execution_count": null,
   "id": "af428eba-6b7a-49fd-8a58-4e0db06c41d4",
   "metadata": {
    "execution": {
     "iopub.status.busy": "2024-12-05T13:01:22.027030Z",
     "iopub.status.idle": "2024-12-05T13:01:22.029381Z",
     "shell.execute_reply": "2024-12-05T13:01:22.029126Z",
     "shell.execute_reply.started": "2024-12-05T13:01:22.029103Z"
    },
    "tags": []
   },
   "outputs": [],
   "source": [
    "# Analyze date range for dataset\n",
    "track_points_df = track_points_df.withColumn('time', F.to_timestamp('time'))\n",
    "\n",
    "# Get the start and end dates\n",
    "track_points_start_date = track_points_df.select(F.min(\"time\")).collect()[0][0]\n",
    "track_points_end_date = track_points_df.select(F.max(\"time\")).collect()[0][0]\n",
    "\n",
    "print(\"Start Date :\", track_points_start_date)\n",
    "print(\"End Date   :\", track_points_end_date)\n",
    "\n",
    "# After sync with UAS sightings\n",
    "# Start Date : 2023-10-01 00:00:01\n",
    "# End Date   : 2024-09-29 23:59:59\n",
    "\n",
    "# After sampling and targeting last two months\n",
    "# Start Date : 2024-08-01 00:00:01\n",
    "# End Date   : 2024-09-29 23:59:59"
   ]
  },
  {
   "cell_type": "code",
   "execution_count": null,
   "id": "a93ddc65-0693-4e4b-8742-3945c7c2de23",
   "metadata": {
    "execution": {
     "iopub.status.busy": "2024-12-05T13:01:22.031018Z",
     "iopub.status.idle": "2024-12-05T13:01:22.032316Z",
     "shell.execute_reply": "2024-12-05T13:01:22.032040Z",
     "shell.execute_reply.started": "2024-12-05T13:01:22.031995Z"
    },
    "tags": []
   },
   "outputs": [],
   "source": [
    "track_points_date_diff = track_points_end_date - track_points_start_date\n",
    "print(f'OpenSky Network (track points) dataset spans {track_points_date_diff.days} days ({round(track_points_date_diff.days/365, 2)} years)')\n",
    "\n",
    "# After sync with UAS sightings\n",
    "# OpenSky Network (track points) dataset spans 364 days (1.0 years)\n",
    "\n",
    "# After sampling and targeting last two months\n",
    "# OpenSky Network (track points) dataset spans 59 days (0.16 years)"
   ]
  },
  {
   "cell_type": "code",
   "execution_count": null,
   "id": "7cf1b2ee-f4ae-49a9-b4e7-3b72be870e8d",
   "metadata": {
    "execution": {
     "iopub.status.busy": "2024-12-05T13:01:22.033413Z",
     "iopub.status.idle": "2024-12-05T13:01:22.034124Z",
     "shell.execute_reply": "2024-12-05T13:01:22.033956Z",
     "shell.execute_reply.started": "2024-12-05T13:01:22.033936Z"
    }
   },
   "outputs": [],
   "source": [
    "track_points_count = track_points_df.count()"
   ]
  },
  {
   "cell_type": "code",
   "execution_count": null,
   "id": "16ddefb0-4409-4380-9604-8f14a7cfbe01",
   "metadata": {
    "execution": {
     "iopub.status.busy": "2024-12-05T13:01:22.034891Z",
     "iopub.status.idle": "2024-12-05T13:01:22.035451Z",
     "shell.execute_reply": "2024-12-05T13:01:22.035286Z",
     "shell.execute_reply.started": "2024-12-05T13:01:22.035267Z"
    },
    "tags": []
   },
   "outputs": [],
   "source": [
    "print(f'Total track points: {track_points_count:,}')\n",
    "\n",
    "# After sync with UAS sightings\n",
    "# Total track points: 49,998,420\n",
    "\n",
    "# After sampling and targeting last two months\n",
    "# Total track points: 7,321,049"
   ]
  },
  {
   "cell_type": "markdown",
   "id": "8fc9800b-1c7a-4240-86b7-74869f8e6dd7",
   "metadata": {
    "jp-MarkdownHeadingCollapsed": true
   },
   "source": [
    "#### Analyze Nulls"
   ]
  },
  {
   "cell_type": "code",
   "execution_count": null,
   "id": "e8f0fab3-204e-4e70-905a-228238bc58b2",
   "metadata": {
    "execution": {
     "iopub.execute_input": "2024-12-02T12:56:00.537135Z",
     "iopub.status.busy": "2024-12-02T12:56:00.536644Z",
     "iopub.status.idle": "2024-12-02T12:56:08.354469Z",
     "shell.execute_reply": "2024-12-02T12:56:08.353716Z",
     "shell.execute_reply.started": "2024-12-02T12:56:00.537107Z"
    },
    "tags": []
   },
   "outputs": [
    {
     "name": "stdout",
     "output_type": "stream",
     "text": [
      "+--------------+-------------+---------------+-------------+---------------+\n",
      "|column        |total_missing|total_available|ratio_missing|percent_missing|\n",
      "+--------------+-------------+---------------+-------------+---------------+\n",
      "|time          |0            |7321049        |0.0          |0.0%           |\n",
      "|icao24        |0            |7321049        |0.0          |0.0%           |\n",
      "|lat           |39827        |7281222        |0.0054       |0.5%           |\n",
      "|lon           |39827        |7281222        |0.0054       |0.5%           |\n",
      "|velocity      |319964       |7001085        |0.0437       |4.4%           |\n",
      "|heading       |319964       |7001085        |0.0437       |4.4%           |\n",
      "|vertrate      |319733       |7001316        |0.0437       |4.4%           |\n",
      "|callsign      |91701        |7229348        |0.0125       |1.3%           |\n",
      "|onground      |0            |7321049        |0.0          |0.0%           |\n",
      "|alert         |0            |7321049        |0.0          |0.0%           |\n",
      "|spi           |0            |7321049        |0.0          |0.0%           |\n",
      "|squawk        |5004711      |2316338        |0.6836       |68.4%          |\n",
      "|baroaltitude  |637896       |6683153        |0.0871       |8.7%           |\n",
      "|geoaltitude   |658654       |6662395        |0.09         |9.0%           |\n",
      "|lastposupdate |39827        |7281222        |0.0054       |0.5%           |\n",
      "|lastcontact   |0            |7321049        |0.0          |0.0%           |\n",
      "|serials       |0            |7321049        |0.0          |0.0%           |\n",
      "|day_of_week   |0            |7321049        |0.0          |0.0%           |\n",
      "|daynum_of_week|0            |7321049        |0.0          |0.0%           |\n",
      "|month_name    |0            |7321049        |0.0          |0.0%           |\n",
      "+--------------+-------------+---------------+-------------+---------------+\n"
     ]
    }
   ],
   "source": [
    "track_points_missing_values_report = get_missing_values(track_points_df)\n",
    "track_points_missing_values_report.show(n=len(track_points_df.columns), truncate=False)\n",
    "# After sampling and targeting last two months"
   ]
  },
  {
   "cell_type": "markdown",
   "id": "26bf3038-cad4-45a3-9f3c-6e55e1c078e8",
   "metadata": {},
   "source": [
    "After sync with UAS sightings:\n",
    "\n",
    "```\n",
    "+--------------+-------------+---------------+-------------+---------------+\n",
    "|column        |total_missing|total_available|ratio_missing|percent_missing|\n",
    "+--------------+-------------+---------------+-------------+---------------+\n",
    "|time          |0            |49998420       |0.0          |0.0%           |\n",
    "|icao24        |0            |49998420       |0.0          |0.0%           |\n",
    "|lat           |271333       |49727087       |0.0054       |0.5%           |\n",
    "|lon           |271333       |49727087       |0.0054       |0.5%           |\n",
    "|velocity      |2195561      |47802859       |0.0439       |4.4%           |\n",
    "|heading       |2195561      |47802859       |0.0439       |4.4%           |\n",
    "|vertrate      |2194208      |47804212       |0.0439       |4.4%           |\n",
    "|callsign      |637671       |49360749       |0.0128       |1.3%           |\n",
    "|onground      |0            |49998420       |0.0          |0.0%           |\n",
    "|alert         |0            |49998420       |0.0          |0.0%           |\n",
    "|spi           |0            |49998420       |0.0          |0.0%           |\n",
    "|squawk        |27100023     |22898397       |0.542        |54.2%          |\n",
    "|baroaltitude  |4224759      |45773661       |0.0845       |8.4%           |\n",
    "|geoaltitude   |4441928      |45556492       |0.0888       |8.9%           |\n",
    "|lastposupdate |271333       |49727087       |0.0054       |0.5%           |\n",
    "|lastcontact   |0            |49998420       |0.0          |0.0%           |\n",
    "|serials       |0            |49998420       |0.0          |0.0%           |\n",
    "|day_of_week   |0            |49998420       |0.0          |0.0%           |\n",
    "|daynum_of_week|0            |49998420       |0.0          |0.0%           |\n",
    "+--------------+-------------+---------------+-------------+---------------+\n",
    "```\n",
    "\n",
    "**Observation:** The sampled dataset is relatively clean with a spike in null values for `squawk` at `54.2%`. We can drop the `squawk` feature since it will not be used as part of this analysis work for UAS risk. The primary features of interest are `time`, `lat`, `lon`, and `baroaltitude` (measured in MSL). Given there are `0.5%` missing values for `lat` and `lon`, we should drop those records. However, for `baroaltitude` there are `8.4%` missing values which would cut a noticable chunk away from the dataset if we were to drop the values. Thus, we need to impute based on the distribution of the data. If the data is normally distributed and no outliers, it is safe to impute with the mean or mode. Otherwise, if the distribution is skewed, we will need to either use median or a more intelligent approach with machine learning such as KNN."
   ]
  },
  {
   "cell_type": "code",
   "execution_count": null,
   "id": "7c5d8b14-86b4-47e4-b450-48673f6acbe4",
   "metadata": {
    "execution": {
     "iopub.execute_input": "2024-12-03T18:23:23.721508Z",
     "iopub.status.busy": "2024-12-03T18:23:23.721174Z",
     "iopub.status.idle": "2024-12-03T18:23:23.936843Z",
     "shell.execute_reply": "2024-12-03T18:23:23.936099Z",
     "shell.execute_reply.started": "2024-12-03T18:23:23.721484Z"
    }
   },
   "outputs": [
    {
     "name": "stdout",
     "output_type": "stream",
     "text": [
      "\n"
     ]
    }
   ],
   "source": [
    "# Drop squawk feature\n",
    "track_points_df = track_points_df.drop('squawk')"
   ]
  },
  {
   "cell_type": "code",
   "execution_count": null,
   "id": "356b4643-da7a-4c7d-9c92-e751bb7e164d",
   "metadata": {
    "execution": {
     "iopub.execute_input": "2024-12-03T18:23:26.187695Z",
     "iopub.status.busy": "2024-12-03T18:23:26.187049Z",
     "iopub.status.idle": "2024-12-03T18:23:26.397909Z",
     "shell.execute_reply": "2024-12-03T18:23:26.397212Z",
     "shell.execute_reply.started": "2024-12-03T18:23:26.187669Z"
    }
   },
   "outputs": [
    {
     "name": "stdout",
     "output_type": "stream",
     "text": [
      "\n"
     ]
    }
   ],
   "source": [
    "# Drop null records for lat and lon\n",
    "track_points_df = track_points_df.dropna(subset=['lat', 'lon'])"
   ]
  },
  {
   "cell_type": "code",
   "execution_count": null,
   "id": "9e6d7c65-333b-4a9f-b9dc-4ff77206122c",
   "metadata": {
    "execution": {
     "iopub.execute_input": "2024-12-03T00:46:30.482808Z",
     "iopub.status.busy": "2024-12-03T00:46:30.482278Z",
     "iopub.status.idle": "2024-12-03T00:46:38.305772Z",
     "shell.execute_reply": "2024-12-03T00:46:38.304989Z",
     "shell.execute_reply.started": "2024-12-03T00:46:30.482780Z"
    }
   },
   "outputs": [
    {
     "name": "stdout",
     "output_type": "stream",
     "text": [
      "\n"
     ]
    }
   ],
   "source": [
    "# Analyze distribution of barometric altitude\n",
    "baroaltitude_hist = track_points_df.select('baroaltitude').rdd.flatMap(lambda x: x).histogram(20)"
   ]
  },
  {
   "cell_type": "code",
   "execution_count": null,
   "id": "d7695658-f566-473a-8ae2-f116a7c3eeba",
   "metadata": {
    "execution": {
     "iopub.execute_input": "2024-12-03T00:46:38.307016Z",
     "iopub.status.busy": "2024-12-03T00:46:38.306667Z",
     "iopub.status.idle": "2024-12-03T00:46:38.490244Z",
     "shell.execute_reply": "2024-12-03T00:46:38.489593Z",
     "shell.execute_reply.started": "2024-12-03T00:46:38.306986Z"
    }
   },
   "outputs": [
    {
     "name": "stdout",
     "output_type": "stream",
     "text": [
      "<class 'tuple'>\n"
     ]
    }
   ],
   "source": [
    "type(baroaltitude_hist)"
   ]
  },
  {
   "cell_type": "code",
   "execution_count": null,
   "id": "5a6dd0a5-174d-41b4-a621-d98860a79e4e",
   "metadata": {
    "execution": {
     "iopub.execute_input": "2024-12-03T00:46:38.491764Z",
     "iopub.status.busy": "2024-12-03T00:46:38.491164Z",
     "iopub.status.idle": "2024-12-03T00:46:38.758143Z",
     "shell.execute_reply": "2024-12-03T00:46:38.757503Z",
     "shell.execute_reply.started": "2024-12-03T00:46:38.491736Z"
    }
   },
   "outputs": [
    {
     "name": "stdout",
     "output_type": "stream",
     "text": [
      "([-472.44000000000005, 1482.0900000000001, 3436.6200000000003, 5391.15, 7345.68, 9300.210000000001, 11254.74, 13209.27, 15163.800000000001, 17118.33, 19072.860000000004, 21027.390000000003, 22981.920000000002, 24936.450000000004, 26890.980000000003, 28845.510000000006, 30800.040000000005, 32754.570000000003, 34709.1, 36663.630000000005, 38618.16], [2245100, 1044844, 445147, 442988, 527058, 1278578, 671504, 26368, 94, 48, 62, 58, 52, 29, 50, 73, 54, 73, 44, 95])\n"
     ]
    }
   ],
   "source": [
    "baroaltitude_hist"
   ]
  },
  {
   "cell_type": "code",
   "execution_count": null,
   "id": "b88f99c5-3924-429f-b531-107d92cc64ea",
   "metadata": {
    "execution": {
     "iopub.execute_input": "2024-12-03T00:46:38.760245Z",
     "iopub.status.busy": "2024-12-03T00:46:38.760039Z",
     "iopub.status.idle": "2024-12-03T00:46:40.044297Z",
     "shell.execute_reply": "2024-12-03T00:46:40.043278Z",
     "shell.execute_reply.started": "2024-12-03T00:46:38.760228Z"
    }
   },
   "outputs": [
    {
     "data": {
      "image/png": "[encoded data removed]"
     },
     "metadata": {
      "image/png": {
       "height": 480,
       "width": 640
      }
     },
     "output_type": "display_data"
    }
   ],
   "source": [
    "# Plot the histogram for barometric altitude\n",
    "plt.figure(figsize=(12, 12))\n",
    "baroaltitude_hist_df = pd.DataFrame(\n",
    "    list(zip(*baroaltitude_hist)),\n",
    "    columns=['bin', 'frequency']\n",
    ")\n",
    "baroaltitude_hist_df['bin'] = baroaltitude_hist_df['bin'].round(2)\n",
    "baroaltitude_hist_df.set_index('bin').plot(kind='bar')\n",
    "plt.xlabel(None)\n",
    "plt.xticks(rotation=45, ha='right')\n",
    "plt.title('Distribution of Barometric Altitude')\n",
    "plt.tight_layout()\n",
    "plt.show()\n",
    "%matplot plt"
   ]
  },
  {
   "cell_type": "markdown",
   "id": "1f539022-6df3-434d-9312-5caa30b41d22",
   "metadata": {},
   "source": [
    "**Observation:** We can see that `baroaltitude` is not normally distributed. The distribution is skewed to the right with high-value outliers. For sake of simplicity, we will drop the records where `baroaltitude` is null. \n",
    "\n",
    "**NOTE:** Dropping rows with null `baroaltitude` is likely a limitation and should be addressed as a future consideration for improvement."
   ]
  },
  {
   "cell_type": "code",
   "execution_count": null,
   "id": "7a92fe54-eef6-42a2-b259-eb2909e7cabf",
   "metadata": {
    "execution": {
     "iopub.execute_input": "2024-12-03T00:46:40.045933Z",
     "iopub.status.busy": "2024-12-03T00:46:40.045636Z",
     "iopub.status.idle": "2024-12-03T00:46:40.049479Z",
     "shell.execute_reply": "2024-12-03T00:46:40.048433Z",
     "shell.execute_reply.started": "2024-12-03T00:46:40.045906Z"
    }
   },
   "outputs": [],
   "source": [
    "# track_points_window = Window.rowsBetween(0, float('inf'))\n",
    "# track_points_df = track_points_df.withColumn('baroaltitude_imputed', F.last('baroaltitude', ignorenulls=True).over(track_points_window))"
   ]
  },
  {
   "cell_type": "code",
   "execution_count": null,
   "id": "8230595e-6b26-47ca-8272-21c6e9dda014",
   "metadata": {
    "execution": {
     "iopub.execute_input": "2024-12-03T00:46:40.051600Z",
     "iopub.status.busy": "2024-12-03T00:46:40.051171Z",
     "iopub.status.idle": "2024-12-03T00:46:40.054993Z",
     "shell.execute_reply": "2024-12-03T00:46:40.054141Z",
     "shell.execute_reply.started": "2024-12-03T00:46:40.051579Z"
    }
   },
   "outputs": [],
   "source": [
    "# Save to temporary table and reload to clear cache\n",
    "# track_points_df.unpersist()\n",
    "# track_points_df.write.mode('overwrite').saveAsTable('track_points_df')\n",
    "# track_points_df = spark.read.table('track_points_df')\n",
    "# track_points_df.persist()"
   ]
  },
  {
   "cell_type": "code",
   "execution_count": null,
   "id": "b010032b-c245-4deb-9e04-18bdd7b1af79",
   "metadata": {
    "execution": {
     "iopub.execute_input": "2024-12-03T18:23:38.586724Z",
     "iopub.status.busy": "2024-12-03T18:23:38.586014Z",
     "iopub.status.idle": "2024-12-03T18:23:38.807290Z",
     "shell.execute_reply": "2024-12-03T18:23:38.805705Z",
     "shell.execute_reply.started": "2024-12-03T18:23:38.586693Z"
    }
   },
   "outputs": [
    {
     "name": "stdout",
     "output_type": "stream",
     "text": [
      "\n"
     ]
    }
   ],
   "source": [
    "# Drop null values for baroaltitude\n",
    "track_points_df = track_points_df.dropna(subset=['baroaltitude'])"
   ]
  },
  {
   "cell_type": "code",
   "execution_count": null,
   "id": "22030fba-1529-4033-83d4-d82fd2551773",
   "metadata": {
    "execution": {
     "execution_failed": "2024-12-04T00:01:24.426Z",
     "iopub.execute_input": "2024-12-03T18:23:50.379269Z",
     "iopub.status.busy": "2024-12-03T18:23:50.377372Z",
     "iopub.status.idle": "2024-12-03T21:16:19.944704Z"
    }
   },
   "outputs": [
    {
     "name": "stdout",
     "output_type": "stream",
     "text": [
      "Execution Interrupted. Attempting to cancel the statement (statement_id=63)\n"
     ]
    }
   ],
   "source": [
    "# Get updated missing values report after imputing values\n",
    "track_points_missing_values_report = get_missing_values(track_points_df)\n",
    "track_points_missing_values_report.show(n=len(track_points_df.columns), truncate=False)"
   ]
  },
  {
   "cell_type": "code",
   "execution_count": null,
   "id": "d47f237a-08ad-4291-8586-36e439523d12",
   "metadata": {
    "execution": {
     "iopub.execute_input": "2024-12-03T21:16:19.945818Z",
     "iopub.status.busy": "2024-12-03T21:16:19.945611Z",
     "iopub.status.idle": "2024-12-03T21:24:31.661748Z",
     "shell.execute_reply": "2024-12-03T21:24:31.660897Z",
     "shell.execute_reply.started": "2024-12-03T21:16:19.945799Z"
    }
   },
   "outputs": [
    {
     "name": "stdout",
     "output_type": "stream",
     "text": [
      "\n"
     ]
    }
   ],
   "source": [
    "# Get new record count after dropping null values\n",
    "track_points_count = track_points_df.count()"
   ]
  },
  {
   "cell_type": "code",
   "execution_count": null,
   "id": "5e9902e2-a8ec-46f1-866d-78bc6289520c",
   "metadata": {
    "execution": {
     "iopub.execute_input": "2024-12-03T21:24:31.663477Z",
     "iopub.status.busy": "2024-12-03T21:24:31.663171Z",
     "iopub.status.idle": "2024-12-03T21:24:31.910755Z",
     "shell.execute_reply": "2024-12-03T21:24:31.909906Z",
     "shell.execute_reply.started": "2024-12-03T21:24:31.663450Z"
    }
   },
   "outputs": [
    {
     "name": "stdout",
     "output_type": "stream",
     "text": [
      "Track points count after dropping null values: 1,229,238,805\n"
     ]
    }
   ],
   "source": [
    "print(f'Track points count after dropping null values: {track_points_count:,}')"
   ]
  },
  {
   "cell_type": "markdown",
   "id": "9b4956bf-dae7-453e-83bb-35372bcf39e3",
   "metadata": {
    "jp-MarkdownHeadingCollapsed": true
   },
   "source": [
    "#### Analyze Uniqueness"
   ]
  },
  {
   "cell_type": "code",
   "execution_count": null,
   "id": "0943de60-1de4-4d90-ba19-2f7fda3ec17f",
   "metadata": {
    "execution": {
     "iopub.execute_input": "2024-12-02T13:31:50.260107Z",
     "iopub.status.busy": "2024-12-02T13:31:50.259510Z",
     "iopub.status.idle": "2024-12-02T13:32:12.357230Z",
     "shell.execute_reply": "2024-12-02T13:32:12.353476Z",
     "shell.execute_reply.started": "2024-12-02T13:31:50.260077Z"
    },
    "tags": []
   },
   "outputs": [
    {
     "name": "stdout",
     "output_type": "stream",
     "text": [
      "-RECORD 0-----------------\n",
      " time           | 3666057 \n",
      " icao24         | 19491   \n",
      " lat            | 962826  \n",
      " lon            | 3409735 \n",
      " velocity       | 74021   \n",
      " heading        | 489644  \n",
      " vertrate       | 513     \n",
      " callsign       | 27281   \n",
      " onground       | 2       \n",
      " alert          | 2       \n",
      " spi            | 2       \n",
      " baroaltitude   | 2309    \n",
      " geoaltitude    | 4357    \n",
      " lastposupdate  | 5849680 \n",
      " lastcontact    | 5943035 \n",
      " serials        | 927566  \n",
      " day_of_week    | 7       \n",
      " daynum_of_week | 7       \n",
      " month_name     | 2\n"
     ]
    }
   ],
   "source": [
    "track_points_unique_counts = get_unique_values(track_points_df)\n",
    "track_points_unique_counts.show(n=len(track_points_df.columns), vertical=True, truncate=False)"
   ]
  },
  {
   "cell_type": "code",
   "execution_count": null,
   "id": "136aa41b-62d7-446b-bc43-dc3d48bd7cec",
   "metadata": {
    "execution": {
     "iopub.execute_input": "2024-12-02T13:32:12.359575Z",
     "iopub.status.busy": "2024-12-02T13:32:12.359260Z",
     "iopub.status.idle": "2024-12-02T13:32:12.562232Z",
     "shell.execute_reply": "2024-12-02T13:32:12.561518Z",
     "shell.execute_reply.started": "2024-12-02T13:32:12.359547Z"
    }
   },
   "outputs": [
    {
     "name": "stdout",
     "output_type": "stream",
     "text": [
      "root\n",
      " |-- time: timestamp (nullable = true)\n",
      " |-- icao24: string (nullable = true)\n",
      " |-- lat: double (nullable = true)\n",
      " |-- lon: double (nullable = true)\n",
      " |-- velocity: double (nullable = true)\n",
      " |-- heading: double (nullable = true)\n",
      " |-- vertrate: double (nullable = true)\n",
      " |-- callsign: string (nullable = true)\n",
      " |-- onground: integer (nullable = true)\n",
      " |-- alert: integer (nullable = true)\n",
      " |-- spi: integer (nullable = true)\n",
      " |-- baroaltitude: double (nullable = true)\n",
      " |-- geoaltitude: double (nullable = true)\n",
      " |-- lastposupdate: double (nullable = true)\n",
      " |-- lastcontact: double (nullable = true)\n",
      " |-- serials: array (nullable = true)\n",
      " |    |-- element: long (containsNull = true)\n",
      " |-- day_of_week: string (nullable = true)\n",
      " |-- daynum_of_week: integer (nullable = true)\n",
      " |-- month_name: string (nullable = true)\n"
     ]
    }
   ],
   "source": [
    "track_points_df.printSchema()"
   ]
  },
  {
   "cell_type": "markdown",
   "id": "479d328f-f71a-48c6-9c78-e556cf515dc4",
   "metadata": {},
   "source": [
    "**Observation:** Only a few features are categorical for track points.\n",
    "\n",
    "Low variance columns (categorical):\n",
    "* onground\n",
    "* alert\n",
    "* spi\n",
    "* day_of_week\n",
    "* month_name\n",
    "\n",
    "Of these features, only `day_of_week` and `month_name` are strings which we created."
   ]
  },
  {
   "cell_type": "markdown",
   "id": "fb7db07a-a609-4eb2-92cd-25846a40f005",
   "metadata": {
    "jp-MarkdownHeadingCollapsed": true
   },
   "source": [
    "#### Analyze Events by Altitude Bins"
   ]
  },
  {
   "cell_type": "code",
   "execution_count": null,
   "id": "8f2ae4c2-59aa-4e8c-9520-d019a326e460",
   "metadata": {
    "execution": {
     "iopub.execute_input": "2024-11-30T21:35:12.486364Z",
     "iopub.status.busy": "2024-11-30T21:35:12.485712Z",
     "iopub.status.idle": "2024-11-30T21:35:12.697726Z",
     "shell.execute_reply": "2024-11-30T21:35:12.696814Z",
     "shell.execute_reply.started": "2024-11-30T21:35:12.486335Z"
    },
    "tags": []
   },
   "outputs": [
    {
     "name": "stdout",
     "output_type": "stream",
     "text": [
      "\n"
     ]
    }
   ],
   "source": [
    "alt_bins = [0, 150, 200, 250, 500, 750, 1000, 2500, 5000, 10000, float(\"inf\")]\n",
    "alt_labels = ['<150', '150-200', '200-250', '250-500', '500-750', '750-1000', '1000-2500', '2500-5000', '5000-10000', '>10000']"
   ]
  },
  {
   "cell_type": "code",
   "execution_count": null,
   "id": "17dca9af-a45c-4865-a69d-89428b039697",
   "metadata": {
    "execution": {
     "iopub.execute_input": "2024-11-30T21:35:12.700872Z",
     "iopub.status.busy": "2024-11-30T21:35:12.700406Z",
     "iopub.status.idle": "2024-11-30T21:35:13.977004Z",
     "shell.execute_reply": "2024-11-30T21:35:13.976081Z",
     "shell.execute_reply.started": "2024-11-30T21:35:12.700844Z"
    },
    "tags": []
   },
   "outputs": [
    {
     "name": "stdout",
     "output_type": "stream",
     "text": [
      "\n"
     ]
    }
   ],
   "source": [
    "# Create the altitude bins for baroaltitude\n",
    "track_points_df = track_points_df.withColumn(\"altitude_bin\", \n",
    "                   F.when(F.col(\"baroaltitude\") < alt_bins[1], alt_labels[0])\n",
    "                   .when((F.col(\"baroaltitude\") >= alt_bins[1]) & (F.col(\"baroaltitude\") < alt_bins[2]), alt_labels[1])\n",
    "                   .when((F.col(\"baroaltitude\") >= alt_bins[2]) & (F.col(\"baroaltitude\") < alt_bins[3]), alt_labels[2])\n",
    "                   .when((F.col(\"baroaltitude\") >= alt_bins[3]) & (F.col(\"baroaltitude\") < alt_bins[4]), alt_labels[3])\n",
    "                   .when((F.col(\"baroaltitude\") >= alt_bins[4]) & (F.col(\"baroaltitude\") < alt_bins[5]), alt_labels[4])\n",
    "                   .when((F.col(\"baroaltitude\") >= alt_bins[5]) & (F.col(\"baroaltitude\") < alt_bins[6]), alt_labels[5])\n",
    "                   .when((F.col(\"baroaltitude\") >= alt_bins[6]) & (F.col(\"baroaltitude\") < alt_bins[7]), alt_labels[6])\n",
    "                   .when((F.col(\"baroaltitude\") >= alt_bins[7]) & (F.col(\"baroaltitude\") < alt_bins[8]), alt_labels[7])\n",
    "                   .when((F.col(\"baroaltitude\") >= alt_bins[8]) & (F.col(\"baroaltitude\") < alt_bins[9]), alt_labels[8])\n",
    "                   .otherwise(alt_labels[9]))"
   ]
  },
  {
   "cell_type": "code",
   "execution_count": null,
   "id": "fefb4ee2-9cee-4701-9453-8c420b697c8c",
   "metadata": {
    "execution": {
     "iopub.execute_input": "2024-11-30T21:35:13.978034Z",
     "iopub.status.busy": "2024-11-30T21:35:13.977813Z",
     "iopub.status.idle": "2024-11-30T21:38:56.601107Z",
     "shell.execute_reply": "2024-11-30T21:38:56.600291Z",
     "shell.execute_reply.started": "2024-11-30T21:35:13.978015Z"
    },
    "tags": []
   },
   "outputs": [
    {
     "name": "stdout",
     "output_type": "stream",
     "text": [
      "====================================================================================================\n",
      "OpenSky Network Track Points by Altitude Bin\n",
      "====================================================================================================\n",
      "+------------+------------------+\n",
      "|altitude_bin|track_points_count|\n",
      "+------------+------------------+\n",
      "|      >10000|          16764454|\n",
      "|  5000-10000|           9392830|\n",
      "|   1000-2500|           7934471|\n",
      "|   2500-5000|           4718559|\n",
      "|     250-500|           3160821|\n",
      "|     500-750|           2873693|\n",
      "|    750-1000|           2631313|\n",
      "|        <150|           1395922|\n",
      "|     200-250|            579841|\n",
      "|     150-200|            546516|\n",
      "+------------+------------------+\n"
     ]
    }
   ],
   "source": [
    "# Analyze event score by altitude_bin\n",
    "print('='*100)\n",
    "print(f'OpenSky Network Track Points by Altitude Bin')\n",
    "print('='*100)\n",
    "track_points_df.groupBy('altitude_bin').agg(\n",
    "    F.count('*').alias('track_points_count'),\n",
    ").orderBy(F.col('track_points_count').desc()).show()"
   ]
  },
  {
   "cell_type": "markdown",
   "id": "0e466cab-b0c2-4093-9d77-1599ba3df5dc",
   "metadata": {},
   "source": [
    "#### Filter by Altitude to Match Grids Ceiling\n",
    "Filtering by altitude to match the min/max range of UASFM grid ceilings will ensure only the records of interest get analyzed for geospatial risk analysis."
   ]
  },
  {
   "cell_type": "code",
   "execution_count": 62,
   "id": "c84af3f6-2412-469e-9272-5428143dcf8e",
   "metadata": {
    "execution": {
     "iopub.execute_input": "2024-12-05T13:17:38.134451Z",
     "iopub.status.busy": "2024-12-05T13:17:38.134069Z",
     "iopub.status.idle": "2024-12-05T13:17:38.375323Z",
     "shell.execute_reply": "2024-12-05T13:17:38.374581Z",
     "shell.execute_reply.started": "2024-12-05T13:17:38.134425Z"
    }
   },
   "outputs": [
    {
     "name": "stdout",
     "output_type": "stream",
     "text": [
      "\n"
     ]
    }
   ],
   "source": [
    "track_points_df = track_points_df.filter(track_points_df[\"baroaltitude\"].between(min_ceiling, max_ceiling))"
   ]
  },
  {
   "cell_type": "code",
   "execution_count": 63,
   "id": "3666f27a-2cbf-4cde-9f02-9372c9ad7d82",
   "metadata": {
    "execution": {
     "iopub.execute_input": "2024-12-05T13:17:38.377272Z",
     "iopub.status.busy": "2024-12-05T13:17:38.376857Z",
     "iopub.status.idle": "2024-12-05T13:17:39.701865Z",
     "shell.execute_reply": "2024-12-05T13:17:39.701037Z",
     "shell.execute_reply.started": "2024-12-05T13:17:38.377242Z"
    }
   },
   "outputs": [
    {
     "name": "stdout",
     "output_type": "stream",
     "text": [
      "\n"
     ]
    }
   ],
   "source": [
    "filtered_track_points_count = track_points_df.count()"
   ]
  },
  {
   "cell_type": "code",
   "execution_count": 64,
   "id": "96a91612-def1-4df6-9076-55e5e775919a",
   "metadata": {
    "execution": {
     "iopub.execute_input": "2024-12-05T13:17:39.704182Z",
     "iopub.status.busy": "2024-12-05T13:17:39.703781Z",
     "iopub.status.idle": "2024-12-05T13:17:39.932064Z",
     "shell.execute_reply": "2024-12-05T13:17:39.930892Z",
     "shell.execute_reply.started": "2024-12-05T13:17:39.704156Z"
    }
   },
   "outputs": [
    {
     "name": "stdout",
     "output_type": "stream",
     "text": [
      "Filtered track points count: 27,362,475\n"
     ]
    }
   ],
   "source": [
    "print(f'Filtered track points count: {filtered_track_points_count:,}')"
   ]
  },
  {
   "cell_type": "markdown",
   "id": "7fe0a8ff-3cfe-4f52-99db-2c30c07f11ab",
   "metadata": {
    "jp-MarkdownHeadingCollapsed": true
   },
   "source": [
    "#### Save Filtered Track Points by Grid Ceiling"
   ]
  },
  {
   "cell_type": "code",
   "execution_count": null,
   "id": "2b20d20f-83a4-42e2-a396-9bf5fd2654e1",
   "metadata": {
    "execution": {
     "iopub.execute_input": "2024-12-03T21:34:05.077706Z",
     "iopub.status.busy": "2024-12-03T21:34:05.077422Z",
     "iopub.status.idle": "2024-12-03T21:34:05.304872Z",
     "shell.execute_reply": "2024-12-03T21:34:05.304150Z",
     "shell.execute_reply.started": "2024-12-03T21:34:05.077677Z"
    }
   },
   "outputs": [
    {
     "name": "stdout",
     "output_type": "stream",
     "text": [
      "\n"
     ]
    }
   ],
   "source": [
    "# track_points_df = track_points_df.withColumn('year', F.year('time'))\\\n",
    "#                                  .withColumn('month', F.month('time'))\\\n",
    "#                                  .withColumn('day', F.dayofmonth('time'))\\\n",
    "#                                  .withColumn('hour', F.hour('time'))"
   ]
  },
  {
   "cell_type": "code",
   "execution_count": null,
   "id": "137aed70-a32a-4c2e-87ed-b38801c2e8b1",
   "metadata": {
    "execution": {
     "iopub.execute_input": "2024-12-03T21:34:05.307064Z",
     "iopub.status.busy": "2024-12-03T21:34:05.306795Z",
     "iopub.status.idle": "2024-12-03T21:54:03.429216Z",
     "shell.execute_reply": "2024-12-03T21:54:03.428295Z",
     "shell.execute_reply.started": "2024-12-03T21:34:05.307046Z"
    }
   },
   "outputs": [
    {
     "name": "stdout",
     "output_type": "stream",
     "text": [
      "\n"
     ]
    }
   ],
   "source": [
    "# Write the DataFrame to Parquet format, partitioned by year, month, day, and hour\n",
    "# track_points_df.write.partitionBy(\"year\", \"month\", \"day\", \"hour\")\\\n",
    "#                       .parquet(\"s3://endurasoft-dev-risk-framework/datasets/grid-ceiling-track-points/\")"
   ]
  },
  {
   "cell_type": "markdown",
   "id": "c223f8c4-ff54-4329-8767-7d69cfdf59b5",
   "metadata": {
    "jp-MarkdownHeadingCollapsed": true
   },
   "source": [
    "#### Load Filtered Track Points by Grid Ceiling"
   ]
  },
  {
   "cell_type": "code",
   "execution_count": null,
   "id": "ef7b6b7e-54a9-4382-9fbc-f9af032d9fec",
   "metadata": {},
   "outputs": [],
   "source": [
    "# track_points_df = spark.read.parquet(\"s3://endurasoft-dev-risk-framework/datasets/grid-ceiling-track-points/year=*/month=*/day=*/hour=*/*.parquet\")"
   ]
  },
  {
   "cell_type": "markdown",
   "id": "a62bdc97-7434-4fbd-9de0-66ba3261c2ec",
   "metadata": {},
   "source": [
    "#### Add Point Geometry for Track Points"
   ]
  },
  {
   "cell_type": "code",
   "execution_count": 65,
   "id": "3440c7f8-3df8-4d11-a575-63382c3f2de0",
   "metadata": {
    "execution": {
     "iopub.execute_input": "2024-12-05T13:17:44.013977Z",
     "iopub.status.busy": "2024-12-05T13:17:44.013622Z",
     "iopub.status.idle": "2024-12-05T13:17:45.522218Z",
     "shell.execute_reply": "2024-12-05T13:17:45.521438Z",
     "shell.execute_reply.started": "2024-12-05T13:17:44.013953Z"
    }
   },
   "outputs": [
    {
     "name": "stdout",
     "output_type": "stream",
     "text": [
      "\n"
     ]
    }
   ],
   "source": [
    "# Create schema for RDD\n",
    "track_points_schema = T.StructType(list(track_points_df.schema) + [T.StructField(\"point_wkt\", T.StringType(), True)])\n",
    "\n",
    "# Capture RDD\n",
    "track_points_rdd = track_points_df.rdd\n",
    "\n",
    "# Add point geometry\n",
    "track_points_rdd = track_points_rdd.map(lambda row: add_point_wkt(row, lat_col='lat', lon_col='lon', alt_col='baroaltitude', point_wkt_col='point_wkt'))\n",
    "\n",
    "# Transform RDD with point geometry back to spark dataframe\n",
    "track_points_df = spark.createDataFrame(track_points_rdd, schema=track_points_schema).persist()"
   ]
  },
  {
   "cell_type": "code",
   "execution_count": 66,
   "id": "c785fe02-9cfa-45d6-a00d-f9e33338fa0c",
   "metadata": {
    "execution": {
     "iopub.execute_input": "2024-12-05T13:17:45.523853Z",
     "iopub.status.busy": "2024-12-05T13:17:45.523590Z",
     "iopub.status.idle": "2024-12-05T13:17:45.752400Z",
     "shell.execute_reply": "2024-12-05T13:17:45.751110Z",
     "shell.execute_reply.started": "2024-12-05T13:17:45.523831Z"
    }
   },
   "outputs": [
    {
     "name": "stdout",
     "output_type": "stream",
     "text": [
      "\n"
     ]
    }
   ],
   "source": [
    "# Convert point WKT to geometry using sedona\n",
    "track_points_df = track_points_df.withColumn(\"point_geometry\", F.expr(\"ST_GeomFromWKT(point_wkt)\"))"
   ]
  },
  {
   "cell_type": "code",
   "execution_count": 67,
   "id": "c75cab71-634c-4a83-83c9-326dd7c0b093",
   "metadata": {
    "execution": {
     "iopub.execute_input": "2024-12-05T13:17:45.754941Z",
     "iopub.status.busy": "2024-12-05T13:17:45.754648Z",
     "iopub.status.idle": "2024-12-05T13:17:46.181598Z",
     "shell.execute_reply": "2024-12-05T13:17:46.180588Z",
     "shell.execute_reply.started": "2024-12-05T13:17:45.754910Z"
    }
   },
   "outputs": [
    {
     "name": "stdout",
     "output_type": "stream",
     "text": [
      "root\n",
      " |-- time: timestamp (nullable = true)\n",
      " |-- icao24: string (nullable = true)\n",
      " |-- lat: double (nullable = true)\n",
      " |-- lon: double (nullable = true)\n",
      " |-- velocity: double (nullable = true)\n",
      " |-- heading: double (nullable = true)\n",
      " |-- vertrate: double (nullable = true)\n",
      " |-- callsign: string (nullable = true)\n",
      " |-- onground: integer (nullable = true)\n",
      " |-- alert: integer (nullable = true)\n",
      " |-- spi: integer (nullable = true)\n",
      " |-- baroaltitude: double (nullable = true)\n",
      " |-- geoaltitude: double (nullable = true)\n",
      " |-- lastposupdate: double (nullable = true)\n",
      " |-- lastcontact: double (nullable = true)\n",
      " |-- serials: array (nullable = true)\n",
      " |    |-- element: long (containsNull = true)\n",
      " |-- day_of_week: string (nullable = true)\n",
      " |-- daynum_of_week: integer (nullable = true)\n",
      " |-- month_name: string (nullable = true)\n",
      " |-- point_wkt: string (nullable = true)\n",
      " |-- point_geometry: geometry (nullable = false)\n"
     ]
    }
   ],
   "source": [
    "track_points_df.printSchema()"
   ]
  },
  {
   "cell_type": "code",
   "execution_count": 68,
   "id": "fd8da684-2825-4400-a766-1d987159dea0",
   "metadata": {
    "execution": {
     "iopub.execute_input": "2024-12-05T13:17:46.185874Z",
     "iopub.status.busy": "2024-12-05T13:17:46.185292Z",
     "iopub.status.idle": "2024-12-05T13:18:46.477936Z",
     "shell.execute_reply": "2024-12-05T13:18:46.476675Z",
     "shell.execute_reply.started": "2024-12-05T13:17:46.185849Z"
    }
   },
   "outputs": [
    {
     "name": "stdout",
     "output_type": "stream",
     "text": [
      "-RECORD 0---------------------------------------------------------------\n",
      " time           | 2024-07-19 11:00:02                                   \n",
      " icao24         | a025bc                                                \n",
      " lat            | 29.309646606445312                                    \n",
      " lon            | -81.1421673114483                                     \n",
      " velocity       | 53.800611565858915                                    \n",
      " heading        | 6.037682521422889                                     \n",
      " vertrate       | 4.22656                                               \n",
      " callsign       | JED122                                                \n",
      " onground       | 0                                                     \n",
      " alert          | 0                                                     \n",
      " spi            | 0                                                     \n",
      " baroaltitude   | 281.94                                                \n",
      " geoaltitude    | 289.56                                                \n",
      " lastposupdate  | 1.721386801701E9                                      \n",
      " lastcontact    | 1.721386801701E9                                      \n",
      " serials        | [-1408235449]                                         \n",
      " day_of_week    | Friday                                                \n",
      " daynum_of_week | 6                                                     \n",
      " month_name     | July                                                  \n",
      " point_wkt      | POINT Z (-81.1421673114483 29.309646606445312 281.94) \n",
      " point_geometry | POINT (-81.1421673114483 29.309646606445312)          \n",
      "only showing top 1 row\n"
     ]
    }
   ],
   "source": [
    "track_points_df.show(n=1, vertical=True, truncate=False)"
   ]
  },
  {
   "cell_type": "markdown",
   "id": "da380052-01a0-4deb-ab88-3fe8386f93b4",
   "metadata": {},
   "source": [
    "**Observation:** Unfortunately, Apache Sedona does not support 3D point geometry and has automatically converted the 3D point WKT to a 2D point geomtry. Therefore, we will need to consider altitude as a separate clause during geospatial joins."
   ]
  },
  {
   "cell_type": "markdown",
   "id": "1862c253-79a1-4d9a-8633-e35ced408b25",
   "metadata": {},
   "source": [
    "## Data Fusion\n",
    "Use geospatial analysis to identify which UASFM grids the track points and uas sightings overlap and assign a unique grid ID accordingly to each record. The goal it to end up with a single cohesive dataset representing a join between track points, uas sightings, and UASFM grids, where each record has a UASFM global id associated with it."
   ]
  },
  {
   "cell_type": "code",
   "execution_count": 69,
   "id": "9b724b15-b978-4203-8fc0-d46515493216",
   "metadata": {
    "execution": {
     "iopub.execute_input": "2024-12-05T13:18:46.480180Z",
     "iopub.status.busy": "2024-12-05T13:18:46.479632Z",
     "iopub.status.idle": "2024-12-05T13:18:46.704254Z",
     "shell.execute_reply": "2024-12-05T13:18:46.703484Z",
     "shell.execute_reply.started": "2024-12-05T13:18:46.480157Z"
    }
   },
   "outputs": [
    {
     "name": "stdout",
     "output_type": "stream",
     "text": [
      "DataFrame[time: timestamp, icao24: string, lat: double, lon: double, velocity: double, heading: double, vertrate: double, callsign: string, onground: int, alert: int, spi: int, baroaltitude: double, geoaltitude: double, lastposupdate: double, lastcontact: double, serials: array<bigint>, day_of_week: string, daynum_of_week: int, month_name: string, point_wkt: string, point_geometry: udt]\n"
     ]
    }
   ],
   "source": [
    "# Create small sample of track points for testing geospatial join\n",
    "target_n = 200_000\n",
    "frac = target_n / track_points_count\n",
    "sample_track_points_df = track_points_df.sample(frac, seed=42)\n",
    "sample_track_points_df.persist()"
   ]
  },
  {
   "cell_type": "code",
   "execution_count": 70,
   "id": "e62da4d5-ee88-44c2-85d8-ea198448526a",
   "metadata": {
    "execution": {
     "iopub.execute_input": "2024-12-05T13:18:46.706044Z",
     "iopub.status.busy": "2024-12-05T13:18:46.705373Z",
     "iopub.status.idle": "2024-12-05T13:18:47.017759Z",
     "shell.execute_reply": "2024-12-05T13:18:47.016690Z",
     "shell.execute_reply.started": "2024-12-05T13:18:46.705946Z"
    }
   },
   "outputs": [
    {
     "name": "stdout",
     "output_type": "stream",
     "text": [
      "\n"
     ]
    }
   ],
   "source": [
    "# Set target track points dataframe for remainder of analysis\n",
    "target_track_points_df = sample_track_points_df\n",
    "# target_track_points_df = track_points_df"
   ]
  },
  {
   "cell_type": "code",
   "execution_count": 71,
   "id": "089df3de-511b-46bf-a4a3-d98793307ea5",
   "metadata": {
    "execution": {
     "iopub.execute_input": "2024-12-05T13:18:47.029686Z",
     "iopub.status.busy": "2024-12-05T13:18:47.027485Z",
     "iopub.status.idle": "2024-12-05T13:28:44.177229Z",
     "shell.execute_reply": "2024-12-05T13:28:44.176334Z",
     "shell.execute_reply.started": "2024-12-05T13:18:47.028911Z"
    }
   },
   "outputs": [
    {
     "name": "stdout",
     "output_type": "stream",
     "text": [
      "\n"
     ]
    }
   ],
   "source": [
    "# Calculate total flight operations based on count of unique flight ids\n",
    "total_ops = target_track_points_df.select('icao24').distinct().count()"
   ]
  },
  {
   "cell_type": "code",
   "execution_count": 72,
   "id": "73d62316-1109-49dd-a0ad-eb43e53f79c5",
   "metadata": {
    "execution": {
     "iopub.execute_input": "2024-12-05T13:28:44.179397Z",
     "iopub.status.busy": "2024-12-05T13:28:44.178771Z",
     "iopub.status.idle": "2024-12-05T13:28:44.388859Z",
     "shell.execute_reply": "2024-12-05T13:28:44.387959Z",
     "shell.execute_reply.started": "2024-12-05T13:28:44.179260Z"
    }
   },
   "outputs": [
    {
     "name": "stdout",
     "output_type": "stream",
     "text": [
      "Total flight operations: 17,952\n"
     ]
    }
   ],
   "source": [
    "print(f'Total flight operations: {total_ops:,}')"
   ]
  },
  {
   "cell_type": "code",
   "execution_count": 73,
   "id": "592a09c3-c92a-422b-97cb-eb01fa4d4a5e",
   "metadata": {
    "execution": {
     "iopub.execute_input": "2024-12-05T13:31:28.843461Z",
     "iopub.status.busy": "2024-12-05T13:31:28.843201Z",
     "iopub.status.idle": "2024-12-05T13:31:33.438468Z",
     "shell.execute_reply": "2024-12-05T13:31:33.437394Z",
     "shell.execute_reply.started": "2024-12-05T13:31:28.843440Z"
    }
   },
   "outputs": [
    {
     "name": "stdout",
     "output_type": "stream",
     "text": [
      "DataFrame[geometry: udt, time: string, icao24: string, lat: string, lon: string, velocity: string, heading: string, vertrate: string, callsign: string, onground: string, alert: string, spi: string, baroaltitude: string, geoaltitude: string, lastposupdate: string, lastcontact: string, serials: string, day_of_week: string, daynum_of_week: string, month_name: string, point_wkt: string]\n"
     ]
    }
   ],
   "source": [
    "# Build the spatial index on track points\n",
    "target_track_points_rdd = Adapter.toSpatialRdd(target_track_points_df, \"point_geometry\")\n",
    "target_track_points_rdd.analyze()\n",
    "target_track_points_rdd.spatialPartitioning(GridType.KDBTREE)\n",
    "target_track_points_rdd.buildIndex(IndexType.RTREE, True)\n",
    "target_track_points_df = Adapter.toDf(target_track_points_rdd, spark)\n",
    "target_track_points_df.persist()"
   ]
  },
  {
   "cell_type": "code",
   "execution_count": 74,
   "id": "9c5cbd17-0610-4f13-af81-09c73fe768c5",
   "metadata": {
    "execution": {
     "iopub.execute_input": "2024-12-05T13:31:33.440749Z",
     "iopub.status.busy": "2024-12-05T13:31:33.440416Z",
     "iopub.status.idle": "2024-12-05T13:31:39.113616Z",
     "shell.execute_reply": "2024-12-05T13:31:39.111996Z",
     "shell.execute_reply.started": "2024-12-05T13:31:33.440723Z"
    }
   },
   "outputs": [
    {
     "name": "stdout",
     "output_type": "stream",
     "text": [
      "DataFrame[geometry: udt, objectid: string, ceiling: string, unit: string, map_eff: string, last_edit: string, latitude: string, longitude: string, globalid: string, arpt_count: string, apt1_faaid: string, apt1_icao: string, apt1_name: string, apt1_laanc: string, apt2_faaid: string, apt2_icao: string, apt2_name: string, apt2_laanc: string, apt3_faaid: string, apt3_icao: string, apt3_name: string, apt3_laanc: string, apt4_faaid: string, apt4_icao: string, apt4_name: string, apt4_laanc: string, apt5_faaid: string, apt5_icao: string, apt5_name: string, apt5_laanc: string, airs_count: string, airspace_1: string, airspace_2: string, airspace_3: string, airspace_4: string, airspace_5: string, region: string, apt1_enabled: string, apt2_enabled: string, apt3_enabled: string, apt4_enabled: string, apt5_enabled: string, shape__length: string, shape__area: string, shape__area_2: string, shape__length_2: string, wkt: string]\n"
     ]
    }
   ],
   "source": [
    "# Build the spatial index on UASFM grids\n",
    "uasfm_rdd = Adapter.toSpatialRdd(uasfm_df, \"geometry\")\n",
    "uasfm_rdd.analyze()\n",
    "uasfm_rdd.spatialPartitioning(GridType.KDBTREE)\n",
    "uasfm_rdd.buildIndex(IndexType.RTREE, True)\n",
    "uasfm_df = Adapter.toDf(uasfm_rdd, spark)\n",
    "uasfm_df.persist()"
   ]
  },
  {
   "cell_type": "code",
   "execution_count": 75,
   "id": "030d0bad-b84c-4a96-bf5d-599b672e358a",
   "metadata": {
    "execution": {
     "iopub.execute_input": "2024-12-05T13:31:39.120331Z",
     "iopub.status.busy": "2024-12-05T13:31:39.119227Z",
     "iopub.status.idle": "2024-12-05T13:31:40.436237Z",
     "shell.execute_reply": "2024-12-05T13:31:40.435318Z",
     "shell.execute_reply.started": "2024-12-05T13:31:39.120295Z"
    }
   },
   "outputs": [
    {
     "name": "stdout",
     "output_type": "stream",
     "text": [
      "DataFrame[geometry: udt, id: string, report_date: string, city: string, state: string, report_narrative: string, timestamp: string, latitude: string, longitude: string, altitude: string, uncertainty: string, point_wkt: string]\n"
     ]
    }
   ],
   "source": [
    "# Build the spatial index on uas sightings\n",
    "uas_sightings_rdd = Adapter.toSpatialRdd(uas_sightings_df, \"point_geometry\")\n",
    "uas_sightings_rdd.analyze()\n",
    "uas_sightings_rdd.spatialPartitioning(GridType.KDBTREE)\n",
    "uas_sightings_rdd.buildIndex(IndexType.RTREE, True)\n",
    "uas_sightings_df = Adapter.toDf(uas_sightings_rdd, spark)\n",
    "uas_sightings_df.persist()"
   ]
  },
  {
   "cell_type": "code",
   "execution_count": 76,
   "id": "8e7b6cca-0209-42db-aa67-86bca048bcfd",
   "metadata": {
    "execution": {
     "iopub.execute_input": "2024-12-05T13:31:40.440437Z",
     "iopub.status.busy": "2024-12-05T13:31:40.438445Z",
     "iopub.status.idle": "2024-12-05T13:31:40.662166Z",
     "shell.execute_reply": "2024-12-05T13:31:40.661364Z",
     "shell.execute_reply.started": "2024-12-05T13:31:40.440409Z"
    }
   },
   "outputs": [
    {
     "name": "stdout",
     "output_type": "stream",
     "text": [
      "\n"
     ]
    }
   ],
   "source": [
    "# Register UASFM grids, flight tracks, and UAS sightings as temporary views\n",
    "uasfm_df.createOrReplaceTempView(\"uasfm_grids\")\n",
    "target_track_points_df.createOrReplaceTempView(\"track_points\")\n",
    "uas_sightings_df.createOrReplaceTempView(\"uas_sightings\")"
   ]
  },
  {
   "cell_type": "markdown",
   "id": "572a2eb8-cd29-491d-b020-a0cd3c4f4e73",
   "metadata": {},
   "source": [
    "#### Run Geospatial Risk Query"
   ]
  },
  {
   "cell_type": "code",
   "execution_count": 77,
   "id": "e1c2583a-df82-42e2-8a61-1807fd573887",
   "metadata": {
    "execution": {
     "iopub.execute_input": "2024-12-05T13:33:34.132956Z",
     "iopub.status.busy": "2024-12-05T13:33:34.132537Z",
     "iopub.status.idle": "2024-12-05T13:33:34.395683Z",
     "shell.execute_reply": "2024-12-05T13:33:34.394961Z",
     "shell.execute_reply.started": "2024-12-05T13:33:34.132933Z"
    }
   },
   "outputs": [
    {
     "name": "stdout",
     "output_type": "stream",
     "text": [
      "\n"
     ]
    }
   ],
   "source": [
    "# Get all columns from the uasfm DataFrame\n",
    "grid_columns = uasfm_df.columns\n",
    "\n",
    "# Format columns for the SELECT and GROUP BY clauses\n",
    "select_columns = \", \".join([f\"g.{col}\" for col in grid_columns])\n",
    "group_by_columns = \", \".join([f\"g.{col}\" for col in grid_columns])"
   ]
  },
  {
   "cell_type": "code",
   "execution_count": 78,
   "id": "c0bfd07c-4395-4708-8ead-d916bc47437d",
   "metadata": {
    "execution": {
     "iopub.execute_input": "2024-12-05T13:37:28.566604Z",
     "iopub.status.busy": "2024-12-05T13:37:28.566215Z",
     "iopub.status.idle": "2024-12-05T13:37:32.138483Z",
     "shell.execute_reply": "2024-12-05T13:37:32.135810Z",
     "shell.execute_reply.started": "2024-12-05T13:37:28.566578Z"
    }
   },
   "outputs": [
    {
     "name": "stdout",
     "output_type": "stream",
     "text": [
      "+------+\n",
      "|COUNT |\n",
      "+------+\n",
      "|200483|\n",
      "+------+\n"
     ]
    }
   ],
   "source": [
    "# Verify there are no track points outside of the grid ceiling range\n",
    "spark.sql(f'SELECT COUNT(*) AS COUNT FROM track_points f WHERE f.baroaltitude BETWEEN {min_ceiling} AND {max_ceiling}').show(truncate=False)"
   ]
  },
  {
   "cell_type": "code",
   "execution_count": 87,
   "id": "39d24517-84fc-472e-bcc3-86ee39061380",
   "metadata": {
    "execution": {
     "iopub.execute_input": "2024-12-05T14:00:04.071380Z",
     "iopub.status.busy": "2024-12-05T14:00:04.070501Z",
     "iopub.status.idle": "2024-12-05T14:00:05.581728Z",
     "shell.execute_reply": "2024-12-05T14:00:05.580579Z",
     "shell.execute_reply.started": "2024-12-05T14:00:04.071353Z"
    }
   },
   "outputs": [
    {
     "name": "stdout",
     "output_type": "stream",
     "text": [
      "Target track points count: 200,483\n"
     ]
    }
   ],
   "source": [
    "target_track_points_count = target_track_points_df.count()\n",
    "print(f'Target track points count: {target_track_points_count:,}')"
   ]
  },
  {
   "cell_type": "markdown",
   "id": "63adc18d-e680-48f6-b33b-a98b3403f244",
   "metadata": {},
   "source": [
    "##### Track Points Intersections"
   ]
  },
  {
   "cell_type": "code",
   "execution_count": 82,
   "id": "02371a82-88eb-43c9-8317-0134a382155e",
   "metadata": {
    "execution": {
     "iopub.execute_input": "2024-12-05T13:56:11.856861Z",
     "iopub.status.busy": "2024-12-05T13:56:11.856330Z",
     "iopub.status.idle": "2024-12-05T13:56:12.116691Z",
     "shell.execute_reply": "2024-12-05T13:56:12.115931Z",
     "shell.execute_reply.started": "2024-12-05T13:56:11.856836Z"
    }
   },
   "outputs": [
    {
     "name": "stdout",
     "output_type": "stream",
     "text": [
      "\n"
     ]
    }
   ],
   "source": [
    "track_points_intersections_query = \"\"\"\n",
    "SELECT f.*, g.globalid\n",
    "FROM track_points f\n",
    "LEFT JOIN uasfm_grids g ON ST_Intersects(g.geometry, f.geometry)\n",
    "\"\"\"\n",
    "\n",
    "track_points_intersections_df = spark.sql(track_points_intersections_query)"
   ]
  },
  {
   "cell_type": "code",
   "execution_count": 83,
   "id": "69048d70-7e40-4920-86b1-bf77c22ea94b",
   "metadata": {
    "execution": {
     "iopub.execute_input": "2024-12-05T13:56:19.391095Z",
     "iopub.status.busy": "2024-12-05T13:56:19.390305Z",
     "iopub.status.idle": "2024-12-05T13:56:19.629726Z",
     "shell.execute_reply": "2024-12-05T13:56:19.628894Z",
     "shell.execute_reply.started": "2024-12-05T13:56:19.391066Z"
    }
   },
   "outputs": [
    {
     "name": "stdout",
     "output_type": "stream",
     "text": [
      "DataFrame[geometry: udt, time: string, icao24: string, lat: string, lon: string, velocity: string, heading: string, vertrate: string, callsign: string, onground: string, alert: string, spi: string, baroaltitude: string, geoaltitude: string, lastposupdate: string, lastcontact: string, serials: string, day_of_week: string, daynum_of_week: string, month_name: string, point_wkt: string, globalid: string]\n"
     ]
    }
   ],
   "source": [
    "track_points_intersections_df.persist()"
   ]
  },
  {
   "cell_type": "code",
   "execution_count": 88,
   "id": "9e9bc911-3bb1-42b6-9a53-0419032b3c51",
   "metadata": {
    "execution": {
     "iopub.execute_input": "2024-12-05T14:00:14.402757Z",
     "iopub.status.busy": "2024-12-05T14:00:14.402435Z",
     "iopub.status.idle": "2024-12-05T14:25:40.323020Z",
     "shell.execute_reply": "2024-12-05T14:25:40.315940Z",
     "shell.execute_reply.started": "2024-12-05T14:00:14.402734Z"
    }
   },
   "outputs": [
    {
     "name": "stdout",
     "output_type": "stream",
     "text": [
      "-RECORD 0------------------------------\n",
      " geometry       | POINT (-81.104982... \n",
      " time           | 2024-07-19 11:04:... \n",
      " icao24         | a025bc               \n",
      " lat            | 29.303421020507812   \n",
      " lon            | -81.10498281625598   \n",
      " velocity       | 36.12114978292468    \n",
      " heading        | 259.33021719550334   \n",
      " vertrate       | -2.27584             \n",
      " callsign       | JED122               \n",
      " onground       | 0                    \n",
      " alert          | 0                    \n",
      " spi            | 0                    \n",
      " baroaltitude   | 0.0                  \n",
      " geoaltitude    | 7.62                 \n",
      " lastposupdate  | 1.721387015906E9     \n",
      " lastcontact    | 1.721387015906E9     \n",
      " serials        | WrappedArray()       \n",
      " day_of_week    | Friday               \n",
      " daynum_of_week | 6                    \n",
      " month_name     | July                 \n",
      " point_wkt      | POINT Z (-81.1049... \n",
      " globalid       | 419a3255-25ec-4e3... \n",
      "only showing top 1 row\n"
     ]
    }
   ],
   "source": [
    "track_points_intersections_df.show(n=1, vertical=True)"
   ]
  },
  {
   "cell_type": "code",
   "execution_count": null,
   "id": "c4963376-5214-433d-91aa-7ce2af22a3c4",
   "metadata": {
    "execution": {
     "iopub.execute_input": "2024-12-05T14:30:58.029165Z",
     "iopub.status.busy": "2024-12-05T14:30:58.028581Z",
     "iopub.status.idle": "2024-12-05T18:47:14.996426Z"
    }
   },
   "outputs": [
    {
     "name": "stdout",
     "output_type": "stream",
     "text": [
      "\n"
     ]
    }
   ],
   "source": [
    "# Get count of intersections\n",
    "track_point_intersections_count = track_points_intersections_df.filter(F.col(\"globalid\").isNotNull()).count()"
   ]
  },
  {
   "cell_type": "code",
   "execution_count": 93,
   "id": "852ae2fb-c1c7-424d-a522-a59b21b92150",
   "metadata": {
    "execution": {
     "iopub.execute_input": "2024-12-05T18:59:57.548857Z",
     "iopub.status.busy": "2024-12-05T18:59:57.548154Z",
     "iopub.status.idle": "2024-12-05T18:59:57.835175Z",
     "shell.execute_reply": "2024-12-05T18:59:57.834048Z",
     "shell.execute_reply.started": "2024-12-05T18:59:57.548829Z"
    }
   },
   "outputs": [
    {
     "name": "stdout",
     "output_type": "stream",
     "text": [
      "130,004 of 200,483 track points intersected with grids (64.85%)\n"
     ]
    }
   ],
   "source": [
    "# Analyze difference\n",
    "print(f'{track_point_intersections_count:,} of {target_track_points_count:,} track points intersected with grids ({(track_point_intersections_count/target_track_points_count)*100:.2f}%)')"
   ]
  },
  {
   "cell_type": "markdown",
   "id": "65664551-d432-4a9a-96e4-b84a72c0d99f",
   "metadata": {},
   "source": [
    "##### UAS Sightings Intersections"
   ]
  },
  {
   "cell_type": "code",
   "execution_count": 94,
   "id": "475e74a6-5840-4e8f-880a-c33c67dc6fe7",
   "metadata": {
    "execution": {
     "iopub.execute_input": "2024-12-05T19:03:52.726336Z",
     "iopub.status.busy": "2024-12-05T19:03:52.726033Z",
     "iopub.status.idle": "2024-12-05T19:03:53.002499Z",
     "shell.execute_reply": "2024-12-05T19:03:53.000950Z",
     "shell.execute_reply.started": "2024-12-05T19:03:52.726311Z"
    }
   },
   "outputs": [
    {
     "name": "stdout",
     "output_type": "stream",
     "text": [
      "\n"
     ]
    }
   ],
   "source": [
    "uas_sightings_intersections_query = \"\"\"\n",
    "SELECT u.*, g.globalid\n",
    "FROM uas_sightings u\n",
    "LEFT JOIN uasfm_grids g ON ST_Intersects(g.geometry, u.geometry)\n",
    "\"\"\"\n",
    "\n",
    "uas_sightings_intersections_df = spark.sql(uas_sightings_intersections_query)"
   ]
  },
  {
   "cell_type": "code",
   "execution_count": 98,
   "id": "608349bc-0c3d-47fb-b9e6-f1aea2f8b76b",
   "metadata": {
    "execution": {
     "iopub.execute_input": "2024-12-05T19:04:11.284381Z",
     "iopub.status.busy": "2024-12-05T19:04:11.283987Z",
     "iopub.status.idle": "2024-12-05T19:04:11.513350Z",
     "shell.execute_reply": "2024-12-05T19:04:11.512596Z",
     "shell.execute_reply.started": "2024-12-05T19:04:11.284348Z"
    }
   },
   "outputs": [
    {
     "name": "stdout",
     "output_type": "stream",
     "text": [
      "DataFrame[geometry: udt, id: string, report_date: string, city: string, state: string, report_narrative: string, timestamp: string, latitude: string, longitude: string, altitude: string, uncertainty: string, point_wkt: string, globalid: string]\n"
     ]
    }
   ],
   "source": [
    "uas_sightings_intersections_df.persist()"
   ]
  },
  {
   "cell_type": "code",
   "execution_count": 95,
   "id": "cb6bd6d1-551d-4ac8-9a00-9be49340fe9c",
   "metadata": {
    "execution": {
     "iopub.execute_input": "2024-12-05T19:03:55.165225Z",
     "iopub.status.busy": "2024-12-05T19:03:55.164872Z",
     "iopub.status.idle": "2024-12-05T19:03:57.773060Z",
     "shell.execute_reply": "2024-12-05T19:03:57.772165Z",
     "shell.execute_reply.started": "2024-12-05T19:03:55.165201Z"
    }
   },
   "outputs": [
    {
     "name": "stdout",
     "output_type": "stream",
     "text": [
      "-RECORD 0--------------------------------\n",
      " geometry         | POINT (-155.9956 ... \n",
      " id               | 7818                 \n",
      " report_date      | 2024-07-06           \n",
      " city             | Kailua-kona          \n",
      " state            | Hawaii               \n",
      " report_narrative | Prelim informatio... \n",
      " timestamp        | 2024-07-06T00:00:00Z \n",
      " latitude         | 19.6392              \n",
      " longitude        | -155.9956            \n",
      " altitude         | 0                    \n",
      " uncertainty      | medium               \n",
      " point_wkt        | POINT Z (-155.995... \n",
      " globalid         | null                 \n",
      "only showing top 1 row\n"
     ]
    }
   ],
   "source": [
    "uas_sightings_intersections_df.show(n=1, vertical=True)"
   ]
  },
  {
   "cell_type": "code",
   "execution_count": 96,
   "id": "ca9d37d1-d1c1-4764-a422-767a3b84fff8",
   "metadata": {
    "execution": {
     "iopub.execute_input": "2024-12-05T19:03:57.776255Z",
     "iopub.status.busy": "2024-12-05T19:03:57.775457Z",
     "iopub.status.idle": "2024-12-05T19:04:02.444926Z",
     "shell.execute_reply": "2024-12-05T19:04:02.443628Z",
     "shell.execute_reply.started": "2024-12-05T19:03:57.776118Z"
    }
   },
   "outputs": [
    {
     "name": "stdout",
     "output_type": "stream",
     "text": [
      "\n"
     ]
    }
   ],
   "source": [
    "uas_sightings_intersections_count = uas_sightings_intersections_df.filter(F.col(\"globalid\").isNotNull()).count()"
   ]
  },
  {
   "cell_type": "code",
   "execution_count": 97,
   "id": "09687a7e-d119-4753-b388-3c10dab3d7d2",
   "metadata": {
    "execution": {
     "iopub.execute_input": "2024-12-05T19:04:02.447446Z",
     "iopub.status.busy": "2024-12-05T19:04:02.446659Z",
     "iopub.status.idle": "2024-12-05T19:04:02.723452Z",
     "shell.execute_reply": "2024-12-05T19:04:02.719010Z",
     "shell.execute_reply.started": "2024-12-05T19:04:02.447409Z"
    }
   },
   "outputs": [
    {
     "name": "stdout",
     "output_type": "stream",
     "text": [
      "11 of 111 UAS sightings intersected with grids (9.91%)\n"
     ]
    }
   ],
   "source": [
    "# Analyze difference\n",
    "print(f'{uas_sightings_intersections_count:,} of {filtered_uas_sightings_count:,} UAS sightings intersected with grids ({(uas_sightings_intersections_count/filtered_uas_sightings_count)*100:.2f}%)')"
   ]
  },
  {
   "cell_type": "markdown",
   "id": "a4efa9d3-8bf6-4b5b-85d8-4ac5f5ca1d99",
   "metadata": {},
   "source": [
    "##### Join with Grids"
   ]
  },
  {
   "cell_type": "code",
   "execution_count": 99,
   "id": "44dd8886-9e4f-4b3c-9f4e-fb938eb0055b",
   "metadata": {
    "execution": {
     "iopub.execute_input": "2024-12-05T19:14:20.004812Z",
     "iopub.status.busy": "2024-12-05T19:14:20.003081Z",
     "iopub.status.idle": "2024-12-05T19:14:20.308212Z",
     "shell.execute_reply": "2024-12-05T19:14:20.307271Z",
     "shell.execute_reply.started": "2024-12-05T19:14:20.004704Z"
    }
   },
   "outputs": [
    {
     "name": "stdout",
     "output_type": "stream",
     "text": [
      "\n"
     ]
    }
   ],
   "source": [
    "# Create views for track points and uas sightings intersections\n",
    "track_points_intersections_df.createOrReplaceTempView('track_points_intersections')\n",
    "uas_sightings_intersections_df.createOrReplaceTempView('uas_sightings_intersections')"
   ]
  },
  {
   "cell_type": "code",
   "execution_count": 105,
   "id": "d07cf68a-1eb7-4491-9b08-16bc47987a3a",
   "metadata": {
    "execution": {
     "iopub.execute_input": "2024-12-05T19:33:09.263314Z",
     "iopub.status.busy": "2024-12-05T19:33:09.262288Z",
     "iopub.status.idle": "2024-12-05T19:33:09.564527Z",
     "shell.execute_reply": "2024-12-05T19:33:09.563451Z",
     "shell.execute_reply.started": "2024-12-05T19:33:09.263283Z"
    }
   },
   "outputs": [
    {
     "name": "stdout",
     "output_type": "stream",
     "text": [
      "\n"
     ]
    }
   ],
   "source": [
    "# Join intersection results to create intersection counts columns for track points and uas sightings in the uasfm grids dataset\n",
    "# NOTE: Assuming altitudes are in sync with min/max range for ceilings between track points and uas sightings\n",
    "joined_grids_query = f\"\"\"\n",
    "WITH grids_join AS (\n",
    "    SELECT g.globalid, \n",
    "           COUNT(tx.icao24) AS flight_int_count, \n",
    "           COUNT(ux.id) AS uas_sighting_int_count\n",
    "    FROM uasfm_grids g\n",
    "    LEFT JOIN track_points_intersections tx ON g.globalid = tx.globalid\n",
    "    LEFT JOIN uas_sightings_intersections ux on g.globalid = ux.globalid\n",
    "    GROUP BY g.globalid\n",
    ")\n",
    "SELECT globalid, flight_int_count, uas_sighting_int_count, SUM((flight_int_count + uas_sighting_int_count) / {total_ops}) AS risk_factor\n",
    "FROM grids_join\n",
    "GROUP BY globalid, flight_int_count, uas_sighting_int_count\n",
    "\"\"\"\n",
    "\n",
    "joined_grids_df = spark.sql(joined_grids_query)"
   ]
  },
  {
   "cell_type": "code",
   "execution_count": 106,
   "id": "589fe6eb-1e99-4982-b6e1-7f5db1167298",
   "metadata": {
    "execution": {
     "iopub.execute_input": "2024-12-05T19:33:16.787425Z",
     "iopub.status.busy": "2024-12-05T19:33:16.787094Z",
     "iopub.status.idle": "2024-12-05T19:33:17.054405Z",
     "shell.execute_reply": "2024-12-05T19:33:17.053440Z",
     "shell.execute_reply.started": "2024-12-05T19:33:16.787402Z"
    }
   },
   "outputs": [
    {
     "name": "stdout",
     "output_type": "stream",
     "text": [
      "DataFrame[globalid: string, flight_int_count: bigint, uas_sighting_int_count: bigint, risk_factor: double]\n"
     ]
    }
   ],
   "source": [
    "joined_grids_df.persist()"
   ]
  },
  {
   "cell_type": "code",
   "execution_count": 107,
   "id": "d794a84a-6b16-423f-9f0a-c22f2c4b0015",
   "metadata": {
    "execution": {
     "iopub.execute_input": "2024-12-05T19:33:23.859818Z",
     "iopub.status.busy": "2024-12-05T19:33:23.859430Z",
     "iopub.status.idle": "2024-12-05T19:33:30.729006Z",
     "shell.execute_reply": "2024-12-05T19:33:30.728064Z",
     "shell.execute_reply.started": "2024-12-05T19:33:23.859794Z"
    }
   },
   "outputs": [
    {
     "name": "stdout",
     "output_type": "stream",
     "text": [
      "-RECORD 0--------------------------------------\n",
      " globalid               | 00017c46-d5bc-4c7... \n",
      " flight_int_count       | 0                    \n",
      " uas_sighting_int_count | 0                    \n",
      " risk_factor            | 0.0                  \n",
      "only showing top 1 row\n"
     ]
    }
   ],
   "source": [
    "joined_grids_df.show(n=1, vertical=True)"
   ]
  },
  {
   "cell_type": "code",
   "execution_count": 108,
   "id": "88f08915-dce2-4150-a3fc-130b462ce9e5",
   "metadata": {
    "execution": {
     "iopub.execute_input": "2024-12-05T19:33:30.732405Z",
     "iopub.status.busy": "2024-12-05T19:33:30.730296Z",
     "iopub.status.idle": "2024-12-05T19:33:32.064667Z",
     "shell.execute_reply": "2024-12-05T19:33:32.063948Z",
     "shell.execute_reply.started": "2024-12-05T19:33:30.732378Z"
    }
   },
   "outputs": [
    {
     "name": "stdout",
     "output_type": "stream",
     "text": [
      "\n"
     ]
    }
   ],
   "source": [
    "joined_grids_count = joined_grids_df.count()"
   ]
  },
  {
   "cell_type": "code",
   "execution_count": 109,
   "id": "396ee46c-871e-4e93-8cb6-520595cc4e54",
   "metadata": {
    "execution": {
     "iopub.execute_input": "2024-12-05T19:33:32.066316Z",
     "iopub.status.busy": "2024-12-05T19:33:32.065794Z",
     "iopub.status.idle": "2024-12-05T19:33:32.489514Z",
     "shell.execute_reply": "2024-12-05T19:33:32.487620Z",
     "shell.execute_reply.started": "2024-12-05T19:33:32.066288Z"
    }
   },
   "outputs": [
    {
     "name": "stdout",
     "output_type": "stream",
     "text": [
      "Total grids        : 376,569\n",
      "Total joined grids : 376,569\n"
     ]
    }
   ],
   "source": [
    "# Verify correct number of records (should match original count of grids)\n",
    "print(f'Total grids        : {uasfm_grids_count:,}')\n",
    "print(f'Total joined grids : {joined_grids_count:,}')"
   ]
  },
  {
   "cell_type": "code",
   "execution_count": 110,
   "id": "d358f02f-b21c-4186-9966-4b71b2fde8b3",
   "metadata": {
    "execution": {
     "iopub.execute_input": "2024-12-05T19:34:31.515000Z",
     "iopub.status.busy": "2024-12-05T19:34:31.514545Z",
     "iopub.status.idle": "2024-12-05T19:34:32.835090Z",
     "shell.execute_reply": "2024-12-05T19:34:32.830470Z",
     "shell.execute_reply.started": "2024-12-05T19:34:31.514973Z"
    }
   },
   "outputs": [
    {
     "name": "stdout",
     "output_type": "stream",
     "text": [
      "+-------+-------------------+----------------------+---------------------+\n",
      "|summary|flight_int_count   |uas_sighting_int_count|risk_factor          |\n",
      "+-------+-------------------+----------------------+---------------------+\n",
      "|count  |376569             |376569                |376569               |\n",
      "|mean   |0.34523287896773236|8.232223045444527E-5  |1.9235472437509965E-5|\n",
      "|stddev |4.488134155697167  |0.03311707549928575   |2.5002727406767355E-4|\n",
      "|min    |0                  |0                     |0.0                  |\n",
      "|max    |533                |20                    |0.029690285204991087 |\n",
      "+-------+-------------------+----------------------+---------------------+\n"
     ]
    }
   ],
   "source": [
    "joined_grids_df.select('flight_int_count', 'uas_sighting_int_count', 'risk_factor').describe().show(truncate=False)"
   ]
  },
  {
   "cell_type": "markdown",
   "id": "c14ec6a8-badb-4306-973f-3118315d4c4d",
   "metadata": {},
   "source": [
    "##### Compute Risk Scores (Normalization)"
   ]
  },
  {
   "cell_type": "code",
   "execution_count": 115,
   "id": "4ff62f1c-60fe-46ae-aeb9-1c0ae79dc919",
   "metadata": {
    "execution": {
     "iopub.execute_input": "2024-12-05T19:44:28.981632Z",
     "iopub.status.busy": "2024-12-05T19:44:28.981208Z",
     "iopub.status.idle": "2024-12-05T19:44:30.344814Z",
     "shell.execute_reply": "2024-12-05T19:44:30.343494Z",
     "shell.execute_reply.started": "2024-12-05T19:44:28.981606Z"
    }
   },
   "outputs": [
    {
     "name": "stdout",
     "output_type": "stream",
     "text": [
      "\n"
     ]
    }
   ],
   "source": [
    "# Create vector assembler\n",
    "assembler = VectorAssembler(inputCols=[\"risk_factor\"], outputCol=\"risk_factor_vect\")\n",
    "joined_grids_df = assembler.transform(joined_grids_df)"
   ]
  },
  {
   "cell_type": "code",
   "execution_count": 120,
   "id": "0148f786-5834-4cf8-ac71-0a2273022832",
   "metadata": {
    "execution": {
     "iopub.execute_input": "2024-12-05T19:48:41.234204Z",
     "iopub.status.busy": "2024-12-05T19:48:41.233771Z",
     "iopub.status.idle": "2024-12-05T19:48:42.692404Z",
     "shell.execute_reply": "2024-12-05T19:48:42.691524Z",
     "shell.execute_reply.started": "2024-12-05T19:48:41.234177Z"
    }
   },
   "outputs": [
    {
     "name": "stdout",
     "output_type": "stream",
     "text": [
      "\n"
     ]
    }
   ],
   "source": [
    "# Apply min/max scaling to risk factor\n",
    "min_max_scaler = MinMaxScaler(inputCol=\"risk_factor_vect\", outputCol=\"risk_score\")\n",
    "min_max_model = min_max_scaler.fit(joined_grids_df)\n",
    "risk_scores_df = min_max_model.transform(joined_grids_df)\\\n",
    "                              .drop('risk_factor_vect')"
   ]
  },
  {
   "cell_type": "code",
   "execution_count": 121,
   "id": "f0595dde-df78-4d4c-a451-844792e9e5dd",
   "metadata": {
    "execution": {
     "iopub.execute_input": "2024-12-05T19:48:46.601715Z",
     "iopub.status.busy": "2024-12-05T19:48:46.601371Z",
     "iopub.status.idle": "2024-12-05T19:48:46.852480Z",
     "shell.execute_reply": "2024-12-05T19:48:46.851771Z",
     "shell.execute_reply.started": "2024-12-05T19:48:46.601690Z"
    }
   },
   "outputs": [
    {
     "name": "stdout",
     "output_type": "stream",
     "text": [
      "DataFrame[globalid: string, flight_int_count: bigint, uas_sighting_int_count: bigint, risk_factor: double, risk_score: vector]\n"
     ]
    }
   ],
   "source": [
    "risk_scores_df.persist()"
   ]
  },
  {
   "cell_type": "code",
   "execution_count": 122,
   "id": "ae07bc8c-1092-4385-a49b-f164a2a01f8c",
   "metadata": {
    "execution": {
     "iopub.execute_input": "2024-12-05T19:51:43.634233Z",
     "iopub.status.busy": "2024-12-05T19:51:43.633561Z",
     "iopub.status.idle": "2024-12-05T19:51:43.915363Z",
     "shell.execute_reply": "2024-12-05T19:51:43.914369Z",
     "shell.execute_reply.started": "2024-12-05T19:51:43.634104Z"
    }
   },
   "outputs": [
    {
     "name": "stdout",
     "output_type": "stream",
     "text": [
      "\n"
     ]
    }
   ],
   "source": [
    "# Convert risk score from dense vector to double\n",
    "unlist = F.udf(lambda x: float(list(x)[0]), T.DoubleType())\n",
    "risk_scores_df = risk_scores_df.withColumn('risk_score', unlist('risk_score'))"
   ]
  },
  {
   "cell_type": "code",
   "execution_count": 123,
   "id": "37822fa5-67cd-46b5-b323-c05a3e6ea8b2",
   "metadata": {
    "execution": {
     "iopub.execute_input": "2024-12-05T19:51:46.729034Z",
     "iopub.status.busy": "2024-12-05T19:51:46.728171Z",
     "iopub.status.idle": "2024-12-05T19:51:48.061043Z",
     "shell.execute_reply": "2024-12-05T19:51:48.057808Z",
     "shell.execute_reply.started": "2024-12-05T19:51:46.729005Z"
    }
   },
   "outputs": [
    {
     "name": "stdout",
     "output_type": "stream",
     "text": [
      "-RECORD 0------------------------------------------------------\n",
      " globalid               | 00017c46-d5bc-4c72-b379-127c8c63de2d \n",
      " flight_int_count       | 0                                    \n",
      " uas_sighting_int_count | 0                                    \n",
      " risk_factor            | 0.0                                  \n",
      " risk_score             | 0.0                                  \n",
      "only showing top 1 row\n"
     ]
    }
   ],
   "source": [
    "risk_scores_df.show(n=1, vertical=True, truncate=False)"
   ]
  },
  {
   "cell_type": "code",
   "execution_count": 124,
   "id": "9681b392-3b93-4d7a-94d1-5a382c4cca39",
   "metadata": {
    "execution": {
     "iopub.execute_input": "2024-12-05T19:52:31.493775Z",
     "iopub.status.busy": "2024-12-05T19:52:31.493373Z",
     "iopub.status.idle": "2024-12-05T19:52:33.944341Z",
     "shell.execute_reply": "2024-12-05T19:52:33.943336Z",
     "shell.execute_reply.started": "2024-12-05T19:52:31.493743Z"
    }
   },
   "outputs": [
    {
     "name": "stdout",
     "output_type": "stream",
     "text": [
      "+-------+--------------------+\n",
      "|summary|risk_score          |\n",
      "+-------+--------------------+\n",
      "|count  |376569              |\n",
      "|mean   |6.478709215725743E-4|\n",
      "|stddev |0.00842118128342004 |\n",
      "|min    |0.0                 |\n",
      "|max    |0.9999999999999999  |\n",
      "+-------+--------------------+\n"
     ]
    }
   ],
   "source": [
    "# Verify values for risk score are between 0 and 1\n",
    "risk_scores_df.select('risk_score').describe().show(truncate=False)"
   ]
  },
  {
   "cell_type": "code",
   "execution_count": 129,
   "id": "88af084a-683b-4450-8bd7-d881211c6c39",
   "metadata": {
    "execution": {
     "iopub.execute_input": "2024-12-05T20:00:53.418490Z",
     "iopub.status.busy": "2024-12-05T20:00:53.418051Z",
     "iopub.status.idle": "2024-12-05T20:00:53.768221Z",
     "shell.execute_reply": "2024-12-05T20:00:53.767462Z",
     "shell.execute_reply.started": "2024-12-05T20:00:53.418464Z"
    }
   },
   "outputs": [
    {
     "name": "stdout",
     "output_type": "stream",
     "text": [
      "\n"
     ]
    }
   ],
   "source": [
    "# Create rule-based risk label column\n",
    "risk_scores_df = risk_scores_df.withColumn('risk_label', F.when(F.col('risk_score') >= 0.2, 'HIGH')\\\n",
    "                                                          .when((F.col('risk_score') >= 0.1) & (F.col('risk_score') < 0.2), 'MEDIUM')\\\n",
    "                                                          .otherwise('LOW')\n",
    "                                          )"
   ]
  },
  {
   "cell_type": "code",
   "execution_count": 130,
   "id": "e51c963d-25b9-46ef-891d-064388483e6a",
   "metadata": {
    "execution": {
     "iopub.execute_input": "2024-12-05T20:00:53.771318Z",
     "iopub.status.busy": "2024-12-05T20:00:53.770394Z",
     "iopub.status.idle": "2024-12-05T20:00:55.184589Z",
     "shell.execute_reply": "2024-12-05T20:00:55.183890Z",
     "shell.execute_reply.started": "2024-12-05T20:00:53.771285Z"
    }
   },
   "outputs": [
    {
     "name": "stdout",
     "output_type": "stream",
     "text": [
      "+----------+------+\n",
      "|risk_label|count |\n",
      "+----------+------+\n",
      "|LOW       |376227|\n",
      "|MEDIUM    |218   |\n",
      "|HIGH      |124   |\n",
      "+----------+------+\n"
     ]
    }
   ],
   "source": [
    "# Analyze risk labels\n",
    "risk_scores_df.groupBy('risk_label').count().show(truncate=False)"
   ]
  },
  {
   "cell_type": "code",
   "execution_count": 131,
   "id": "ea920aeb-d22e-43ea-991e-35946c943e58",
   "metadata": {
    "execution": {
     "iopub.execute_input": "2024-12-05T20:03:07.142551Z",
     "iopub.status.busy": "2024-12-05T20:03:07.141905Z",
     "iopub.status.idle": "2024-12-05T20:03:07.415732Z",
     "shell.execute_reply": "2024-12-05T20:03:07.414986Z",
     "shell.execute_reply.started": "2024-12-05T20:03:07.142525Z"
    }
   },
   "outputs": [
    {
     "name": "stdout",
     "output_type": "stream",
     "text": [
      "\n"
     ]
    }
   ],
   "source": [
    "# Join back with original grids to obtain grid columns\n",
    "risk_scores_df = uasfm_df.join(risk_scores_df, on='globalid', how='left')"
   ]
  },
  {
   "cell_type": "code",
   "execution_count": null,
   "id": "b2b5523c-2319-4d61-809d-d244e228a15f",
   "metadata": {
    "execution": {
     "iopub.execute_input": "2024-12-04T13:12:52.360574Z",
     "iopub.status.busy": "2024-12-04T13:12:52.353575Z",
     "iopub.status.idle": "2024-12-04T13:12:53.646918Z",
     "shell.execute_reply": "2024-12-04T13:12:53.646188Z",
     "shell.execute_reply.started": "2024-12-04T13:12:52.360532Z"
    }
   },
   "outputs": [
    {
     "name": "stdout",
     "output_type": "stream",
     "text": [
      "\n"
     ]
    }
   ],
   "source": [
    "# SQL query to calculate intersections and risk scores\n",
    "# risk_scores_query = f\"\"\"\n",
    "# SELECT \n",
    "#     {select_columns},\n",
    "#     SUM(CASE WHEN f.geometry IS NOT NULL AND f.baroaltitude <= g.ceiling THEN 1 ELSE 0 END) AS flight_intersections,\n",
    "#     SUM(CASE WHEN u.geometry IS NOT NULL AND u.altitude <= g.ceiling THEN 1 ELSE 0 END) AS uas_sightings_intersections,\n",
    "#     COALESCE(\n",
    "#         (SUM(CASE WHEN f.geometry IS NOT NULL AND f.baroaltitude <= g.ceiling THEN 1 ELSE 0 END) +\n",
    "#          SUM(CASE WHEN u.geometry IS NOT NULL AND u.altitude <= g.ceiling THEN 1 ELSE 0 END)) / NULLIF(g.ceiling, 0),\n",
    "#         0\n",
    "#     ) AS risk_score\n",
    "# FROM \n",
    "#     uasfm_grids g\n",
    "# LEFT JOIN \n",
    "#     uas_sightings u ON ST_Intersects(g.geometry, u.geometry)\n",
    "# LEFT JOIN \n",
    "#     track_points f ON ST_Intersects(g.geometry, f.geometry)\n",
    "# GROUP BY \n",
    "#     {group_by_columns}\n",
    "# \"\"\"\n",
    "\n",
    "# # Execute the query and load results into a DataFrame\n",
    "# risk_scores_df = spark.sql(risk_scores_query)"
   ]
  },
  {
   "cell_type": "code",
   "execution_count": 132,
   "id": "fac81973-cd0d-49f5-b14f-eafcc21ecaf3",
   "metadata": {
    "execution": {
     "iopub.execute_input": "2024-12-05T20:03:11.667954Z",
     "iopub.status.busy": "2024-12-05T20:03:11.667134Z",
     "iopub.status.idle": "2024-12-05T20:03:11.973211Z",
     "shell.execute_reply": "2024-12-05T20:03:11.972287Z",
     "shell.execute_reply.started": "2024-12-05T20:03:11.667916Z"
    }
   },
   "outputs": [
    {
     "name": "stdout",
     "output_type": "stream",
     "text": [
      "DataFrame[globalid: string, geometry: udt, objectid: string, ceiling: string, unit: string, map_eff: string, last_edit: string, latitude: string, longitude: string, arpt_count: string, apt1_faaid: string, apt1_icao: string, apt1_name: string, apt1_laanc: string, apt2_faaid: string, apt2_icao: string, apt2_name: string, apt2_laanc: string, apt3_faaid: string, apt3_icao: string, apt3_name: string, apt3_laanc: string, apt4_faaid: string, apt4_icao: string, apt4_name: string, apt4_laanc: string, apt5_faaid: string, apt5_icao: string, apt5_name: string, apt5_laanc: string, airs_count: string, airspace_1: string, airspace_2: string, airspace_3: string, airspace_4: string, airspace_5: string, region: string, apt1_enabled: string, apt2_enabled: string, apt3_enabled: string, apt4_enabled: string, apt5_enabled: string, shape__length: string, shape__area: string, shape__area_2: string, shape__length_2: string, wkt: string, flight_int_count: bigint, uas_sighting_int_count: bigint, risk_factor: double, risk_score: double, risk_label: string]\n"
     ]
    }
   ],
   "source": [
    "risk_scores_df.persist()"
   ]
  },
  {
   "cell_type": "code",
   "execution_count": 133,
   "id": "800d717d-05b1-4c88-b40a-1c88b5594134",
   "metadata": {
    "execution": {
     "iopub.execute_input": "2024-12-05T20:03:47.685034Z",
     "iopub.status.busy": "2024-12-05T20:03:47.684337Z",
     "iopub.status.idle": "2024-12-05T20:03:52.414384Z",
     "shell.execute_reply": "2024-12-05T20:03:52.413410Z",
     "shell.execute_reply.started": "2024-12-05T20:03:47.685006Z"
    },
    "scrolled": true
   },
   "outputs": [
    {
     "name": "stdout",
     "output_type": "stream",
     "text": [
      "-RECORD 0----------------------------------------------------------------------------------------------------------------------------------------------------------------------------------------------------------------------------\n",
      " globalid               | 00017c46-d5bc-4c72-b379-127c8c63de2d                                                                                                                                                                       \n",
      " geometry               | POLYGON ((-159.808333318407 21.9750038051595, -159.808333318407 21.9833371404548, -159.799999983112 21.9833371404548, -159.799999983112 21.9750038051595, -159.808333318407 21.9750038051595))             \n",
      " objectid               | 260889                                                                                                                                                                                                     \n",
      " ceiling                | 0                                                                                                                                                                                                          \n",
      " unit                   | Feet                                                                                                                                                                                                       \n",
      " map_eff                | 11/28/2024                                                                                                                                                                                                 \n",
      " last_edit              | 9/12/2019                                                                                                                                                                                                  \n",
      " latitude               | 21.97917                                                                                                                                                                                                   \n",
      " longitude              | -159.80417                                                                                                                                                                                                 \n",
      " arpt_count             | 1                                                                                                                                                                                                          \n",
      " apt1_faaid             | BKH                                                                                                                                                                                                        \n",
      " apt1_icao              | PHBK                                                                                                                                                                                                       \n",
      " apt1_name              | Barking Sands PMRF                                                                                                                                                                                         \n",
      " apt1_laanc             | 0                                                                                                                                                                                                          \n",
      " apt2_faaid             |                                                                                                                                                                                                            \n",
      " apt2_icao              |                                                                                                                                                                                                            \n",
      " apt2_name              |                                                                                                                                                                                                            \n",
      " apt2_laanc             | NaN                                                                                                                                                                                                        \n",
      " apt3_faaid             |                                                                                                                                                                                                            \n",
      " apt3_icao              |                                                                                                                                                                                                            \n",
      " apt3_name              |                                                                                                                                                                                                            \n",
      " apt3_laanc             | NaN                                                                                                                                                                                                        \n",
      " apt4_faaid             |                                                                                                                                                                                                            \n",
      " apt4_icao              |                                                                                                                                                                                                            \n",
      " apt4_name              |                                                                                                                                                                                                            \n",
      " apt4_laanc             | null                                                                                                                                                                                                       \n",
      " apt5_faaid             |                                                                                                                                                                                                            \n",
      " apt5_icao              |                                                                                                                                                                                                            \n",
      " apt5_name              |                                                                                                                                                                                                            \n",
      " apt5_laanc             | null                                                                                                                                                                                                       \n",
      " airs_count             | 1                                                                                                                                                                                                          \n",
      " airspace_1             | D                                                                                                                                                                                                          \n",
      " airspace_2             |                                                                                                                                                                                                            \n",
      " airspace_3             |                                                                                                                                                                                                            \n",
      " airspace_4             |                                                                                                                                                                                                            \n",
      " airspace_5             |                                                                                                                                                                                                            \n",
      " region                 | Western                                                                                                                                                                                                    \n",
      " apt1_enabled           |                                                                                                                                                                                                            \n",
      " apt2_enabled           |                                                                                                                                                                                                            \n",
      " apt3_enabled           |                                                                                                                                                                                                            \n",
      " apt4_enabled           |                                                                                                                                                                                                            \n",
      " apt5_enabled           |                                                                                                                                                                                                            \n",
      " shape__length          | null                                                                                                                                                                                                       \n",
      " shape__area            | null                                                                                                                                                                                                       \n",
      " shape__area_2          | 6.9444475E-5                                                                                                                                                                                               \n",
      " shape__length_2        | 0.033333343                                                                                                                                                                                                \n",
      " wkt                    | POLYGON Z ((-159.808333318407 21.9750038051595 0, -159.808333318407 21.9833371404548 0, -159.799999983112 21.9833371404548 0, -159.799999983112 21.9750038051595 0, -159.808333318407 21.9750038051595 0)) \n",
      " flight_int_count       | 0                                                                                                                                                                                                          \n",
      " uas_sighting_int_count | 0                                                                                                                                                                                                          \n",
      " risk_factor            | 0.0                                                                                                                                                                                                        \n",
      " risk_score             | 0.0                                                                                                                                                                                                        \n",
      " risk_label             | LOW                                                                                                                                                                                                        \n",
      "only showing top 1 row\n"
     ]
    }
   ],
   "source": [
    "# NOTE: Runtime took 2h 11m 54s with 2 G.2X workers running glue 3.0 on 100k track points\n",
    "risk_scores_df.show(n=1, vertical=True, truncate=False)"
   ]
  },
  {
   "cell_type": "markdown",
   "id": "72a6dca2-2410-42d6-93e3-e917176d3f01",
   "metadata": {},
   "source": [
    "#### Save Risk Scores"
   ]
  },
  {
   "cell_type": "code",
   "execution_count": 134,
   "id": "4fde4c21-7cbe-47ee-aa39-407a918c6337",
   "metadata": {
    "execution": {
     "iopub.execute_input": "2024-12-05T20:04:20.094839Z",
     "iopub.status.busy": "2024-12-05T20:04:20.094493Z",
     "iopub.status.idle": "2024-12-05T20:04:20.332875Z",
     "shell.execute_reply": "2024-12-05T20:04:20.332083Z",
     "shell.execute_reply.started": "2024-12-05T20:04:20.094815Z"
    }
   },
   "outputs": [
    {
     "name": "stdout",
     "output_type": "stream",
     "text": [
      "\n"
     ]
    }
   ],
   "source": [
    "risk_scores_outpath = 's3://endurasoft-dev-risk-framework/analysis/uas_risk_scores/v3/'\n",
    "risk_scores_csv_path = os.path.join(risk_scores_outpath, 'consolidated/uas_risk_scores_csv/')\n",
    "risk_scores_viz_path = os.path.join(risk_scores_outpath, 'viz/')"
   ]
  },
  {
   "cell_type": "code",
   "execution_count": 135,
   "id": "58363b83-a268-4a34-bd09-43ab39e5a425",
   "metadata": {
    "execution": {
     "iopub.execute_input": "2024-12-05T20:04:27.264522Z",
     "iopub.status.busy": "2024-12-05T20:04:27.264180Z",
     "iopub.status.idle": "2024-12-05T20:04:45.485272Z",
     "shell.execute_reply": "2024-12-05T20:04:45.484494Z",
     "shell.execute_reply.started": "2024-12-05T20:04:27.264499Z"
    }
   },
   "outputs": [
    {
     "name": "stdout",
     "output_type": "stream",
     "text": [
      "\n"
     ]
    }
   ],
   "source": [
    "# risk_scores_df.write.format(\"csv\").save(\"/path/to/output/risk_scores.csv\")\n",
    "risk_scores_df.coalesce(1).write.parquet(path=risk_scores_outpath, mode='overwrite')"
   ]
  },
  {
   "cell_type": "code",
   "execution_count": 136,
   "id": "416382a8-1a99-40d8-8d5a-035a6a5697f6",
   "metadata": {
    "execution": {
     "iopub.execute_input": "2024-12-05T20:04:45.490822Z",
     "iopub.status.busy": "2024-12-05T20:04:45.490265Z",
     "iopub.status.idle": "2024-12-05T20:04:55.770038Z",
     "shell.execute_reply": "2024-12-05T20:04:55.767981Z",
     "shell.execute_reply.started": "2024-12-05T20:04:45.490789Z"
    }
   },
   "outputs": [
    {
     "name": "stdout",
     "output_type": "stream",
     "text": [
      "\n"
     ]
    }
   ],
   "source": [
    "# Convert risk scores dataframe to pandas\n",
    "risk_scores_pd_df = risk_scores_df.drop('geometry').toPandas()"
   ]
  },
  {
   "cell_type": "code",
   "execution_count": 137,
   "id": "633769b9-68c4-4069-9d01-1301e6ea6703",
   "metadata": {
    "execution": {
     "iopub.execute_input": "2024-12-05T20:04:55.771582Z",
     "iopub.status.busy": "2024-12-05T20:04:55.771032Z",
     "iopub.status.idle": "2024-12-05T20:05:09.396566Z",
     "shell.execute_reply": "2024-12-05T20:05:09.395728Z",
     "shell.execute_reply.started": "2024-12-05T20:04:55.771551Z"
    }
   },
   "outputs": [
    {
     "name": "stdout",
     "output_type": "stream",
     "text": [
      "\n"
     ]
    }
   ],
   "source": [
    "# Save csv version for downstream analysis\n",
    "# risk_scores_df.drop('geometry').coalesce(1).write.csv(path=risk_scores_csv_path, header='true', mode='overwrite')\n",
    "risk_scores_pd_df.to_csv(os.path.join(risk_scores_csv_path, 'uas_risk_scores.csv'), index=False)"
   ]
  },
  {
   "cell_type": "code",
   "execution_count": 138,
   "id": "e1d770f7-451f-47ea-b1a1-2e3b81b339a9",
   "metadata": {
    "execution": {
     "iopub.execute_input": "2024-12-05T20:05:09.399449Z",
     "iopub.status.busy": "2024-12-05T20:05:09.398366Z",
     "iopub.status.idle": "2024-12-05T20:05:16.235970Z",
     "shell.execute_reply": "2024-12-05T20:05:16.234065Z",
     "shell.execute_reply.started": "2024-12-05T20:05:09.399413Z"
    }
   },
   "outputs": [
    {
     "name": "stdout",
     "output_type": "stream",
     "text": [
      "\n"
     ]
    }
   ],
   "source": [
    "# Convert risk scores dataframe to geopandas\n",
    "risk_scores_gdf = gpd.GeoDataFrame(\n",
    "    risk_scores_pd_df,\n",
    "    geometry=gpd.GeoSeries.from_wkt(risk_scores_pd_df['wkt'])\n",
    ")"
   ]
  },
  {
   "cell_type": "code",
   "execution_count": null,
   "id": "19fb14f1-ae29-40ff-b904-9ab4e5634312",
   "metadata": {
    "execution": {
     "iopub.execute_input": "2024-12-05T20:05:16.240388Z",
     "iopub.status.busy": "2024-12-05T20:05:16.238646Z",
     "iopub.status.idle": "2024-12-05T20:05:16.246040Z",
     "shell.execute_reply": "2024-12-05T20:05:16.245188Z",
     "shell.execute_reply.started": "2024-12-05T20:05:16.240348Z"
    }
   },
   "outputs": [],
   "source": [
    "# Save shapefile for dowstream visualization\n",
    "# NOTE: Cannot do this in glue pyspark kernel. It will work but there is no way to obtain the files locally\n",
    "# risk_scores_gdf.to_file('uas_risk_scores.shp', driver='ESRI Shapefile')"
   ]
  },
  {
   "cell_type": "code",
   "execution_count": 139,
   "id": "bf4ddbc1-a3e3-44e0-9767-f414043076ff",
   "metadata": {
    "execution": {
     "iopub.execute_input": "2024-12-05T20:05:16.247555Z",
     "iopub.status.busy": "2024-12-05T20:05:16.246985Z",
     "iopub.status.idle": "2024-12-05T20:10:32.056321Z",
     "shell.execute_reply": "2024-12-05T20:10:32.055362Z",
     "shell.execute_reply.started": "2024-12-05T20:05:16.247524Z"
    }
   },
   "outputs": [
    {
     "name": "stdout",
     "output_type": "stream",
     "text": [
      "\n"
     ]
    }
   ],
   "source": [
    "# Save geojson for downstream visualization\n",
    "risk_scores_gdf.to_file(os.path.join(risk_scores_viz_path, 'uas_risk_scores.geojson'), driver='GeoJSON')"
   ]
  },
  {
   "cell_type": "markdown",
   "id": "784290fb-150b-4910-b386-6267cc5a6e90",
   "metadata": {},
   "source": [
    "#### Load Risk Scores"
   ]
  },
  {
   "cell_type": "code",
   "execution_count": 140,
   "id": "b797f2c3-0b8d-4280-982e-5792daa1b5f9",
   "metadata": {
    "execution": {
     "iopub.execute_input": "2024-12-05T20:10:32.063234Z",
     "iopub.status.busy": "2024-12-05T20:10:32.061803Z",
     "iopub.status.idle": "2024-12-05T20:10:33.406081Z",
     "shell.execute_reply": "2024-12-05T20:10:33.405068Z",
     "shell.execute_reply.started": "2024-12-05T20:10:32.063209Z"
    }
   },
   "outputs": [
    {
     "name": "stdout",
     "output_type": "stream",
     "text": [
      "DataFrame[globalid: string, geometry: udt, objectid: string, ceiling: string, unit: string, map_eff: string, last_edit: string, latitude: string, longitude: string, arpt_count: string, apt1_faaid: string, apt1_icao: string, apt1_name: string, apt1_laanc: string, apt2_faaid: string, apt2_icao: string, apt2_name: string, apt2_laanc: string, apt3_faaid: string, apt3_icao: string, apt3_name: string, apt3_laanc: string, apt4_faaid: string, apt4_icao: string, apt4_name: string, apt4_laanc: string, apt5_faaid: string, apt5_icao: string, apt5_name: string, apt5_laanc: string, airs_count: string, airspace_1: string, airspace_2: string, airspace_3: string, airspace_4: string, airspace_5: string, region: string, apt1_enabled: string, apt2_enabled: string, apt3_enabled: string, apt4_enabled: string, apt5_enabled: string, shape__length: string, shape__area: string, shape__area_2: string, shape__length_2: string, wkt: string, flight_int_count: bigint, uas_sighting_int_count: bigint, risk_factor: double, risk_score: double, risk_label: string]\n"
     ]
    }
   ],
   "source": [
    "risk_scores_df = spark.read.parquet(os.path.join(risk_scores_outpath, '*.parquet'))\n",
    "risk_scores_df.persist()"
   ]
  },
  {
   "cell_type": "code",
   "execution_count": 141,
   "id": "8d3c0869-d666-4447-b2fa-c84a015f73c5",
   "metadata": {
    "execution": {
     "iopub.execute_input": "2024-12-05T20:10:33.409270Z",
     "iopub.status.busy": "2024-12-05T20:10:33.408790Z",
     "iopub.status.idle": "2024-12-05T20:10:47.789279Z",
     "shell.execute_reply": "2024-12-05T20:10:47.786534Z",
     "shell.execute_reply.started": "2024-12-05T20:10:33.409060Z"
    }
   },
   "outputs": [
    {
     "name": "stdout",
     "output_type": "stream",
     "text": [
      "\n"
     ]
    }
   ],
   "source": [
    "risk_scores_count = risk_scores_df.count()"
   ]
  },
  {
   "cell_type": "code",
   "execution_count": 142,
   "id": "2be94daf-0103-4179-87b3-239d8ba21513",
   "metadata": {
    "execution": {
     "iopub.execute_input": "2024-12-05T20:10:47.791531Z",
     "iopub.status.busy": "2024-12-05T20:10:47.791188Z",
     "iopub.status.idle": "2024-12-05T20:10:48.112394Z",
     "shell.execute_reply": "2024-12-05T20:10:48.110134Z",
     "shell.execute_reply.started": "2024-12-05T20:10:47.791499Z"
    }
   },
   "outputs": [
    {
     "name": "stdout",
     "output_type": "stream",
     "text": [
      "Total risk score records: 376,569\n"
     ]
    }
   ],
   "source": [
    "print(f'Total risk score records: {risk_scores_count:,}')"
   ]
  },
  {
   "cell_type": "markdown",
   "id": "e9b3c219-1d76-472d-83d8-e3bca64890b1",
   "metadata": {},
   "source": [
    "**Observation:** Total number of records in risk analysis dataframe matches total number of UASFM grids which is the desired result."
   ]
  },
  {
   "cell_type": "markdown",
   "id": "d0c659c3-5fcf-41d1-8b03-968722bb8976",
   "metadata": {},
   "source": [
    "#### Analyze Risk Scores"
   ]
  },
  {
   "cell_type": "code",
   "execution_count": 144,
   "id": "10ce9730-4986-4c63-b1ac-f7feeb86cde7",
   "metadata": {
    "execution": {
     "iopub.execute_input": "2024-12-05T20:12:56.581652Z",
     "iopub.status.busy": "2024-12-05T20:12:56.577368Z",
     "iopub.status.idle": "2024-12-05T20:12:59.030331Z",
     "shell.execute_reply": "2024-12-05T20:12:59.019820Z",
     "shell.execute_reply.started": "2024-12-05T20:12:56.581619Z"
    }
   },
   "outputs": [
    {
     "data": {
      "image/png": "[encoded data removed]"
     },
     "metadata": {
      "image/png": {
       "height": 480,
       "width": 640
      }
     },
     "output_type": "display_data"
    }
   ],
   "source": [
    "# Analyze distribution of flight intersections with grids\n",
    "generate_histplot(risk_scores_df, feature_col='flight_int_count')\n",
    "%matplot plt"
   ]
  },
  {
   "cell_type": "code",
   "execution_count": 145,
   "id": "c95c0f5f-d3d9-4f52-b113-027d486190cc",
   "metadata": {
    "execution": {
     "iopub.execute_input": "2024-12-05T20:13:12.201003Z",
     "iopub.status.busy": "2024-12-05T20:13:12.200655Z",
     "iopub.status.idle": "2024-12-05T20:13:14.610178Z",
     "shell.execute_reply": "2024-12-05T20:13:14.609348Z",
     "shell.execute_reply.started": "2024-12-05T20:13:12.200981Z"
    }
   },
   "outputs": [
    {
     "data": {
      "image/png": "[encoded data removed]"
     },
     "metadata": {
      "image/png": {
       "height": 480,
       "width": 640
      }
     },
     "output_type": "display_data"
    }
   ],
   "source": [
    "# Analyze distribution of UAS sightings intersections with grids\n",
    "generate_histplot(risk_scores_df, feature_col='uas_sighting_int_count')\n",
    "%matplot plt"
   ]
  },
  {
   "cell_type": "code",
   "execution_count": 146,
   "id": "d213ea9e-1d3d-4a02-849b-bd2b8b16855f",
   "metadata": {
    "execution": {
     "iopub.execute_input": "2024-12-05T20:13:15.254702Z",
     "iopub.status.busy": "2024-12-05T20:13:15.254200Z",
     "iopub.status.idle": "2024-12-05T20:13:17.646982Z",
     "shell.execute_reply": "2024-12-05T20:13:17.646302Z",
     "shell.execute_reply.started": "2024-12-05T20:13:15.254674Z"
    }
   },
   "outputs": [
    {
     "data": {
      "image/png": "[encoded data removed]"
     },
     "metadata": {
      "image/png": {
       "height": 480,
       "width": 640
      }
     },
     "output_type": "display_data"
    }
   ],
   "source": [
    "# Analyze distribution of risk score\n",
    "generate_histplot(risk_scores_df, feature_col='risk_score')\n",
    "%matplot plt"
   ]
  },
  {
   "cell_type": "code",
   "execution_count": 147,
   "id": "689a93fc-2106-4594-a42f-a012ec421f27",
   "metadata": {
    "execution": {
     "iopub.execute_input": "2024-12-05T20:13:41.479659Z",
     "iopub.status.busy": "2024-12-05T20:13:41.479324Z",
     "iopub.status.idle": "2024-12-05T20:13:42.815839Z",
     "shell.execute_reply": "2024-12-05T20:13:42.815020Z",
     "shell.execute_reply.started": "2024-12-05T20:13:41.479636Z"
    }
   },
   "outputs": [
    {
     "name": "stdout",
     "output_type": "stream",
     "text": [
      "+-------+-------------------+----------------------+--------------------+\n",
      "|summary|flight_int_count   |uas_sighting_int_count|risk_score          |\n",
      "+-------+-------------------+----------------------+--------------------+\n",
      "|count  |376569             |376569                |376569              |\n",
      "|mean   |0.34523287896773236|8.232223045444527E-5  |6.478709215727341E-4|\n",
      "|stddev |4.488134155697113  |0.033117075499286136  |0.00842118128342009 |\n",
      "|min    |0                  |0                     |0.0                 |\n",
      "|max    |533                |20                    |0.9999999999999999  |\n",
      "+-------+-------------------+----------------------+--------------------+\n"
     ]
    }
   ],
   "source": [
    "# Describe results\n",
    "risk_scores_df.select('flight_int_count', 'uas_sighting_int_count', 'risk_score').describe().show(truncate=False)"
   ]
  },
  {
   "cell_type": "markdown",
   "id": "b7c9e942-213c-405a-896a-4cb84afd9ce4",
   "metadata": {},
   "source": [
    "### (Future Capability) Build Visualization Files\n",
    "Goal is to create a heatmap for track points and points for UAS sightings as overlay layers in map visualization."
   ]
  },
  {
   "cell_type": "markdown",
   "id": "f416842d-900f-443e-be68-3640f584c27f",
   "metadata": {},
   "source": [
    "### Aggregate Analysis\n",
    "Analyze fused dataset for near mid-air collision (NMAC) and mid-air collision (MAC) risk for UAS."
   ]
  },
  {
   "cell_type": "code",
   "execution_count": 149,
   "id": "e5e18aaf",
   "metadata": {
    "execution": {
     "iopub.execute_input": "2024-12-05T20:18:29.252800Z",
     "iopub.status.busy": "2024-12-05T20:18:29.250423Z",
     "iopub.status.idle": "2024-12-05T20:18:29.619665Z",
     "shell.execute_reply": "2024-12-05T20:18:29.617998Z",
     "shell.execute_reply.started": "2024-12-05T20:18:29.252768Z"
    }
   },
   "outputs": [
    {
     "name": "stdout",
     "output_type": "stream",
     "text": [
      "\n"
     ]
    }
   ],
   "source": [
    "combined_df = target_track_points_df"
   ]
  },
  {
   "cell_type": "code",
   "execution_count": 150,
   "id": "5a7702a6-b7bc-441c-af7d-0f6a6a46613b",
   "metadata": {
    "execution": {
     "iopub.execute_input": "2024-12-05T20:18:32.358552Z",
     "iopub.status.busy": "2024-12-05T20:18:32.357915Z",
     "iopub.status.idle": "2024-12-05T20:18:32.583563Z",
     "shell.execute_reply": "2024-12-05T20:18:32.582776Z",
     "shell.execute_reply.started": "2024-12-05T20:18:32.358526Z"
    }
   },
   "outputs": [
    {
     "name": "stdout",
     "output_type": "stream",
     "text": [
      "\n"
     ]
    }
   ],
   "source": [
    "combined_df = combined_df.withColumn('lat', F.col('lat').cast('double'))\\\n",
    "                         .withColumn('lon', F.col('lon').cast('double'))"
   ]
  },
  {
   "cell_type": "markdown",
   "id": "5a83b17a-cdbe-423b-a7ca-2c905f166cc7",
   "metadata": {},
   "source": [
    "#### Analyze by Geolocation"
   ]
  },
  {
   "cell_type": "markdown",
   "id": "b47fb21a-ebed-44c3-930e-479fb51e3713",
   "metadata": {},
   "source": [
    "##### Clustered Heatmap (Folium)"
   ]
  },
  {
   "cell_type": "code",
   "execution_count": 151,
   "id": "901d5047-755a-4d27-aa90-3bf02adbf269",
   "metadata": {
    "execution": {
     "iopub.execute_input": "2024-12-05T20:18:37.391615Z",
     "iopub.status.busy": "2024-12-05T20:18:37.390825Z",
     "iopub.status.idle": "2024-12-05T20:18:37.624588Z",
     "shell.execute_reply": "2024-12-05T20:18:37.623205Z",
     "shell.execute_reply.started": "2024-12-05T20:18:37.391587Z"
    },
    "tags": []
   },
   "outputs": [
    {
     "name": "stdout",
     "output_type": "stream",
     "text": [
      "\n"
     ]
    }
   ],
   "source": [
    "cell_size = 0.007\n",
    "\n",
    "df_grid = combined_df.withColumn(\"grid_lat\", F.floor(combined_df[\"lat\"] / cell_size) * cell_size) \\\n",
    "             .withColumn(\"grid_lon\", F.floor(combined_df[\"lon\"] / cell_size) * cell_size) \\\n",
    "             .groupBy(\"grid_lat\", \"grid_lon\") \\\n",
    "             .agg(F.count(\"*\").alias(\"point_count\"))"
   ]
  },
  {
   "cell_type": "code",
   "execution_count": 152,
   "id": "389f3fd8-9058-42e1-b45f-92b90bae364c",
   "metadata": {
    "execution": {
     "iopub.execute_input": "2024-12-05T20:18:38.876480Z",
     "iopub.status.busy": "2024-12-05T20:18:38.876071Z",
     "iopub.status.idle": "2024-12-05T20:18:40.216484Z",
     "shell.execute_reply": "2024-12-05T20:18:40.215694Z",
     "shell.execute_reply.started": "2024-12-05T20:18:38.876454Z"
    },
    "tags": []
   },
   "outputs": [
    {
     "name": "stdout",
     "output_type": "stream",
     "text": [
      "\n"
     ]
    }
   ],
   "source": [
    "df_grid_pandas = df_grid.toPandas()"
   ]
  },
  {
   "cell_type": "code",
   "execution_count": 153,
   "id": "d7463ed3-4eeb-4a59-8772-8f230c3590de",
   "metadata": {
    "execution": {
     "iopub.execute_input": "2024-12-05T20:18:40.229515Z",
     "iopub.status.busy": "2024-12-05T20:18:40.228346Z",
     "iopub.status.idle": "2024-12-05T20:18:40.459837Z",
     "shell.execute_reply": "2024-12-05T20:18:40.459157Z",
     "shell.execute_reply.started": "2024-12-05T20:18:40.229478Z"
    },
    "tags": []
   },
   "outputs": [
    {
     "name": "stdout",
     "output_type": "stream",
     "text": [
      "       grid_lat  grid_lon  point_count\n",
      "0        29.309   -81.144            9\n",
      "1        29.288   -81.221            1\n",
      "2        36.106   -86.695           18\n",
      "3        29.946   -81.312            4\n",
      "4        43.162   -77.658            1\n",
      "...         ...       ...          ...\n",
      "55156    29.876   -95.501            1\n",
      "55157    27.727   -97.601            1\n",
      "55158    46.389   -94.129            2\n",
      "55159    44.212   -93.919            1\n",
      "55160    39.823   -82.950            1\n",
      "\n",
      "[55161 rows x 3 columns]\n"
     ]
    }
   ],
   "source": [
    "df_grid_pandas"
   ]
  },
  {
   "cell_type": "code",
   "execution_count": 154,
   "id": "35687fe3-51bb-4ac7-b033-e964109af291",
   "metadata": {
    "execution": {
     "iopub.execute_input": "2024-12-05T20:18:42.485586Z",
     "iopub.status.busy": "2024-12-05T20:18:42.485255Z",
     "iopub.status.idle": "2024-12-05T20:18:43.804095Z",
     "shell.execute_reply": "2024-12-05T20:18:43.803289Z",
     "shell.execute_reply.started": "2024-12-05T20:18:42.485563Z"
    },
    "tags": []
   },
   "outputs": [
    {
     "name": "stdout",
     "output_type": "stream",
     "text": [
      "<folium.folium.Map object at 0x7f8574c04190>\n"
     ]
    }
   ],
   "source": [
    "map_center = [df_grid_pandas[\"grid_lat\"].mean(), df_grid_pandas[\"grid_lon\"].mean()]\n",
    "m = folium.Map(location=map_center, zoom_start=10)\n",
    "\n",
    "# Create the heatmap layer\n",
    "heatmap_layer = HeatMap(\n",
    "    data=df_grid_pandas[[\"grid_lat\", \"grid_lon\", \"point_count\"]].values.tolist(),\n",
    "    radius=15, \n",
    "    blur=10\n",
    ")\n",
    "heatmap_layer.add_to(m)\n",
    "m"
   ]
  },
  {
   "cell_type": "code",
   "execution_count": 155,
   "id": "2d76bec6-5fe1-4551-8aca-f66c3841d2d0",
   "metadata": {
    "execution": {
     "iopub.execute_input": "2024-12-05T20:18:45.353178Z",
     "iopub.status.busy": "2024-12-05T20:18:45.352605Z",
     "iopub.status.idle": "2024-12-05T20:18:46.666382Z",
     "shell.execute_reply": "2024-12-05T20:18:46.664281Z",
     "shell.execute_reply.started": "2024-12-05T20:18:45.353151Z"
    },
    "tags": []
   },
   "outputs": [
    {
     "name": "stdout",
     "output_type": "stream",
     "text": [
      "\n"
     ]
    }
   ],
   "source": [
    "# Save as html\n",
    "map_filename = 'uas_risk_analysis_geolocation.html'\n",
    "buf = io.BytesIO(m._repr_html_().encode('utf-8'))\n",
    "s3_client.put_object(Bucket='endurasoft-dev-risk-framework', Key=f'analysis/eda_results/{map_filename}', Body=buf)\n",
    "buf.close()"
   ]
  },
  {
   "cell_type": "markdown",
   "id": "5694a2b4-d37e-41fd-86a1-6534447fcbaf",
   "metadata": {},
   "source": [
    "##### Shader-based Point Density Heatmap (Plotly)"
   ]
  },
  {
   "cell_type": "code",
   "execution_count": 156,
   "id": "ecde40aa-3a5c-4f2c-8f39-8a1b7208c6a4",
   "metadata": {
    "execution": {
     "iopub.execute_input": "2024-12-05T20:18:49.651471Z",
     "iopub.status.busy": "2024-12-05T20:18:49.651148Z",
     "iopub.status.idle": "2024-12-05T20:18:49.924677Z",
     "shell.execute_reply": "2024-12-05T20:18:49.923893Z",
     "shell.execute_reply.started": "2024-12-05T20:18:49.651448Z"
    },
    "tags": []
   },
   "outputs": [
    {
     "name": "stdout",
     "output_type": "stream",
     "text": [
      "\n"
     ]
    }
   ],
   "source": [
    "combined_df = combined_df.withColumn('time', F.to_timestamp('time'))"
   ]
  },
  {
   "cell_type": "code",
   "execution_count": 157,
   "id": "1327beb7-c63d-43ed-a78a-d3f32a9699ed",
   "metadata": {
    "execution": {
     "iopub.execute_input": "2024-12-05T20:18:51.329614Z",
     "iopub.status.busy": "2024-12-05T20:18:51.328658Z",
     "iopub.status.idle": "2024-12-05T20:18:52.640199Z",
     "shell.execute_reply": "2024-12-05T20:18:52.639462Z",
     "shell.execute_reply.started": "2024-12-05T20:18:51.329589Z"
    },
    "tags": []
   },
   "outputs": [
    {
     "name": "stdout",
     "output_type": "stream",
     "text": [
      "Average time difference in seconds: 39.216129128799594\n"
     ]
    }
   ],
   "source": [
    "# Determine average time diff in seconds between events; this will help determine reduction ratio\n",
    "# Calculate the time difference between consecutive records\n",
    "window = Window.orderBy(F.col(\"time\"))\n",
    "combined_df = combined_df.withColumn(\"prev_timestamp\", F.lag(\"time\").over(window))\n",
    "combined_df = combined_df.withColumn(\"time_diff\", F.unix_timestamp(\"time\") - F.unix_timestamp(\"prev_timestamp\"))\n",
    "\n",
    "# Calculate the average time difference in seconds\n",
    "avg_time_diff = combined_df.agg(F.avg(\"time_diff\")).collect()[0][0]\n",
    "\n",
    "print(\"Average time difference in seconds:\", avg_time_diff)"
   ]
  },
  {
   "cell_type": "code",
   "execution_count": 158,
   "id": "52d73087-ea19-448d-aa41-8fddbf12af6b",
   "metadata": {
    "execution": {
     "iopub.execute_input": "2024-12-05T20:18:52.642055Z",
     "iopub.status.busy": "2024-12-05T20:18:52.641584Z",
     "iopub.status.idle": "2024-12-05T20:18:53.968314Z",
     "shell.execute_reply": "2024-12-05T20:18:53.967444Z",
     "shell.execute_reply.started": "2024-12-05T20:18:52.641923Z"
    },
    "tags": []
   },
   "outputs": [
    {
     "name": "stdout",
     "output_type": "stream",
     "text": [
      "\n"
     ]
    }
   ],
   "source": [
    "# Create year, month, day, hour, minute, seconds columns\n",
    "combined_df = combined_df.withColumn(\"year\", F.year(\"time\")) \\\n",
    "                         .withColumn(\"month\", F.month(\"time\")) \\\n",
    "                         .withColumn(\"day\", F.dayofmonth(\"time\")) \\\n",
    "                         .withColumn(\"hour\", F.hour(\"time\")) \\\n",
    "                         .withColumn(\"minute\", F.minute(\"time\")) \\\n",
    "                         .withColumn(\"second\", F.second(\"time\"))"
   ]
  },
  {
   "cell_type": "code",
   "execution_count": 159,
   "id": "ff636260-6917-4066-a31a-cc9fb9de918c",
   "metadata": {
    "execution": {
     "iopub.execute_input": "2024-12-05T20:18:53.970795Z",
     "iopub.status.busy": "2024-12-05T20:18:53.970096Z",
     "iopub.status.idle": "2024-12-05T20:18:54.219607Z",
     "shell.execute_reply": "2024-12-05T20:18:54.218695Z",
     "shell.execute_reply.started": "2024-12-05T20:18:53.970764Z"
    },
    "tags": []
   },
   "outputs": [
    {
     "name": "stdout",
     "output_type": "stream",
     "text": [
      "\n"
     ]
    }
   ],
   "source": [
    "# Apply date range based windowing based on https://stackoverflow.com/a/45824339\n",
    "# NOTE: This will take a while to run depending on the size of the dataset\n",
    "# Function to calculate number of seconds from number of days\n",
    "days_to_seconds = lambda i: i * 86400\n",
    "\n",
    "# Create window by casting timestamp to long (number of seconds)\n",
    "# https://spark.apache.org/docs/latest/api/python/reference/pyspark.sql/api/pyspark.sql.Window.rangeBetween.html\n",
    "# https://spark.apache.org/docs/latest/api/python/reference/pyspark.sql/api/pyspark.sql.Window.rowsBetween.html\n",
    "window_spec = Window.partitionBy(\"icao24\").orderBy(F.col(\"time\").cast('long')).rangeBetween(-days_to_seconds(1), 0)\n",
    "\n",
    "# Calculate the moving average for latitude and longitude\n",
    "windowed_df = combined_df.withColumn(\"avg_latitude\", F.avg(\"lat\").over(window_spec))\n",
    "windowed_df = windowed_df.withColumn(\"avg_longitude\", F.avg(\"lon\").over(window_spec))\n",
    "\n",
    "# Drop duplicates to further reduce density\n",
    "mav_df = windowed_df.dropDuplicates([\"icao24\", \"avg_latitude\", \"avg_longitude\"])"
   ]
  },
  {
   "cell_type": "code",
   "execution_count": 160,
   "id": "25f0de08-b7f0-403b-a4d0-87f832d8a309",
   "metadata": {
    "execution": {
     "iopub.execute_input": "2024-12-05T20:18:54.868832Z",
     "iopub.status.busy": "2024-12-05T20:18:54.868518Z",
     "iopub.status.idle": "2024-12-05T20:18:57.365487Z",
     "shell.execute_reply": "2024-12-05T20:18:57.364708Z",
     "shell.execute_reply.started": "2024-12-05T20:18:54.868810Z"
    },
    "tags": []
   },
   "outputs": [
    {
     "name": "stdout",
     "output_type": "stream",
     "text": [
      "('200,483', '184,176')\n"
     ]
    }
   ],
   "source": [
    "# Analyze density reduction with moving average\n",
    "f'{combined_df.count():,}', f'{mav_df.count():,}'"
   ]
  },
  {
   "cell_type": "code",
   "execution_count": 161,
   "id": "5afb6b2f-9914-4b18-a598-682a5420f736",
   "metadata": {
    "execution": {
     "iopub.execute_input": "2024-12-05T20:18:57.367633Z",
     "iopub.status.busy": "2024-12-05T20:18:57.367218Z",
     "iopub.status.idle": "2024-12-05T20:18:58.693110Z",
     "shell.execute_reply": "2024-12-05T20:18:58.692315Z",
     "shell.execute_reply.started": "2024-12-05T20:18:57.367606Z"
    },
    "tags": []
   },
   "outputs": [
    {
     "name": "stdout",
     "output_type": "stream",
     "text": [
      "\n"
     ]
    }
   ],
   "source": [
    "reduced_df = combined_df.withColumn('trunc_timestamp', F.date_trunc('second', F.col('time')))\\\n",
    "                        .groupBy('trunc_timestamp')\\\n",
    "                        .agg(*[F.first(col).alias(col) for col in combined_df.columns])\\\n",
    "                        .select(*combined_df.columns)\\\n",
    "                        .orderBy(F.col('time').asc())"
   ]
  },
  {
   "cell_type": "code",
   "execution_count": 162,
   "id": "3243cc3c-f8ff-4edb-b7d4-34c2f0d48ebe",
   "metadata": {
    "execution": {
     "iopub.execute_input": "2024-12-05T20:18:58.694942Z",
     "iopub.status.busy": "2024-12-05T20:18:58.694646Z",
     "iopub.status.idle": "2024-12-05T20:19:00.146020Z",
     "shell.execute_reply": "2024-12-05T20:19:00.144944Z",
     "shell.execute_reply.started": "2024-12-05T20:18:58.694913Z"
    },
    "tags": []
   },
   "outputs": [
    {
     "name": "stdout",
     "output_type": "stream",
     "text": [
      "('200,483', '197,573')\n"
     ]
    }
   ],
   "source": [
    "# Analyze density reduction with date truncation\n",
    "f'{combined_df.count():,}', f'{reduced_df.count():,}'"
   ]
  },
  {
   "cell_type": "code",
   "execution_count": null,
   "id": "8f10ef0a-3a6b-4491-b3dc-928446058e7c",
   "metadata": {
    "execution": {
     "iopub.execute_input": "2024-12-05T20:19:00.164814Z",
     "iopub.status.busy": "2024-12-05T20:19:00.160365Z",
     "iopub.status.idle": "2024-12-05T20:19:00.203472Z",
     "shell.execute_reply": "2024-12-05T20:19:00.193342Z",
     "shell.execute_reply.started": "2024-12-05T20:19:00.164765Z"
    },
    "tags": []
   },
   "outputs": [],
   "source": [
    "# sampled_df = combined_df.sample(fraction=0.1, seed=42)"
   ]
  },
  {
   "cell_type": "code",
   "execution_count": null,
   "id": "bd3b6b23-cf13-4151-9d0e-ba15ccb460c4",
   "metadata": {
    "execution": {
     "iopub.execute_input": "2024-12-05T20:19:00.204905Z",
     "iopub.status.busy": "2024-12-05T20:19:00.204547Z",
     "iopub.status.idle": "2024-12-05T20:19:00.215878Z",
     "shell.execute_reply": "2024-12-05T20:19:00.211249Z",
     "shell.execute_reply.started": "2024-12-05T20:19:00.204881Z"
    },
    "tags": []
   },
   "outputs": [],
   "source": [
    "# Analyze density reduction with sampling\n",
    "# f'{combined_df.count():,}', f'{sampled_df.count():,}'"
   ]
  },
  {
   "cell_type": "code",
   "execution_count": 163,
   "id": "703e2a3b-d83a-48ba-a4b4-ad21287e3793",
   "metadata": {
    "execution": {
     "iopub.execute_input": "2024-12-05T20:19:00.220582Z",
     "iopub.status.busy": "2024-12-05T20:19:00.219043Z",
     "iopub.status.idle": "2024-12-05T20:19:18.953507Z",
     "shell.execute_reply": "2024-12-05T20:19:18.952275Z",
     "shell.execute_reply.started": "2024-12-05T20:19:00.220542Z"
    },
    "tags": []
   },
   "outputs": [
    {
     "name": "stdout",
     "output_type": "stream",
     "text": [
      "\n"
     ]
    }
   ],
   "source": [
    "sampled_df_pandas = reduced_df.drop('geometry').toPandas()"
   ]
  },
  {
   "cell_type": "code",
   "execution_count": 164,
   "id": "33cbede8-af86-4c08-9a55-2b7f1d8d30af",
   "metadata": {
    "execution": {
     "iopub.execute_input": "2024-12-05T20:19:18.956615Z",
     "iopub.status.busy": "2024-12-05T20:19:18.956324Z",
     "iopub.status.idle": "2024-12-05T20:19:20.320375Z",
     "shell.execute_reply": "2024-12-05T20:19:20.319554Z",
     "shell.execute_reply.started": "2024-12-05T20:19:18.956589Z"
    }
   },
   "outputs": [
    {
     "name": "stdout",
     "output_type": "stream",
     "text": [
      "              lat         lon\n",
      "83782   42.192902  -83.390850\n",
      "85880   48.512972 -123.045068\n",
      "170652  38.670410  -90.638700\n",
      "55684   28.549929  -81.321232\n",
      "47404   48.048248 -122.831612\n",
      "177560  33.797882 -118.330377\n",
      "113819  32.728411 -117.168629\n",
      "141461  28.823190  -81.841467\n",
      "93939   41.428233  -81.828727\n",
      "127428  41.406679  -70.596548\n"
     ]
    }
   ],
   "source": [
    "sampled_df_pandas[['lat', 'lon']].sample(10)"
   ]
  },
  {
   "cell_type": "code",
   "execution_count": 165,
   "id": "6676f164-12bf-49ac-8c9a-5b53a20c19d2",
   "metadata": {
    "execution": {
     "iopub.execute_input": "2024-12-05T20:19:20.327571Z",
     "iopub.status.busy": "2024-12-05T20:19:20.323789Z",
     "iopub.status.idle": "2024-12-05T20:19:22.744556Z",
     "shell.execute_reply": "2024-12-05T20:19:22.743721Z",
     "shell.execute_reply.started": "2024-12-05T20:19:20.326456Z"
    },
    "tags": []
   },
   "outputs": [
    {
     "name": "stdout",
     "output_type": "stream",
     "text": [
      "\n"
     ]
    }
   ],
   "source": [
    "# Plot Latitude & Longitude on a map using plotly and datashader - https://plotly.com/python/datashader/\n",
    "cvs = ds.Canvas(plot_width=1000, plot_height=1000)\n",
    "agg = cvs.points(sampled_df_pandas, x='lon', y='lat')\n",
    "coords_lat, coords_lon = agg.coords['lat'].values, agg.coords['lon'].values\n",
    "\n",
    "# Corners of the image, which need to be passed to mapbox\n",
    "coordinates = [[coords_lon[0], coords_lat[0]],\n",
    "               [coords_lon[-1], coords_lat[0]],\n",
    "               [coords_lon[-1], coords_lat[-1]],\n",
    "               [coords_lon[0], coords_lat[-1]]]\n",
    "\n",
    "img = tf.shade(agg, cmap=fire)[::-1].to_pil()\n",
    "\n",
    "# Trick to create rapidly a figure with mapbox axes\n",
    "fig = px.scatter_mapbox(\n",
    "    sampled_df_pandas[:1], # First row, all columns\n",
    "    lat='lat', \n",
    "    lon='lon',\n",
    "    opacity=0.0, # Hidden\n",
    "    zoom=10,\n",
    "    height=600,\n",
    "    width=1600,\n",
    "    center={'lat': 36.778259, 'lon': -119.417931}, # California\n",
    ")\n",
    "\n",
    "# Add the datashader image as a mapbox layer image\n",
    "fig.update_layout(\n",
    "    mapbox_style=\"carto-darkmatter\",\n",
    "    mapbox_layers = [\n",
    "        {\n",
    "            \"sourcetype\": \"image\",\n",
    "            \"source\": img,\n",
    "            \"coordinates\": coordinates\n",
    "        }\n",
    "    ],\n",
    "    margin=dict(l = 0, r = 0, t = 0, b = 0),\n",
    ")\n",
    "fig.show()"
   ]
  },
  {
   "cell_type": "code",
   "execution_count": 166,
   "id": "d0e9a304-885c-4266-83a6-c03247705a02",
   "metadata": {
    "execution": {
     "iopub.execute_input": "2024-12-05T20:19:22.750766Z",
     "iopub.status.busy": "2024-12-05T20:19:22.748027Z",
     "iopub.status.idle": "2024-12-05T20:19:24.132574Z",
     "shell.execute_reply": "2024-12-05T20:19:24.131753Z",
     "shell.execute_reply.started": "2024-12-05T20:19:22.750530Z"
    },
    "tags": []
   },
   "outputs": [
    {
     "name": "stdout",
     "output_type": "stream",
     "text": [
      "\n"
     ]
    }
   ],
   "source": [
    "# Save the plotly heatmap\n",
    "string_buf = io.StringIO()\n",
    "fig.write_html(string_buf)\n",
    "string_buf.seek(0)\n",
    "\n",
    "string_data = string_buf.getvalue()\n",
    "bytes_buf = io.BytesIO(string_data.encode('utf-8'))\n",
    "\n",
    "fig_filename = 'uas_risk_analysis_plotly_heatmap_shader.html'\n",
    "s3_client.put_object(Bucket='endurasoft-dev-risk-framework', Key=f'analysis/eda_results/{fig_filename}', Body=bytes_buf)\n",
    "bytes_buf.close()\n",
    "string_buf.close()"
   ]
  },
  {
   "cell_type": "markdown",
   "id": "630bca66-abed-499f-ae41-2a04f793675f",
   "metadata": {},
   "source": [
    "#### KMeans Clustering by Location"
   ]
  },
  {
   "cell_type": "code",
   "execution_count": 167,
   "id": "9610ab20-39b6-466a-8709-0f5881102b66",
   "metadata": {
    "execution": {
     "iopub.execute_input": "2024-12-05T20:19:24.134674Z",
     "iopub.status.busy": "2024-12-05T20:19:24.133694Z",
     "iopub.status.idle": "2024-12-05T20:19:24.341412Z",
     "shell.execute_reply": "2024-12-05T20:19:24.340277Z",
     "shell.execute_reply.started": "2024-12-05T20:19:24.134642Z"
    },
    "tags": []
   },
   "outputs": [
    {
     "name": "stdout",
     "output_type": "stream",
     "text": [
      "\n"
     ]
    }
   ],
   "source": [
    "combined_df = combined_df.drop('location_features')"
   ]
  },
  {
   "cell_type": "code",
   "execution_count": 168,
   "id": "add8f920-3bd8-4b4f-beeb-41569f5dc9e6",
   "metadata": {
    "execution": {
     "iopub.execute_input": "2024-12-05T20:19:24.343121Z",
     "iopub.status.busy": "2024-12-05T20:19:24.342596Z",
     "iopub.status.idle": "2024-12-05T20:19:33.247136Z",
     "shell.execute_reply": "2024-12-05T20:19:33.246258Z",
     "shell.execute_reply.started": "2024-12-05T20:19:24.343090Z"
    },
    "tags": []
   },
   "outputs": [
    {
     "name": "stdout",
     "output_type": "stream",
     "text": [
      "\n"
     ]
    }
   ],
   "source": [
    "k = 10 \n",
    "kmeans = KMeans(k=k, featuresCol=\"location_features\")\n",
    "\n",
    "# Assemble features into a vector\n",
    "assembler = VectorAssembler(inputCols=[\"lat\", \"lon\"], outputCol=\"location_features\")\n",
    "combined_df = assembler.transform(combined_df)\n",
    "\n",
    "# Train the model\n",
    "kmeans_model = kmeans.fit(combined_df)\n",
    "\n",
    "# Assign cluster labels to each track point\n",
    "combined_df = kmeans_model.transform(combined_df)"
   ]
  },
  {
   "cell_type": "code",
   "execution_count": 169,
   "id": "547508c4-2201-4be0-b41c-417615c0b7fd",
   "metadata": {
    "execution": {
     "iopub.execute_input": "2024-12-05T20:19:33.249667Z",
     "iopub.status.busy": "2024-12-05T20:19:33.249441Z",
     "iopub.status.idle": "2024-12-05T20:19:34.551991Z",
     "shell.execute_reply": "2024-12-05T20:19:34.546115Z",
     "shell.execute_reply.started": "2024-12-05T20:19:33.249647Z"
    },
    "scrolled": true,
    "tags": []
   },
   "outputs": [
    {
     "name": "stdout",
     "output_type": "stream",
     "text": [
      "-RECORD 0---------------------------------\n",
      " geometry          | POINT (-81.252347... \n",
      " time              | 2024-07-01 00:03:29  \n",
      " icao24            | a0158c               \n",
      " lat               | 28.920639038085938   \n",
      " lon               | -81.25234750600961   \n",
      " velocity          | 67.86957352239722    \n",
      " heading           | 243.43494882292202   \n",
      " vertrate          | -2.60096             \n",
      " callsign          | N104WH               \n",
      " onground          | 0                    \n",
      " alert             | 0                    \n",
      " spi               | 0                    \n",
      " baroaltitude      | 365.76               \n",
      " geoaltitude       | 434.34000000000003   \n",
      " lastposupdate     | 1.71979220231E9      \n",
      " lastcontact       | 1.719792202739E9     \n",
      " serials           | WrappedArray(-140... \n",
      " day_of_week       | Monday               \n",
      " daynum_of_week    | 2                    \n",
      " month_name        | July                 \n",
      " point_wkt         | POINT Z (-81.2523... \n",
      " prev_timestamp    | null                 \n",
      " time_diff         | null                 \n",
      " year              | 2024                 \n",
      " month             | 7                    \n",
      " day               | 1                    \n",
      " hour              | 0                    \n",
      " minute            | 3                    \n",
      " second            | 29                   \n",
      " location_features | [28.9206390380859... \n",
      " prediction        | 5                    \n",
      "only showing top 1 row\n"
     ]
    }
   ],
   "source": [
    "combined_df.show(n=1, vertical=True, truncate=True)"
   ]
  },
  {
   "cell_type": "code",
   "execution_count": 170,
   "id": "fecb6271-5414-4df8-9a33-b2674149827b",
   "metadata": {
    "execution": {
     "iopub.execute_input": "2024-12-05T20:19:34.553857Z",
     "iopub.status.busy": "2024-12-05T20:19:34.553276Z",
     "iopub.status.idle": "2024-12-05T20:19:36.049729Z",
     "shell.execute_reply": "2024-12-05T20:19:36.048950Z",
     "shell.execute_reply.started": "2024-12-05T20:19:34.553801Z"
    },
    "tags": []
   },
   "outputs": [
    {
     "name": "stdout",
     "output_type": "stream",
     "text": [
      "+----------+-----+\n",
      "|prediction|count|\n",
      "+----------+-----+\n",
      "|         6|24328|\n",
      "|         9| 4014|\n",
      "|         5|33697|\n",
      "|         7|12584|\n",
      "|         1| 7420|\n",
      "|         3| 5759|\n",
      "|         2|34338|\n",
      "|         4|15600|\n",
      "|         0|45984|\n",
      "|         8|16759|\n",
      "+----------+-----+\n"
     ]
    }
   ],
   "source": [
    "combined_df.groupBy('prediction').count().show()"
   ]
  },
  {
   "cell_type": "markdown",
   "id": "5d1af809-c0d9-42c6-a2a2-c629903f5ace",
   "metadata": {},
   "source": [
    "**Observation:** We can see that with 10 clusters, there is a fairly even distribution of track points spread across each cluster, with a few clusters, such as cluster 1, 3, and 9 containing far fewer track points than the other clusters. This may indicate that clusters 1, 3, and 9, share unique flight patterns that the other clusters do not."
   ]
  },
  {
   "cell_type": "markdown",
   "id": "85dabf7d-24de-4888-9d0f-1daf9281dd36",
   "metadata": {},
   "source": [
    "## Clean up Resources"
   ]
  },
  {
   "cell_type": "code",
   "execution_count": null,
   "id": "802d3769-0ba5-4ef4-a09d-9d100c854dd9",
   "metadata": {
    "execution": {
     "iopub.execute_input": "2024-12-03T03:24:52.675293Z",
     "iopub.status.busy": "2024-12-03T03:24:52.674568Z",
     "iopub.status.idle": "2024-12-03T03:24:52.679199Z",
     "shell.execute_reply": "2024-12-03T03:24:52.678549Z",
     "shell.execute_reply.started": "2024-12-03T03:24:52.675264Z"
    }
   },
   "outputs": [],
   "source": [
    "# %status"
   ]
  },
  {
   "cell_type": "code",
   "execution_count": 16,
   "id": "472a83b3-f15d-4b79-b591-91b9b3e498b1",
   "metadata": {
    "execution": {
     "iopub.execute_input": "2024-12-05T20:24:27.522931Z",
     "iopub.status.busy": "2024-12-05T20:24:27.522407Z",
     "iopub.status.idle": "2024-12-05T20:24:27.923404Z",
     "shell.execute_reply": "2024-12-05T20:24:27.920799Z",
     "shell.execute_reply.started": "2024-12-05T20:24:27.522896Z"
    },
    "tags": []
   },
   "outputs": [
    {
     "name": "stdout",
     "output_type": "stream",
     "text": [
      "Stopping session: b4961618-1c6e-4d3b-a9bd-e039331319b7\n",
      "Stopped session.\n"
     ]
    }
   ],
   "source": [
    "%stop_session"
   ]
  },
  {
   "cell_type": "code",
   "execution_count": null,
   "id": "c3d2953d-ccdd-4719-9ce9-ed5e32e214cc",
   "metadata": {},
   "outputs": [],
   "source": []
  }
 ],
 "metadata": {
  "availableInstances": [
   {
    "_defaultOrder": 0,
    "_isFastLaunch": true,
    "category": "General purpose",
    "gpuNum": 0,
    "hideHardwareSpecs": false,
    "memoryGiB": 4,
    "name": "ml.t3.medium",
    "vcpuNum": 2
   },
   {
    "_defaultOrder": 1,
    "_isFastLaunch": false,
    "category": "General purpose",
    "gpuNum": 0,
    "hideHardwareSpecs": false,
    "memoryGiB": 8,
    "name": "ml.t3.large",
    "vcpuNum": 2
   },
   {
    "_defaultOrder": 2,
    "_isFastLaunch": false,
    "category": "General purpose",
    "gpuNum": 0,
    "hideHardwareSpecs": false,
    "memoryGiB": 16,
    "name": "ml.t3.xlarge",
    "vcpuNum": 4
   },
   {
    "_defaultOrder": 3,
    "_isFastLaunch": false,
    "category": "General purpose",
    "gpuNum": 0,
    "hideHardwareSpecs": false,
    "memoryGiB": 32,
    "name": "ml.t3.2xlarge",
    "vcpuNum": 8
   },
   {
    "_defaultOrder": 4,
    "_isFastLaunch": true,
    "category": "General purpose",
    "gpuNum": 0,
    "hideHardwareSpecs": false,
    "memoryGiB": 8,
    "name": "ml.m5.large",
    "vcpuNum": 2
   },
   {
    "_defaultOrder": 5,
    "_isFastLaunch": false,
    "category": "General purpose",
    "gpuNum": 0,
    "hideHardwareSpecs": false,
    "memoryGiB": 16,
    "name": "ml.m5.xlarge",
    "vcpuNum": 4
   },
   {
    "_defaultOrder": 6,
    "_isFastLaunch": false,
    "category": "General purpose",
    "gpuNum": 0,
    "hideHardwareSpecs": false,
    "memoryGiB": 32,
    "name": "ml.m5.2xlarge",
    "vcpuNum": 8
   },
   {
    "_defaultOrder": 7,
    "_isFastLaunch": false,
    "category": "General purpose",
    "gpuNum": 0,
    "hideHardwareSpecs": false,
    "memoryGiB": 64,
    "name": "ml.m5.4xlarge",
    "vcpuNum": 16
   },
   {
    "_defaultOrder": 8,
    "_isFastLaunch": false,
    "category": "General purpose",
    "gpuNum": 0,
    "hideHardwareSpecs": false,
    "memoryGiB": 128,
    "name": "ml.m5.8xlarge",
    "vcpuNum": 32
   },
   {
    "_defaultOrder": 9,
    "_isFastLaunch": false,
    "category": "General purpose",
    "gpuNum": 0,
    "hideHardwareSpecs": false,
    "memoryGiB": 192,
    "name": "ml.m5.12xlarge",
    "vcpuNum": 48
   },
   {
    "_defaultOrder": 10,
    "_isFastLaunch": false,
    "category": "General purpose",
    "gpuNum": 0,
    "hideHardwareSpecs": false,
    "memoryGiB": 256,
    "name": "ml.m5.16xlarge",
    "vcpuNum": 64
   },
   {
    "_defaultOrder": 11,
    "_isFastLaunch": false,
    "category": "General purpose",
    "gpuNum": 0,
    "hideHardwareSpecs": false,
    "memoryGiB": 384,
    "name": "ml.m5.24xlarge",
    "vcpuNum": 96
   },
   {
    "_defaultOrder": 12,
    "_isFastLaunch": false,
    "category": "General purpose",
    "gpuNum": 0,
    "hideHardwareSpecs": false,
    "memoryGiB": 8,
    "name": "ml.m5d.large",
    "vcpuNum": 2
   },
   {
    "_defaultOrder": 13,
    "_isFastLaunch": false,
    "category": "General purpose",
    "gpuNum": 0,
    "hideHardwareSpecs": false,
    "memoryGiB": 16,
    "name": "ml.m5d.xlarge",
    "vcpuNum": 4
   },
   {
    "_defaultOrder": 14,
    "_isFastLaunch": false,
    "category": "General purpose",
    "gpuNum": 0,
    "hideHardwareSpecs": false,
    "memoryGiB": 32,
    "name": "ml.m5d.2xlarge",
    "vcpuNum": 8
   },
   {
    "_defaultOrder": 15,
    "_isFastLaunch": false,
    "category": "General purpose",
    "gpuNum": 0,
    "hideHardwareSpecs": false,
    "memoryGiB": 64,
    "name": "ml.m5d.4xlarge",
    "vcpuNum": 16
   },
   {
    "_defaultOrder": 16,
    "_isFastLaunch": false,
    "category": "General purpose",
    "gpuNum": 0,
    "hideHardwareSpecs": false,
    "memoryGiB": 128,
    "name": "ml.m5d.8xlarge",
    "vcpuNum": 32
   },
   {
    "_defaultOrder": 17,
    "_isFastLaunch": false,
    "category": "General purpose",
    "gpuNum": 0,
    "hideHardwareSpecs": false,
    "memoryGiB": 192,
    "name": "ml.m5d.12xlarge",
    "vcpuNum": 48
   },
   {
    "_defaultOrder": 18,
    "_isFastLaunch": false,
    "category": "General purpose",
    "gpuNum": 0,
    "hideHardwareSpecs": false,
    "memoryGiB": 256,
    "name": "ml.m5d.16xlarge",
    "vcpuNum": 64
   },
   {
    "_defaultOrder": 19,
    "_isFastLaunch": false,
    "category": "General purpose",
    "gpuNum": 0,
    "hideHardwareSpecs": false,
    "memoryGiB": 384,
    "name": "ml.m5d.24xlarge",
    "vcpuNum": 96
   },
   {
    "_defaultOrder": 20,
    "_isFastLaunch": false,
    "category": "General purpose",
    "gpuNum": 0,
    "hideHardwareSpecs": true,
    "memoryGiB": 0,
    "name": "ml.geospatial.interactive",
    "supportedImageNames": [
     "sagemaker-geospatial-v1-0"
    ],
    "vcpuNum": 0
   },
   {
    "_defaultOrder": 21,
    "_isFastLaunch": true,
    "category": "Compute optimized",
    "gpuNum": 0,
    "hideHardwareSpecs": false,
    "memoryGiB": 4,
    "name": "ml.c5.large",
    "vcpuNum": 2
   },
   {
    "_defaultOrder": 22,
    "_isFastLaunch": false,
    "category": "Compute optimized",
    "gpuNum": 0,
    "hideHardwareSpecs": false,
    "memoryGiB": 8,
    "name": "ml.c5.xlarge",
    "vcpuNum": 4
   },
   {
    "_defaultOrder": 23,
    "_isFastLaunch": false,
    "category": "Compute optimized",
    "gpuNum": 0,
    "hideHardwareSpecs": false,
    "memoryGiB": 16,
    "name": "ml.c5.2xlarge",
    "vcpuNum": 8
   },
   {
    "_defaultOrder": 24,
    "_isFastLaunch": false,
    "category": "Compute optimized",
    "gpuNum": 0,
    "hideHardwareSpecs": false,
    "memoryGiB": 32,
    "name": "ml.c5.4xlarge",
    "vcpuNum": 16
   },
   {
    "_defaultOrder": 25,
    "_isFastLaunch": false,
    "category": "Compute optimized",
    "gpuNum": 0,
    "hideHardwareSpecs": false,
    "memoryGiB": 72,
    "name": "ml.c5.9xlarge",
    "vcpuNum": 36
   },
   {
    "_defaultOrder": 26,
    "_isFastLaunch": false,
    "category": "Compute optimized",
    "gpuNum": 0,
    "hideHardwareSpecs": false,
    "memoryGiB": 96,
    "name": "ml.c5.12xlarge",
    "vcpuNum": 48
   },
   {
    "_defaultOrder": 27,
    "_isFastLaunch": false,
    "category": "Compute optimized",
    "gpuNum": 0,
    "hideHardwareSpecs": false,
    "memoryGiB": 144,
    "name": "ml.c5.18xlarge",
    "vcpuNum": 72
   },
   {
    "_defaultOrder": 28,
    "_isFastLaunch": false,
    "category": "Compute optimized",
    "gpuNum": 0,
    "hideHardwareSpecs": false,
    "memoryGiB": 192,
    "name": "ml.c5.24xlarge",
    "vcpuNum": 96
   },
   {
    "_defaultOrder": 29,
    "_isFastLaunch": true,
    "category": "Accelerated computing",
    "gpuNum": 1,
    "hideHardwareSpecs": false,
    "memoryGiB": 16,
    "name": "ml.g4dn.xlarge",
    "vcpuNum": 4
   },
   {
    "_defaultOrder": 30,
    "_isFastLaunch": false,
    "category": "Accelerated computing",
    "gpuNum": 1,
    "hideHardwareSpecs": false,
    "memoryGiB": 32,
    "name": "ml.g4dn.2xlarge",
    "vcpuNum": 8
   },
   {
    "_defaultOrder": 31,
    "_isFastLaunch": false,
    "category": "Accelerated computing",
    "gpuNum": 1,
    "hideHardwareSpecs": false,
    "memoryGiB": 64,
    "name": "ml.g4dn.4xlarge",
    "vcpuNum": 16
   },
   {
    "_defaultOrder": 32,
    "_isFastLaunch": false,
    "category": "Accelerated computing",
    "gpuNum": 1,
    "hideHardwareSpecs": false,
    "memoryGiB": 128,
    "name": "ml.g4dn.8xlarge",
    "vcpuNum": 32
   },
   {
    "_defaultOrder": 33,
    "_isFastLaunch": false,
    "category": "Accelerated computing",
    "gpuNum": 4,
    "hideHardwareSpecs": false,
    "memoryGiB": 192,
    "name": "ml.g4dn.12xlarge",
    "vcpuNum": 48
   },
   {
    "_defaultOrder": 34,
    "_isFastLaunch": false,
    "category": "Accelerated computing",
    "gpuNum": 1,
    "hideHardwareSpecs": false,
    "memoryGiB": 256,
    "name": "ml.g4dn.16xlarge",
    "vcpuNum": 64
   },
   {
    "_defaultOrder": 35,
    "_isFastLaunch": false,
    "category": "Accelerated computing",
    "gpuNum": 1,
    "hideHardwareSpecs": false,
    "memoryGiB": 61,
    "name": "ml.p3.2xlarge",
    "vcpuNum": 8
   },
   {
    "_defaultOrder": 36,
    "_isFastLaunch": false,
    "category": "Accelerated computing",
    "gpuNum": 4,
    "hideHardwareSpecs": false,
    "memoryGiB": 244,
    "name": "ml.p3.8xlarge",
    "vcpuNum": 32
   },
   {
    "_defaultOrder": 37,
    "_isFastLaunch": false,
    "category": "Accelerated computing",
    "gpuNum": 8,
    "hideHardwareSpecs": false,
    "memoryGiB": 488,
    "name": "ml.p3.16xlarge",
    "vcpuNum": 64
   },
   {
    "_defaultOrder": 38,
    "_isFastLaunch": false,
    "category": "Accelerated computing",
    "gpuNum": 8,
    "hideHardwareSpecs": false,
    "memoryGiB": 768,
    "name": "ml.p3dn.24xlarge",
    "vcpuNum": 96
   },
   {
    "_defaultOrder": 39,
    "_isFastLaunch": false,
    "category": "Memory Optimized",
    "gpuNum": 0,
    "hideHardwareSpecs": false,
    "memoryGiB": 16,
    "name": "ml.r5.large",
    "vcpuNum": 2
   },
   {
    "_defaultOrder": 40,
    "_isFastLaunch": false,
    "category": "Memory Optimized",
    "gpuNum": 0,
    "hideHardwareSpecs": false,
    "memoryGiB": 32,
    "name": "ml.r5.xlarge",
    "vcpuNum": 4
   },
   {
    "_defaultOrder": 41,
    "_isFastLaunch": false,
    "category": "Memory Optimized",
    "gpuNum": 0,
    "hideHardwareSpecs": false,
    "memoryGiB": 64,
    "name": "ml.r5.2xlarge",
    "vcpuNum": 8
   },
   {
    "_defaultOrder": 42,
    "_isFastLaunch": false,
    "category": "Memory Optimized",
    "gpuNum": 0,
    "hideHardwareSpecs": false,
    "memoryGiB": 128,
    "name": "ml.r5.4xlarge",
    "vcpuNum": 16
   },
   {
    "_defaultOrder": 43,
    "_isFastLaunch": false,
    "category": "Memory Optimized",
    "gpuNum": 0,
    "hideHardwareSpecs": false,
    "memoryGiB": 256,
    "name": "ml.r5.8xlarge",
    "vcpuNum": 32
   },
   {
    "_defaultOrder": 44,
    "_isFastLaunch": false,
    "category": "Memory Optimized",
    "gpuNum": 0,
    "hideHardwareSpecs": false,
    "memoryGiB": 384,
    "name": "ml.r5.12xlarge",
    "vcpuNum": 48
   },
   {
    "_defaultOrder": 45,
    "_isFastLaunch": false,
    "category": "Memory Optimized",
    "gpuNum": 0,
    "hideHardwareSpecs": false,
    "memoryGiB": 512,
    "name": "ml.r5.16xlarge",
    "vcpuNum": 64
   },
   {
    "_defaultOrder": 46,
    "_isFastLaunch": false,
    "category": "Memory Optimized",
    "gpuNum": 0,
    "hideHardwareSpecs": false,
    "memoryGiB": 768,
    "name": "ml.r5.24xlarge",
    "vcpuNum": 96
   },
   {
    "_defaultOrder": 47,
    "_isFastLaunch": false,
    "category": "Accelerated computing",
    "gpuNum": 1,
    "hideHardwareSpecs": false,
    "memoryGiB": 16,
    "name": "ml.g5.xlarge",
    "vcpuNum": 4
   },
   {
    "_defaultOrder": 48,
    "_isFastLaunch": false,
    "category": "Accelerated computing",
    "gpuNum": 1,
    "hideHardwareSpecs": false,
    "memoryGiB": 32,
    "name": "ml.g5.2xlarge",
    "vcpuNum": 8
   },
   {
    "_defaultOrder": 49,
    "_isFastLaunch": false,
    "category": "Accelerated computing",
    "gpuNum": 1,
    "hideHardwareSpecs": false,
    "memoryGiB": 64,
    "name": "ml.g5.4xlarge",
    "vcpuNum": 16
   },
   {
    "_defaultOrder": 50,
    "_isFastLaunch": false,
    "category": "Accelerated computing",
    "gpuNum": 1,
    "hideHardwareSpecs": false,
    "memoryGiB": 128,
    "name": "ml.g5.8xlarge",
    "vcpuNum": 32
   },
   {
    "_defaultOrder": 51,
    "_isFastLaunch": false,
    "category": "Accelerated computing",
    "gpuNum": 1,
    "hideHardwareSpecs": false,
    "memoryGiB": 256,
    "name": "ml.g5.16xlarge",
    "vcpuNum": 64
   },
   {
    "_defaultOrder": 52,
    "_isFastLaunch": false,
    "category": "Accelerated computing",
    "gpuNum": 4,
    "hideHardwareSpecs": false,
    "memoryGiB": 192,
    "name": "ml.g5.12xlarge",
    "vcpuNum": 48
   },
   {
    "_defaultOrder": 53,
    "_isFastLaunch": false,
    "category": "Accelerated computing",
    "gpuNum": 4,
    "hideHardwareSpecs": false,
    "memoryGiB": 384,
    "name": "ml.g5.24xlarge",
    "vcpuNum": 96
   },
   {
    "_defaultOrder": 54,
    "_isFastLaunch": false,
    "category": "Accelerated computing",
    "gpuNum": 8,
    "hideHardwareSpecs": false,
    "memoryGiB": 768,
    "name": "ml.g5.48xlarge",
    "vcpuNum": 192
   },
   {
    "_defaultOrder": 55,
    "_isFastLaunch": false,
    "category": "Accelerated computing",
    "gpuNum": 8,
    "hideHardwareSpecs": false,
    "memoryGiB": 1152,
    "name": "ml.p4d.24xlarge",
    "vcpuNum": 96
   },
   {
    "_defaultOrder": 56,
    "_isFastLaunch": false,
    "category": "Accelerated computing",
    "gpuNum": 8,
    "hideHardwareSpecs": false,
    "memoryGiB": 1152,
    "name": "ml.p4de.24xlarge",
    "vcpuNum": 96
   },
   {
    "_defaultOrder": 57,
    "_isFastLaunch": false,
    "category": "Accelerated computing",
    "gpuNum": 0,
    "hideHardwareSpecs": false,
    "memoryGiB": 32,
    "name": "ml.trn1.2xlarge",
    "vcpuNum": 8
   },
   {
    "_defaultOrder": 58,
    "_isFastLaunch": false,
    "category": "Accelerated computing",
    "gpuNum": 0,
    "hideHardwareSpecs": false,
    "memoryGiB": 512,
    "name": "ml.trn1.32xlarge",
    "vcpuNum": 128
   },
   {
    "_defaultOrder": 59,
    "_isFastLaunch": false,
    "category": "Accelerated computing",
    "gpuNum": 0,
    "hideHardwareSpecs": false,
    "memoryGiB": 512,
    "name": "ml.trn1n.32xlarge",
    "vcpuNum": 128
   }
  ],
  "instance_type": "ml.t3.medium",
  "kernelspec": {
   "display_name": "pyspark",
   "language": "python",
   "name": "python3"
  },
  "language_info": {
   "codemirror_mode": {
    "name": "python",
    "version": 3
   },
   "file_extension": ".py",
   "mimetype": "text/x-python",
   "name": "python",
   "pygments_lexer": "python3",
   "version": "3.10.9"
  }
 },
 "nbformat": 4,
 "nbformat_minor": 5
}
