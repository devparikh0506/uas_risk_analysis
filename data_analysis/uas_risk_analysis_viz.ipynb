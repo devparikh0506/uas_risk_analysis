{
 "cells": [
  {
   "cell_type": "markdown",
   "id": "d8719612-091e-4ad3-9ce8-118dcb2d8601",
   "metadata": {},
   "source": [
    "# UAS Risk Analysis Visualization"
   ]
  },
  {
   "cell_type": "markdown",
   "id": "80375d9e-4446-4e4d-b2e9-8b31c0b6f1ff",
   "metadata": {},
   "source": [
    "## Setup"
   ]
  },
  {
   "cell_type": "code",
   "execution_count": 1,
   "id": "65d9e7d9-b77f-486a-8630-8e5b220afcc2",
   "metadata": {
    "execution": {
     "iopub.execute_input": "2024-12-05T20:19:37.649397Z",
     "iopub.status.busy": "2024-12-05T20:19:37.648535Z",
     "iopub.status.idle": "2024-12-05T20:19:43.107491Z",
     "shell.execute_reply": "2024-12-05T20:19:43.106703Z",
     "shell.execute_reply.started": "2024-12-05T20:19:37.649361Z"
    }
   },
   "outputs": [
    {
     "name": "stdout",
     "output_type": "stream",
     "text": [
      "\u001b[31mERROR: pip's dependency resolver does not currently take into account all the packages that are installed. This behaviour is the source of the following dependency conflicts.\n",
      "jupyter-scheduler 2.9.0 requires fsspec==2023.6.0, but you have fsspec 2024.10.0 which is incompatible.\u001b[0m\u001b[31m\n",
      "\u001b[0m"
     ]
    }
   ],
   "source": [
    "!python -m pip install -q geopandas seaborn s3fs pyarrow fiona"
   ]
  },
  {
   "cell_type": "markdown",
   "id": "45a2734a-bb99-42ff-b2b3-998e4b551354",
   "metadata": {},
   "source": [
    "### Imports"
   ]
  },
  {
   "cell_type": "code",
   "execution_count": 2,
   "id": "0bd73299-3666-425f-8c0b-e652c171b684",
   "metadata": {
    "execution": {
     "iopub.execute_input": "2024-12-05T20:19:43.109589Z",
     "iopub.status.busy": "2024-12-05T20:19:43.109326Z",
     "iopub.status.idle": "2024-12-05T20:19:44.874097Z",
     "shell.execute_reply": "2024-12-05T20:19:44.873396Z",
     "shell.execute_reply.started": "2024-12-05T20:19:43.109565Z"
    }
   },
   "outputs": [],
   "source": [
    "import geopandas as gpd\n",
    "import pandas as pd\n",
    "import matplotlib.pyplot as plt\n",
    "import seaborn as sns\n",
    "import os\n",
    "import zipfile\n",
    "from glob import glob\n",
    "import subprocess"
   ]
  },
  {
   "cell_type": "markdown",
   "id": "bd08cb0a-a6a3-4389-831a-d25d2cc28544",
   "metadata": {},
   "source": [
    "### Configurations"
   ]
  },
  {
   "cell_type": "code",
   "execution_count": 3,
   "id": "b92e9d51-311b-4724-a865-32dc9c214b28",
   "metadata": {
    "execution": {
     "iopub.execute_input": "2024-12-05T20:19:44.875628Z",
     "iopub.status.busy": "2024-12-05T20:19:44.875219Z",
     "iopub.status.idle": "2024-12-05T20:19:44.880264Z",
     "shell.execute_reply": "2024-12-05T20:19:44.879605Z",
     "shell.execute_reply.started": "2024-12-05T20:19:44.875596Z"
    }
   },
   "outputs": [],
   "source": [
    "sns.set_style('darkgrid')"
   ]
  },
  {
   "cell_type": "markdown",
   "id": "58e86225-db5c-4046-8488-78feb142cf37",
   "metadata": {},
   "source": [
    "## Load UAS Risk Analysis Results"
   ]
  },
  {
   "cell_type": "code",
   "execution_count": 4,
   "id": "96d64168-11ad-4c08-8bf3-5e793ef956eb",
   "metadata": {
    "execution": {
     "iopub.execute_input": "2024-12-05T20:19:44.882604Z",
     "iopub.status.busy": "2024-12-05T20:19:44.882376Z",
     "iopub.status.idle": "2024-12-05T20:19:44.886558Z",
     "shell.execute_reply": "2024-12-05T20:19:44.885673Z",
     "shell.execute_reply.started": "2024-12-05T20:19:44.882585Z"
    }
   },
   "outputs": [],
   "source": [
    "risk_scores_base_path = 's3://endurasoft-dev-risk-framework/analysis/uas_risk_scores/v3/'"
   ]
  },
  {
   "cell_type": "code",
   "execution_count": 5,
   "id": "f4816625-266f-41f7-bc9c-1bed40c45a7a",
   "metadata": {
    "execution": {
     "iopub.execute_input": "2024-12-05T20:19:46.645662Z",
     "iopub.status.busy": "2024-12-05T20:19:46.645326Z",
     "iopub.status.idle": "2024-12-05T20:20:07.626026Z",
     "shell.execute_reply": "2024-12-05T20:20:07.624850Z",
     "shell.execute_reply.started": "2024-12-05T20:19:46.645638Z"
    }
   },
   "outputs": [
    {
     "data": {
      "text/html": [
       "<div>\n",
       "<style scoped>\n",
       "    .dataframe tbody tr th:only-of-type {\n",
       "        vertical-align: middle;\n",
       "    }\n",
       "\n",
       "    .dataframe tbody tr th {\n",
       "        vertical-align: top;\n",
       "    }\n",
       "\n",
       "    .dataframe thead th {\n",
       "        text-align: right;\n",
       "    }\n",
       "</style>\n",
       "<table border=\"1\" class=\"dataframe\">\n",
       "  <thead>\n",
       "    <tr style=\"text-align: right;\">\n",
       "      <th></th>\n",
       "      <th>globalid</th>\n",
       "      <th>objectid</th>\n",
       "      <th>ceiling</th>\n",
       "      <th>unit</th>\n",
       "      <th>map_eff</th>\n",
       "      <th>last_edit</th>\n",
       "      <th>latitude</th>\n",
       "      <th>longitude</th>\n",
       "      <th>arpt_count</th>\n",
       "      <th>apt1_faaid</th>\n",
       "      <th>...</th>\n",
       "      <th>shape__length</th>\n",
       "      <th>shape__area</th>\n",
       "      <th>shape__area_2</th>\n",
       "      <th>shape__length_2</th>\n",
       "      <th>wkt</th>\n",
       "      <th>flight_int_count</th>\n",
       "      <th>uas_sighting_int_count</th>\n",
       "      <th>risk_factor</th>\n",
       "      <th>risk_score</th>\n",
       "      <th>risk_label</th>\n",
       "    </tr>\n",
       "  </thead>\n",
       "  <tbody>\n",
       "    <tr>\n",
       "      <th>0</th>\n",
       "      <td>00017c46-d5bc-4c72-b379-127c8c63de2d</td>\n",
       "      <td>260889</td>\n",
       "      <td>0</td>\n",
       "      <td>Feet</td>\n",
       "      <td>11/28/2024</td>\n",
       "      <td>9/12/2019</td>\n",
       "      <td>21.979170</td>\n",
       "      <td>-159.804170</td>\n",
       "      <td>1</td>\n",
       "      <td>BKH</td>\n",
       "      <td>...</td>\n",
       "      <td>NaN</td>\n",
       "      <td>NaN</td>\n",
       "      <td>0.000069</td>\n",
       "      <td>0.033333</td>\n",
       "      <td>POLYGON Z ((-159.808333318407 21.9750038051595...</td>\n",
       "      <td>0</td>\n",
       "      <td>0</td>\n",
       "      <td>0.0</td>\n",
       "      <td>0.0</td>\n",
       "      <td>LOW</td>\n",
       "    </tr>\n",
       "    <tr>\n",
       "      <th>1</th>\n",
       "      <td>000280b8-1558-4226-95cb-f53df70d6308</td>\n",
       "      <td>19192</td>\n",
       "      <td>150</td>\n",
       "      <td>Feet</td>\n",
       "      <td>11/28/2024</td>\n",
       "      <td>8/30/2018</td>\n",
       "      <td>30.420837</td>\n",
       "      <td>-84.304180</td>\n",
       "      <td>1</td>\n",
       "      <td>TLH</td>\n",
       "      <td>...</td>\n",
       "      <td>NaN</td>\n",
       "      <td>NaN</td>\n",
       "      <td>0.000069</td>\n",
       "      <td>0.033333</td>\n",
       "      <td>POLYGON Z ((-84.3083413416534 30.4166713993425...</td>\n",
       "      <td>0</td>\n",
       "      <td>0</td>\n",
       "      <td>0.0</td>\n",
       "      <td>0.0</td>\n",
       "      <td>LOW</td>\n",
       "    </tr>\n",
       "    <tr>\n",
       "      <th>2</th>\n",
       "      <td>0002afa2-18e6-4d01-80f5-6004198792da</td>\n",
       "      <td>367316</td>\n",
       "      <td>400</td>\n",
       "      <td>Feet</td>\n",
       "      <td>11/28/2024</td>\n",
       "      <td>4/27/2017</td>\n",
       "      <td>70.137505</td>\n",
       "      <td>-148.670840</td>\n",
       "      <td>1</td>\n",
       "      <td>SCC</td>\n",
       "      <td>...</td>\n",
       "      <td>NaN</td>\n",
       "      <td>NaN</td>\n",
       "      <td>0.000069</td>\n",
       "      <td>0.033333</td>\n",
       "      <td>POLYGON Z ((-148.67499659182 70.1333363769282 ...</td>\n",
       "      <td>0</td>\n",
       "      <td>0</td>\n",
       "      <td>0.0</td>\n",
       "      <td>0.0</td>\n",
       "      <td>LOW</td>\n",
       "    </tr>\n",
       "    <tr>\n",
       "      <th>3</th>\n",
       "      <td>0002e98b-e4a9-450d-bd36-880fb8ea068d</td>\n",
       "      <td>142265</td>\n",
       "      <td>400</td>\n",
       "      <td>Feet</td>\n",
       "      <td>11/28/2024</td>\n",
       "      <td>12/7/2017</td>\n",
       "      <td>40.054173</td>\n",
       "      <td>-76.329170</td>\n",
       "      <td>1</td>\n",
       "      <td>LNS</td>\n",
       "      <td>...</td>\n",
       "      <td>NaN</td>\n",
       "      <td>NaN</td>\n",
       "      <td>0.000069</td>\n",
       "      <td>0.033333</td>\n",
       "      <td>POLYGON Z ((-76.3333397470069 40.0500066587629...</td>\n",
       "      <td>0</td>\n",
       "      <td>0</td>\n",
       "      <td>0.0</td>\n",
       "      <td>0.0</td>\n",
       "      <td>LOW</td>\n",
       "    </tr>\n",
       "    <tr>\n",
       "      <th>4</th>\n",
       "      <td>00033355-eac9-45ac-b117-809f80a9de84</td>\n",
       "      <td>133052</td>\n",
       "      <td>200</td>\n",
       "      <td>Feet</td>\n",
       "      <td>11/28/2024</td>\n",
       "      <td>10/11/2017</td>\n",
       "      <td>39.495840</td>\n",
       "      <td>-74.520836</td>\n",
       "      <td>1</td>\n",
       "      <td>ACY</td>\n",
       "      <td>...</td>\n",
       "      <td>NaN</td>\n",
       "      <td>NaN</td>\n",
       "      <td>0.000069</td>\n",
       "      <td>0.033333</td>\n",
       "      <td>POLYGON Z ((-74.5250060519168 39.4916732139747...</td>\n",
       "      <td>0</td>\n",
       "      <td>0</td>\n",
       "      <td>0.0</td>\n",
       "      <td>0.0</td>\n",
       "      <td>LOW</td>\n",
       "    </tr>\n",
       "  </tbody>\n",
       "</table>\n",
       "<p>5 rows × 51 columns</p>\n",
       "</div>"
      ],
      "text/plain": [
       "                               globalid  objectid  ceiling  unit     map_eff  \\\n",
       "0  00017c46-d5bc-4c72-b379-127c8c63de2d    260889        0  Feet  11/28/2024   \n",
       "1  000280b8-1558-4226-95cb-f53df70d6308     19192      150  Feet  11/28/2024   \n",
       "2  0002afa2-18e6-4d01-80f5-6004198792da    367316      400  Feet  11/28/2024   \n",
       "3  0002e98b-e4a9-450d-bd36-880fb8ea068d    142265      400  Feet  11/28/2024   \n",
       "4  00033355-eac9-45ac-b117-809f80a9de84    133052      200  Feet  11/28/2024   \n",
       "\n",
       "    last_edit   latitude   longitude  arpt_count apt1_faaid  ...  \\\n",
       "0   9/12/2019  21.979170 -159.804170           1        BKH  ...   \n",
       "1   8/30/2018  30.420837  -84.304180           1        TLH  ...   \n",
       "2   4/27/2017  70.137505 -148.670840           1        SCC  ...   \n",
       "3   12/7/2017  40.054173  -76.329170           1        LNS  ...   \n",
       "4  10/11/2017  39.495840  -74.520836           1        ACY  ...   \n",
       "\n",
       "  shape__length shape__area  shape__area_2 shape__length_2  \\\n",
       "0           NaN         NaN       0.000069        0.033333   \n",
       "1           NaN         NaN       0.000069        0.033333   \n",
       "2           NaN         NaN       0.000069        0.033333   \n",
       "3           NaN         NaN       0.000069        0.033333   \n",
       "4           NaN         NaN       0.000069        0.033333   \n",
       "\n",
       "                                                 wkt flight_int_count  \\\n",
       "0  POLYGON Z ((-159.808333318407 21.9750038051595...                0   \n",
       "1  POLYGON Z ((-84.3083413416534 30.4166713993425...                0   \n",
       "2  POLYGON Z ((-148.67499659182 70.1333363769282 ...                0   \n",
       "3  POLYGON Z ((-76.3333397470069 40.0500066587629...                0   \n",
       "4  POLYGON Z ((-74.5250060519168 39.4916732139747...                0   \n",
       "\n",
       "   uas_sighting_int_count risk_factor risk_score risk_label  \n",
       "0                       0         0.0        0.0        LOW  \n",
       "1                       0         0.0        0.0        LOW  \n",
       "2                       0         0.0        0.0        LOW  \n",
       "3                       0         0.0        0.0        LOW  \n",
       "4                       0         0.0        0.0        LOW  \n",
       "\n",
       "[5 rows x 51 columns]"
      ]
     },
     "execution_count": 5,
     "metadata": {},
     "output_type": "execute_result"
    }
   ],
   "source": [
    "risk_scores_df = pd.read_csv(os.path.join(risk_scores_base_path, 'consolidated/uas_risk_scores_csv/uas_risk_scores.csv'), low_memory=False)\n",
    "risk_scores_df.head()"
   ]
  },
  {
   "cell_type": "code",
   "execution_count": 6,
   "id": "d820a731-3260-4e10-b522-2f076e53e0a5",
   "metadata": {
    "execution": {
     "iopub.execute_input": "2024-12-05T20:20:07.629078Z",
     "iopub.status.busy": "2024-12-05T20:20:07.628637Z",
     "iopub.status.idle": "2024-12-05T20:20:07.636866Z",
     "shell.execute_reply": "2024-12-05T20:20:07.636067Z",
     "shell.execute_reply.started": "2024-12-05T20:20:07.629053Z"
    }
   },
   "outputs": [
    {
     "data": {
      "text/plain": [
       "(376569, 51)"
      ]
     },
     "execution_count": 6,
     "metadata": {},
     "output_type": "execute_result"
    }
   ],
   "source": [
    "risk_scores_df.shape"
   ]
  },
  {
   "cell_type": "code",
   "execution_count": 8,
   "id": "c24fd12b-2fed-4d53-9fa4-5a232225d54f",
   "metadata": {
    "execution": {
     "iopub.execute_input": "2024-12-05T20:20:40.183436Z",
     "iopub.status.busy": "2024-12-05T20:20:40.183012Z",
     "iopub.status.idle": "2024-12-05T20:20:40.194311Z",
     "shell.execute_reply": "2024-12-05T20:20:40.189671Z",
     "shell.execute_reply.started": "2024-12-05T20:20:40.183410Z"
    }
   },
   "outputs": [],
   "source": [
    "# Rename long target columns (columns with more than 10 characters are truncated)\n",
    "risk_scores_df.rename({'flight_int_count': 'flight_int', 'uas_sighting_int_count': 'uas_int'}, axis=1, inplace=True)"
   ]
  },
  {
   "cell_type": "markdown",
   "id": "64aaa9e0-d300-4920-8e06-2998c9e755e4",
   "metadata": {},
   "source": [
    "## Convert to GeoPandas and Save Shapefile"
   ]
  },
  {
   "cell_type": "code",
   "execution_count": 9,
   "id": "33c3f2b5-f4b3-4422-8d28-b0a2fd7093a7",
   "metadata": {
    "execution": {
     "iopub.execute_input": "2024-12-05T20:20:44.580894Z",
     "iopub.status.busy": "2024-12-05T20:20:44.580474Z",
     "iopub.status.idle": "2024-12-05T20:20:49.157552Z",
     "shell.execute_reply": "2024-12-05T20:20:49.156810Z",
     "shell.execute_reply.started": "2024-12-05T20:20:44.580871Z"
    }
   },
   "outputs": [],
   "source": [
    "# Convert risk scores dataframe to geopandas\n",
    "risk_scores_gdf = gpd.GeoDataFrame(\n",
    "    risk_scores_df,\n",
    "    geometry=gpd.GeoSeries.from_wkt(risk_scores_df['wkt'])\n",
    ")"
   ]
  },
  {
   "cell_type": "code",
   "execution_count": 10,
   "id": "1a8dafd9-6745-4400-b97b-b3f9e9e1ceec",
   "metadata": {
    "execution": {
     "iopub.execute_input": "2024-12-05T20:20:49.159312Z",
     "iopub.status.busy": "2024-12-05T20:20:49.158839Z",
     "iopub.status.idle": "2024-12-05T20:24:04.354180Z",
     "shell.execute_reply": "2024-12-05T20:24:04.353343Z",
     "shell.execute_reply.started": "2024-12-05T20:20:49.159283Z"
    }
   },
   "outputs": [
    {
     "name": "stderr",
     "output_type": "stream",
     "text": [
      "/tmp/ipykernel_121/343700671.py:3: UserWarning: Column names longer than 10 characters will be truncated when saved to ESRI Shapefile.\n",
      "  risk_scores_gdf.to_file(os.path.join(shapefile_dir, 'uas_risk_scores.shp'), driver='ESRI Shapefile', engine='fiona', crs='EPSG:4326')\n"
     ]
    }
   ],
   "source": [
    "shapefile_dir = 'uas_risk_scores_shapefile'\n",
    "os.makedirs(shapefile_dir, exist_ok=True)\n",
    "risk_scores_gdf.to_file(os.path.join(shapefile_dir, 'uas_risk_scores.shp'), driver='ESRI Shapefile', engine='fiona', crs='EPSG:4326')"
   ]
  },
  {
   "cell_type": "code",
   "execution_count": 11,
   "id": "64ed51f8-06c5-48f6-8a8f-37104b1ad8a3",
   "metadata": {
    "execution": {
     "iopub.execute_input": "2024-12-05T20:24:04.359368Z",
     "iopub.status.busy": "2024-12-05T20:24:04.355754Z",
     "iopub.status.idle": "2024-12-05T20:24:04.381380Z",
     "shell.execute_reply": "2024-12-05T20:24:04.378471Z",
     "shell.execute_reply.started": "2024-12-05T20:24:04.359318Z"
    }
   },
   "outputs": [
    {
     "data": {
      "text/plain": [
       "['uas_risk_scores_shapefile/uas_risk_scores.shx',\n",
       " 'uas_risk_scores_shapefile/uas_risk_scores.shp',\n",
       " 'uas_risk_scores_shapefile/uas_risk_scores.prj',\n",
       " 'uas_risk_scores_shapefile/uas_risk_scores.dbf',\n",
       " 'uas_risk_scores_shapefile/uas_risk_scores.cpg']"
      ]
     },
     "execution_count": 11,
     "metadata": {},
     "output_type": "execute_result"
    }
   ],
   "source": [
    "glob(os.path.join(shapefile_dir, '*.*'))"
   ]
  },
  {
   "cell_type": "code",
   "execution_count": 12,
   "id": "98f668d2-7ee5-4f9b-b7db-87ea74b58fdc",
   "metadata": {
    "execution": {
     "iopub.execute_input": "2024-12-05T20:24:04.388739Z",
     "iopub.status.busy": "2024-12-05T20:24:04.384056Z",
     "iopub.status.idle": "2024-12-05T20:24:25.468990Z",
     "shell.execute_reply": "2024-12-05T20:24:25.468273Z",
     "shell.execute_reply.started": "2024-12-05T20:24:04.388695Z"
    }
   },
   "outputs": [],
   "source": [
    "# Create a zip file\n",
    "with zipfile.ZipFile('uas_risk_scores_shapefile.zip', 'w', zipfile.ZIP_DEFLATED) as zipf:\n",
    "    # Add all shapefile components to zip\n",
    "    for path in glob(os.path.join(shapefile_dir, '*.*')):\n",
    "        zipf.write(path)"
   ]
  },
  {
   "cell_type": "code",
   "execution_count": 13,
   "id": "05804afe-b9aa-45ea-99a8-b2185497b06d",
   "metadata": {
    "execution": {
     "iopub.execute_input": "2024-12-05T20:24:25.471062Z",
     "iopub.status.busy": "2024-12-05T20:24:25.470379Z",
     "iopub.status.idle": "2024-12-05T20:24:28.874090Z",
     "shell.execute_reply": "2024-12-05T20:24:28.873373Z",
     "shell.execute_reply.started": "2024-12-05T20:24:25.471029Z"
    }
   },
   "outputs": [
    {
     "name": "stdout",
     "output_type": "stream",
     "text": [
      "upload: ./uas_risk_scores_shapefile.zip to s3://endurasoft-dev-risk-framework/analysis/uas_risk_scores/v3/viz/uas_risk_scores_shapefile.zip\n"
     ]
    },
    {
     "data": {
      "text/plain": [
       "0"
      ]
     },
     "execution_count": 13,
     "metadata": {},
     "output_type": "execute_result"
    }
   ],
   "source": [
    "# Upload to s3\n",
    "shapefile_outpath = os.path.join(risk_scores_base_path, 'viz/uas_risk_scores_shapefile.zip')\n",
    "subprocess.check_call(f'aws s3 cp uas_risk_scores_shapefile.zip {shapefile_outpath}'.split())"
   ]
  },
  {
   "cell_type": "code",
   "execution_count": null,
   "id": "056c73eb-aef1-4390-aa7f-737038e4a376",
   "metadata": {},
   "outputs": [],
   "source": []
  }
 ],
 "metadata": {
  "kernelspec": {
   "display_name": "Python 3 (ipykernel)",
   "language": "python",
   "name": "python3"
  },
  "language_info": {
   "codemirror_mode": {
    "name": "ipython",
    "version": 3
   },
   "file_extension": ".py",
   "mimetype": "text/x-python",
   "name": "python",
   "nbconvert_exporter": "python",
   "pygments_lexer": "ipython3",
   "version": "3.11.10"
  }
 },
 "nbformat": 4,
 "nbformat_minor": 5
}
