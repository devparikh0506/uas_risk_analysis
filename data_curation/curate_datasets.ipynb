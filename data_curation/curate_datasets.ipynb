{
 "cells": [
  {
   "cell_type": "markdown",
   "id": "16116dec-430a-4f04-9bc7-3a8e6a2a0e55",
   "metadata": {},
   "source": [
    "# Curate UAS Risk Analysis Datasets\n",
    "Datasets involved in analyzing risk for Unmanned Aircraft System (UAS) sightings are as follows:\n",
    "1) UAS Sightings Reports\n",
    "2) Flight Logs for Spatiotemporal Analysis\n",
    "3) Airports Data for Geospatial Analysis (relative linking to UAS sightings reports)\n",
    "4) UAS Facility Map (UASFM) Grid Files for Geospatial Analysis\n",
    "\n",
    "As these datasets are retrieved, they will be curated and fused together and uploaded to the cloud for analysis (e.g., via pyspark)"
   ]
  },
  {
   "cell_type": "markdown",
   "id": "76c9355b-41e4-4030-8e14-e5139e5f79e6",
   "metadata": {},
   "source": [
    "## Setup"
   ]
  },
  {
   "cell_type": "code",
   "execution_count": 2,
   "id": "be83b573-0ba0-456f-a250-4dcbd70ff126",
   "metadata": {},
   "outputs": [
    {
     "name": "stdout",
     "output_type": "stream",
     "text": [
      "Python 3.12.5\n"
     ]
    }
   ],
   "source": [
    "!python --version"
   ]
  },
  {
   "cell_type": "code",
   "execution_count": 1,
   "id": "d6846241-12a0-40a2-a7ab-32c6ada928e8",
   "metadata": {},
   "outputs": [
    {
     "name": "stdout",
     "output_type": "stream",
     "text": [
      "# Python 3.12.5\n",
      "openpyxl==3.1.5\n"
     ]
    }
   ],
   "source": [
    "!cat requirements.txt"
   ]
  },
  {
   "cell_type": "code",
   "execution_count": 3,
   "id": "f235735e-a5f7-49a7-b541-e052923d3851",
   "metadata": {},
   "outputs": [],
   "source": [
    "!python -m pip install -q -r requirements.txt"
   ]
  },
  {
   "cell_type": "markdown",
   "id": "14c62e28-6ba1-4789-ab99-5862f14b4b90",
   "metadata": {},
   "source": [
    "### Imports"
   ]
  },
  {
   "cell_type": "code",
   "execution_count": 10,
   "id": "d346fa6d-57ae-458e-8c00-4738ef61ed67",
   "metadata": {},
   "outputs": [],
   "source": [
    "import openpyxl \n",
    "import csv \n",
    "import pandas as pd\n",
    "import os\n",
    "from glob import glob\n",
    "from tqdm import tqdm\n",
    "from zipfile import ZipFile\n",
    "import json\n",
    "import subprocess\n",
    "from uas_risk_analysis_packages.ml import functions as F"
   ]
  },
  {
   "cell_type": "markdown",
   "id": "b2cafd09-daab-497e-b34b-fc6178836b19",
   "metadata": {},
   "source": [
    "### Configurations"
   ]
  },
  {
   "cell_type": "code",
   "execution_count": 2,
   "id": "5ecf5713-5bc7-4628-838f-499d58168f95",
   "metadata": {},
   "outputs": [],
   "source": [
    "DATASETS_DIR = 'datasets'\n",
    "TEMPLATES_DIR = 'templates'"
   ]
  },
  {
   "cell_type": "markdown",
   "id": "1f331334-2069-4c8d-9656-1c5fcb4566e8",
   "metadata": {},
   "source": [
    "## Curate Datasets\n",
    "**NOTE** Need to manually download the raw `xlsx` data from the FAA site.<br>https://www.faa.gov/uas/resources/public_records/uas_sightings_report\n",
    "\n",
    "Convert raw UAS sightings reports to CSV. Later, the CSV data will be processed by a large language model (LLM) to extract spatiotemporal data (e.g., lat/lon, altitude, time)"
   ]
  },
  {
   "cell_type": "code",
   "execution_count": null,
   "id": "d21fc72c-561c-4e5d-933e-5c72cdbcf97f",
   "metadata": {},
   "outputs": [],
   "source": []
  },
  {
   "cell_type": "markdown",
   "id": "15c2d950-f680-474f-be27-ebc2b89944a8",
   "metadata": {},
   "source": [
    "### UAS Sightings Reports"
   ]
  },
  {
   "cell_type": "code",
   "execution_count": 4,
   "id": "c152e87b-9c37-4275-bfed-7e72ee127c4e",
   "metadata": {
    "scrolled": true
   },
   "outputs": [
    {
     "data": {
      "text/plain": [
       "['datasets/uas_sightings_reports/raw/uas_sightings_report_fy23-q1.xlsx',\n",
       " 'datasets/uas_sightings_reports/raw/UAS_Sightings_report_1Feb-31Mar16.xlsx',\n",
       " 'datasets/uas_sightings_reports/raw/FY2019_Q3_UAS_Sightings.xlsx',\n",
       " 'datasets/uas_sightings_reports/raw/FY2019_Q4_UAS_Sightings.xlsx',\n",
       " 'datasets/uas_sightings_reports/raw/FY2022_Q1_UAS_Sightings.xlsx',\n",
       " 'datasets/uas_sightings_reports/raw/UAS_Sightings_report_1Apr-30Jun16.xlsx',\n",
       " 'datasets/uas_sightings_reports/raw/uas_sightings_report_fy23_q4.xlsx',\n",
       " 'datasets/uas_sightings_reports/raw/FY2021_Q4_UAS_Sightings.xlsx',\n",
       " 'datasets/uas_sightings_reports/raw/FY2018_Q1_UAS_Sightings.xlsx',\n",
       " 'datasets/uas_sightings_reports/raw/FY2019_Q2_UAS_Sightings.xlsx',\n",
       " 'datasets/uas_sightings_reports/raw/UAS_sightings_report_170331.xlsx',\n",
       " 'datasets/uas_sightings_reports/raw/FY2021_Q3_UAS_Sightings.xlsx',\n",
       " 'datasets/uas_sightings_reports/raw/Reported-UAS-Sigihtings-January-March-2022_0.xlsx',\n",
       " 'datasets/uas_sightings_reports/raw/FY2018_Q2_UAS_Sightings.xlsx',\n",
       " 'datasets/uas_sightings_reports/raw/FY2019_Q1_UAS_Sightings.xlsx',\n",
       " 'datasets/uas_sightings_reports/raw/uas_sightings_report_fy24_q2.xlsx',\n",
       " 'datasets/uas_sightings_reports/raw/FY2020_Q3_UAS_Sightings.xlsx',\n",
       " 'datasets/uas_sightings_reports/raw/uas_sightings_report_fy24_q3.xlsx',\n",
       " 'datasets/uas_sightings_reports/raw/UAS_Sightings_report_1Jul-30Sep16.xlsx',\n",
       " 'datasets/uas_sightings_reports/raw/Reported-UAS-Sightings-July-Sept-2022.xlsx',\n",
       " 'datasets/uas_sightings_reports/raw/UAS_Sightings_report_21Aug-31Jan.xlsx',\n",
       " 'datasets/uas_sightings_reports/raw/UAS_sightings_report_Jan_Mar2017.xlsx',\n",
       " 'datasets/uas_sightings_reports/raw/FY2020_Q1_UAS_Sightings.xlsx',\n",
       " 'datasets/uas_sightings_reports/raw/UAS_sightings_report_Apr_Jun2017.xlsx',\n",
       " 'datasets/uas_sightings_reports/raw/FY2020_Q4_UAS_Sightings.xlsx',\n",
       " 'datasets/uas_sightings_reports/raw/uas_sightings_report_fy23-q2.xlsx',\n",
       " 'datasets/uas_sightings_reports/raw/FY2020_Q2_UAS_Sightings.xlsx',\n",
       " 'datasets/uas_sightings_reports/raw/FY2017_Q4_De-identification_Redaction_11192017.xlsx',\n",
       " 'datasets/uas_sightings_reports/raw/FY2021_Q2_UAS_Sightings.xlsx',\n",
       " 'datasets/uas_sightings_reports/raw/FY2018_Q4_UAS_Sightings.xlsx',\n",
       " 'datasets/uas_sightings_reports/raw/Reported-UAS-Sightings-April-June-2022.xlsx',\n",
       " 'datasets/uas_sightings_reports/raw/uas_sightings_report_fy24_q1.xlsx',\n",
       " 'datasets/uas_sightings_reports/raw/FY2021_Q1_UAS_Sightings.xlsx',\n",
       " 'datasets/uas_sightings_reports/raw/FY2018_Q3_UAS_Sightings.xlsx',\n",
       " 'datasets/uas_sightings_reports/raw/uas_sightings_report_fy23-q3.xlsx']"
      ]
     },
     "execution_count": 4,
     "metadata": {},
     "output_type": "execute_result"
    }
   ],
   "source": [
    "uas_sightings_reports_raw_dir = os.path.join(DATASETS_DIR, 'uas_sightings_reports/raw')\n",
    "uas_sightings_reports_paths = glob(os.path.join(uas_sightings_reports_raw_dir, '*.xlsx'))\n",
    "uas_sightings_reports_paths"
   ]
  },
  {
   "cell_type": "code",
   "execution_count": 6,
   "id": "393be544-a9b9-4610-9715-5ab37569dcc9",
   "metadata": {},
   "outputs": [
    {
     "name": "stderr",
     "output_type": "stream",
     "text": [
      "uas_sightings_report_fy23-q3.xlsx: 100%|█████████████████████████████████████████████████████████████████████████████████████████████████████████| 35/35 [00:00<00:00, 177.54it/s]\n"
     ]
    }
   ],
   "source": [
    "uas_sightings_reports_convert_dir = os.path.join(DATASETS_DIR, 'uas_sightings_reports/convert')\n",
    "uas_sightings_reports_convert_paths = []\n",
    "\n",
    "with tqdm(total=len(uas_sightings_reports_paths)) as pbar:\n",
    "    for path in uas_sightings_reports_paths:\n",
    "        pbar.set_description(os.path.basename(path), refresh=True)\n",
    "        pbar.update(1)\n",
    "\n",
    "        # Set output path and make output directory if it doesn't exist yet\n",
    "        outpath = os.path.join(uas_sightings_reports_convert_dir, os.path.splitext(os.path.basename(path))[0] + '.csv')\n",
    "        os.makedirs(os.path.dirname(outpath), exist_ok=True)\n",
    "\n",
    "        if not os.path.exists(outpath):\n",
    "            # Open workbook and select active sheet\n",
    "            workbook = openpyxl.load_workbook(path)\n",
    "            sheet = workbook.active\n",
    "            \n",
    "            # Open the output file for writing and save the active sheet contents to it\n",
    "            with open(outpath, 'w', newline='') as f:\n",
    "                writer = csv.writer(f)\n",
    "        \n",
    "                # Iterate rows in active sheet and write to file\n",
    "                for row in sheet.rows:\n",
    "                    writer.writerow([cell.value for cell in row])\n",
    "        \n",
    "            # print(f'Saved to \"{outpath}\"')\n",
    "        uas_sightings_reports_convert_paths.append(outpath)"
   ]
  },
  {
   "cell_type": "code",
   "execution_count": 7,
   "id": "289e60a5-4a24-49da-ba9a-aea7a9d210e4",
   "metadata": {
    "scrolled": true
   },
   "outputs": [
    {
     "data": {
      "text/plain": [
       "['datasets/uas_sightings_reports/convert/uas_sightings_report_fy23-q1.csv',\n",
       " 'datasets/uas_sightings_reports/convert/UAS_Sightings_report_1Feb-31Mar16.csv',\n",
       " 'datasets/uas_sightings_reports/convert/FY2019_Q3_UAS_Sightings.csv',\n",
       " 'datasets/uas_sightings_reports/convert/FY2019_Q4_UAS_Sightings.csv',\n",
       " 'datasets/uas_sightings_reports/convert/FY2022_Q1_UAS_Sightings.csv',\n",
       " 'datasets/uas_sightings_reports/convert/UAS_Sightings_report_1Apr-30Jun16.csv',\n",
       " 'datasets/uas_sightings_reports/convert/uas_sightings_report_fy23_q4.csv',\n",
       " 'datasets/uas_sightings_reports/convert/FY2021_Q4_UAS_Sightings.csv',\n",
       " 'datasets/uas_sightings_reports/convert/FY2018_Q1_UAS_Sightings.csv',\n",
       " 'datasets/uas_sightings_reports/convert/FY2019_Q2_UAS_Sightings.csv',\n",
       " 'datasets/uas_sightings_reports/convert/UAS_sightings_report_170331.csv',\n",
       " 'datasets/uas_sightings_reports/convert/FY2021_Q3_UAS_Sightings.csv',\n",
       " 'datasets/uas_sightings_reports/convert/Reported-UAS-Sigihtings-January-March-2022_0.csv',\n",
       " 'datasets/uas_sightings_reports/convert/FY2018_Q2_UAS_Sightings.csv',\n",
       " 'datasets/uas_sightings_reports/convert/FY2019_Q1_UAS_Sightings.csv',\n",
       " 'datasets/uas_sightings_reports/convert/uas_sightings_report_fy24_q2.csv',\n",
       " 'datasets/uas_sightings_reports/convert/FY2020_Q3_UAS_Sightings.csv',\n",
       " 'datasets/uas_sightings_reports/convert/uas_sightings_report_fy24_q3.csv',\n",
       " 'datasets/uas_sightings_reports/convert/UAS_Sightings_report_1Jul-30Sep16.csv',\n",
       " 'datasets/uas_sightings_reports/convert/Reported-UAS-Sightings-July-Sept-2022.csv',\n",
       " 'datasets/uas_sightings_reports/convert/UAS_Sightings_report_21Aug-31Jan.csv',\n",
       " 'datasets/uas_sightings_reports/convert/UAS_sightings_report_Jan_Mar2017.csv',\n",
       " 'datasets/uas_sightings_reports/convert/FY2020_Q1_UAS_Sightings.csv',\n",
       " 'datasets/uas_sightings_reports/convert/UAS_sightings_report_Apr_Jun2017.csv',\n",
       " 'datasets/uas_sightings_reports/convert/FY2020_Q4_UAS_Sightings.csv',\n",
       " 'datasets/uas_sightings_reports/convert/uas_sightings_report_fy23-q2.csv',\n",
       " 'datasets/uas_sightings_reports/convert/FY2020_Q2_UAS_Sightings.csv',\n",
       " 'datasets/uas_sightings_reports/convert/FY2017_Q4_De-identification_Redaction_11192017.csv',\n",
       " 'datasets/uas_sightings_reports/convert/FY2021_Q2_UAS_Sightings.csv',\n",
       " 'datasets/uas_sightings_reports/convert/FY2018_Q4_UAS_Sightings.csv',\n",
       " 'datasets/uas_sightings_reports/convert/Reported-UAS-Sightings-April-June-2022.csv',\n",
       " 'datasets/uas_sightings_reports/convert/uas_sightings_report_fy24_q1.csv',\n",
       " 'datasets/uas_sightings_reports/convert/FY2021_Q1_UAS_Sightings.csv',\n",
       " 'datasets/uas_sightings_reports/convert/FY2018_Q3_UAS_Sightings.csv',\n",
       " 'datasets/uas_sightings_reports/convert/uas_sightings_report_fy23-q3.csv']"
      ]
     },
     "execution_count": 7,
     "metadata": {},
     "output_type": "execute_result"
    }
   ],
   "source": [
    "uas_sightings_reports_convert_paths"
   ]
  },
  {
   "cell_type": "code",
   "execution_count": 8,
   "id": "3772f896-f398-4adf-ab1a-40cd536de0c0",
   "metadata": {
    "scrolled": true
   },
   "outputs": [
    {
     "name": "stdout",
     "output_type": "stream",
     "text": [
      "==> datasets/uas_sightings_reports/convert/UAS_sightings_report_Apr_Jun2017.csv <==\n",
      "Date of Sighting,State,City,Summary\n",
      "\n",
      "==> datasets/uas_sightings_reports/convert/uas_sightings_report_fy23-q3.csv <==\n",
      "Date,State,City,Summary\n",
      "\n",
      "==> datasets/uas_sightings_reports/convert/FY2019_Q2_UAS_Sightings.csv <==\n",
      "Date of Sighting,State,City,Summary\n",
      "\n",
      "==> datasets/uas_sightings_reports/convert/Reported-UAS-Sightings-July-Sept-2022.csv <==\n",
      "Date,State,City,Summary\n",
      "\n",
      "==> datasets/uas_sightings_reports/convert/FY2022_Q1_UAS_Sightings.csv <==\n",
      "Day of Sighting,State,City,Summary\n",
      "\n",
      "==> datasets/uas_sightings_reports/convert/uas_sightings_report_fy24_q1.csv <==\n",
      "Date,State,City,Summary\n",
      "\n",
      "==> datasets/uas_sightings_reports/convert/uas_sightings_report_fy24_q2.csv <==\n",
      "Date,State,City,Summary\n",
      "\n",
      "==> datasets/uas_sightings_reports/convert/FY2020_Q3_UAS_Sightings.csv <==\n",
      "Day of Sighting,State,City,Summary\n",
      "\n",
      "==> datasets/uas_sightings_reports/convert/UAS_Sightings_report_21Aug-31Jan.csv <==\n",
      "EventDATETIME,EventREPORTNARRATIVE,LocationCITY,LocationSTATE\n",
      "\n",
      "==> datasets/uas_sightings_reports/convert/uas_sightings_report_fy24_q3.csv <==\n",
      "Date,State,City,Summary\n",
      "\n",
      "==> datasets/uas_sightings_reports/convert/FY2020_Q4_UAS_Sightings.csv <==\n",
      "Day of Sighting,State,City,Summary\n",
      "\n",
      "==> datasets/uas_sightings_reports/convert/FY2019_Q1_UAS_Sightings.csv <==\n",
      "Date of Sighting,State,City,Summary\n",
      "\n",
      "==> datasets/uas_sightings_reports/convert/Reported-UAS-Sightings-April-June-2022.csv <==\n",
      "Day of Sighting,State,City,Summary\n",
      "\n",
      "==> datasets/uas_sightings_reports/convert/FY2020_Q1_UAS_Sightings.csv <==\n",
      "Date of Sighting,State,City,Summary\n",
      "\n",
      "==> datasets/uas_sightings_reports/convert/uas_sightings_report_fy23_q4.csv <==\n",
      "Date,State,City,Summary\n",
      "\n",
      "==> datasets/uas_sightings_reports/convert/FY2020_Q2_UAS_Sightings.csv <==\n",
      "Date of Sighitng,State,City,Summary\n",
      "\n",
      "==> datasets/uas_sightings_reports/convert/uas_sightings_report_fy23-q2.csv <==\n",
      "Date,State,City,Summary,Column1,Column2,Column3,Co ... 6,Column16377,Column16378,Column16379,Column16380\n",
      "\n",
      "==> datasets/uas_sightings_reports/convert/FY2018_Q2_UAS_Sightings.csv <==\n",
      "Date of Sighting,City,State,Summary\n",
      "\n",
      "==> datasets/uas_sightings_reports/convert/uas_sightings_report_fy23-q1.csv <==\n",
      "Date,State,City,Summary,Column1,Column2,Column3,Co ... 6,Column16377,Column16378,Column16379,Column16380\n",
      "\n",
      "==> datasets/uas_sightings_reports/convert/UAS_Sightings_report_1Feb-31Mar16.csv <==\n",
      "Event DATETIME,Description,Location CITY,Location STATE\n",
      "\n",
      "==> datasets/uas_sightings_reports/convert/FY2021_Q1_UAS_Sightings.csv <==\n",
      "Day of Sighting,State,City,Summary\n",
      "\n",
      "==> datasets/uas_sightings_reports/convert/FY2019_Q4_UAS_Sightings.csv <==\n",
      "Date of Sighting,State,City,Summary\n",
      "\n",
      "==> datasets/uas_sightings_reports/convert/FY2021_Q2_UAS_Sightings.csv <==\n",
      "Day of Sighting,State,City,Summary\n",
      "\n",
      "==> datasets/uas_sightings_reports/convert/UAS_sightings_report_170331.csv <==\n",
      "Event Date,CITY,STATE,Event Description,Column1,Column2,Column3,Column4\n",
      "\n",
      "==> datasets/uas_sightings_reports/convert/Reported-UAS-Sigihtings-January-March-2022_0.csv <==\n",
      "Day of Sighting,State,City,Summary\n",
      "\n",
      "==> datasets/uas_sightings_reports/convert/FY2018_Q4_UAS_Sightings.csv <==\n",
      "Date of Sighting,State,City,Summary\n",
      "\n",
      "==> datasets/uas_sightings_reports/convert/FY2017_Q4_De-identification_Redaction_11192017.csv <==\n",
      "Event Date,Event Description,City,State\n",
      "\n",
      "==> datasets/uas_sightings_reports/convert/UAS_sightings_report_Jan_Mar2017.csv <==\n",
      "Date of Sighting,City,State,Summary\n",
      "\n",
      "==> datasets/uas_sightings_reports/convert/FY2018_Q1_UAS_Sightings.csv <==\n",
      "Date of Sighting,City,State,Summary\n",
      "\n",
      "==> datasets/uas_sightings_reports/convert/UAS_Sightings_report_1Apr-30Jun16.csv <==\n",
      "spEventDateTime,spCity,spState,Redacted\n",
      "\n",
      "==> datasets/uas_sightings_reports/convert/FY2018_Q3_UAS_Sightings.csv <==\n",
      "Day of Date of Sighting,State,City,Summary\n",
      "\n",
      "==> datasets/uas_sightings_reports/convert/FY2021_Q4_UAS_Sightings.csv <==\n",
      "Day of Sighting,State,City,Summary\n",
      "\n",
      "==> datasets/uas_sightings_reports/convert/FY2021_Q3_UAS_Sightings.csv <==\n",
      "Day of Sighting,State,City,Summary\n",
      "\n",
      "==> datasets/uas_sightings_reports/convert/UAS_Sightings_report_1Jul-30Sep16.csv <==\n",
      "Event Date & Time,CITY,STATE,Event Description\n",
      "\n",
      "==> datasets/uas_sightings_reports/convert/FY2019_Q3_UAS_Sightings.csv <==\n",
      "Date of Sighting,State,City,Summary\n",
      "\n"
     ]
    }
   ],
   "source": [
    "# Ensure headers are the same for each UAS sightings report (most likely not the case)\n",
    "# Date, State, City, Summary\n",
    "# ==> datasets/uas_sightings_reports/convert/UAS_Sightings_report_21Aug-31Jan.csv <==\n",
    "# EventDATETIME,EventREPORTNARRATIVE,LocationCITY,LocationSTATE\n",
    "\n",
    "# ==> datasets/uas_sightings_reports/convert/UAS_Sightings_report_1Jul-30Sep16.csv <==\n",
    "# Event Date & Time,CITY,STATE,Event Description\n",
    "\n",
    "# ==> datasets/uas_sightings_reports/convert/UAS_sightings_report_170331.csv <==\n",
    "# Event Date,CITY,STATE,Event Description,Column1,Column2,Column3,Column4\n",
    "\n",
    "# ==> datasets/uas_sightings_reports/convert/UAS_Sightings_report_1Apr-30Jun16.csv <==\n",
    "# spEventDateTime,spCity,spState,Redacted\n",
    "\n",
    "# ==> datasets/uas_sightings_reports/convert/UAS_Sightings_report_1Feb-31Mar16.csv <==\n",
    "# Event DATETIME,Description,Location CITY,Location STATE\n",
    "\n",
    "# ==> datasets/uas_sightings_reports/convert/FY2017_Q4_De-identification_Redaction_11192017.csv <==\n",
    "# Event Date,Event Description,City,State\n",
    "\n",
    "# ==> datasets/uas_sightings_reports/convert/FY2018_Q1_UAS_Sightings.csv <==\n",
    "# Date of Sighting,City,State,Summary\n",
    "\n",
    "# ==> datasets/uas_sightings_reports/convert/FY2018_Q2_UAS_Sightings.csv <==\n",
    "# Date of Sighting,City,State,Summary\n",
    "\n",
    "# !head -1 {os.path.join(uas_sightings_reports_convert_dir, '*.csv')}\n",
    "for path in glob(os.path.join(uas_sightings_reports_convert_dir, '*.csv')):\n",
    "    with open(path, 'r') as f:\n",
    "        line = f.readline()\n",
    "        print(f'==> {path} <==')\n",
    "        if len(line) >= 100:\n",
    "            print(line[:50] + ' ... ' + line[-50:])\n",
    "        else:\n",
    "            print(line)"
   ]
  },
  {
   "cell_type": "markdown",
   "id": "b822fecd-6c4a-4528-b7c6-8ed5891ea3ae",
   "metadata": {},
   "source": [
    "We can see there are a lot of discrepancies with the column names. Two of the files, `datasets/uas_sightings_reports/convert/uas_sightings_report_fy23-q1.csv` and `datasets/uas_sightings_reports/convert/uas_sightings_report_fy23-q2.csv`, appear to have a corrupt headers with over 16k columns.\n",
    "\n",
    "The approach for applying a common schema is to define a set of columns that appear to be the most common and map the actual columns to those common columns using similarity checks."
   ]
  },
  {
   "cell_type": "code",
   "execution_count": null,
   "id": "a6ec68a6-8480-470a-a34a-426569a113ae",
   "metadata": {},
   "outputs": [],
   "source": [
    "common_cols = [\n",
    "    'date',\n",
    "    'city',\n",
    "    'state',\n",
    "    'summary',\n",
    "    'narrative',\n",
    "    'description',\n",
    "]"
   ]
  },
  {
   "cell_type": "markdown",
   "id": "e4838eb5-c8d4-473e-9d44-c2989f7b860d",
   "metadata": {},
   "source": [
    "### Flight Logs (OpenSky API)"
   ]
  },
  {
   "cell_type": "code",
   "execution_count": null,
   "id": "4d8f5f28-b3ae-4283-8e4c-f0e362a68a94",
   "metadata": {},
   "outputs": [],
   "source": []
  },
  {
   "cell_type": "markdown",
   "id": "a4611758-8ccb-47e6-b543-c69ec889ad7c",
   "metadata": {},
   "source": [
    "### Airports Data\n",
    "See: https://github.com/mwgg/Airports"
   ]
  },
  {
   "cell_type": "code",
   "execution_count": 3,
   "id": "38f3dfa0-9e30-4a5b-9782-a25f00842f26",
   "metadata": {},
   "outputs": [],
   "source": [
    "airports_path = os.path.join(DATASETS_DIR, 'airports/airports.json')"
   ]
  },
  {
   "cell_type": "code",
   "execution_count": 4,
   "id": "0901273e-5e3d-4a8d-87bc-4e5afe18c1b3",
   "metadata": {},
   "outputs": [],
   "source": [
    "with open(airports_path, 'r') as f:\n",
    "    airports_lookup = json.load(f)"
   ]
  },
  {
   "cell_type": "code",
   "execution_count": 5,
   "id": "4bc721c1-03c8-40f0-824d-80d629413109",
   "metadata": {},
   "outputs": [
    {
     "data": {
      "text/plain": [
       "{'icao': '00AK',\n",
       " 'iata': '',\n",
       " 'name': 'Lowell Field',\n",
       " 'city': 'Anchor Point',\n",
       " 'state': 'Alaska',\n",
       " 'country': 'US',\n",
       " 'elevation': 450,\n",
       " 'lat': 59.94919968,\n",
       " 'lon': -151.695999146,\n",
       " 'tz': 'America/Anchorage'}"
      ]
     },
     "execution_count": 5,
     "metadata": {},
     "output_type": "execute_result"
    }
   ],
   "source": [
    "# Inspect first airport\n",
    "airports_lookup[list(airports_lookup.keys())[0]]"
   ]
  },
  {
   "cell_type": "code",
   "execution_count": 8,
   "id": "51420048-0cf8-477f-b59d-74af32f36545",
   "metadata": {},
   "outputs": [
    {
     "data": {
      "text/html": [
       "<div>\n",
       "<style scoped>\n",
       "    .dataframe tbody tr th:only-of-type {\n",
       "        vertical-align: middle;\n",
       "    }\n",
       "\n",
       "    .dataframe tbody tr th {\n",
       "        vertical-align: top;\n",
       "    }\n",
       "\n",
       "    .dataframe thead th {\n",
       "        text-align: right;\n",
       "    }\n",
       "</style>\n",
       "<table border=\"1\" class=\"dataframe\">\n",
       "  <thead>\n",
       "    <tr style=\"text-align: right;\">\n",
       "      <th></th>\n",
       "      <th>icao</th>\n",
       "      <th>iata</th>\n",
       "      <th>name</th>\n",
       "      <th>city</th>\n",
       "      <th>state</th>\n",
       "      <th>country</th>\n",
       "      <th>elevation</th>\n",
       "      <th>lat</th>\n",
       "      <th>lon</th>\n",
       "      <th>tz</th>\n",
       "    </tr>\n",
       "  </thead>\n",
       "  <tbody>\n",
       "    <tr>\n",
       "      <th>00AK</th>\n",
       "      <td>00AK</td>\n",
       "      <td></td>\n",
       "      <td>Lowell Field</td>\n",
       "      <td>Anchor Point</td>\n",
       "      <td>Alaska</td>\n",
       "      <td>US</td>\n",
       "      <td>450</td>\n",
       "      <td>59.949200</td>\n",
       "      <td>-151.695999</td>\n",
       "      <td>America/Anchorage</td>\n",
       "    </tr>\n",
       "    <tr>\n",
       "      <th>00AL</th>\n",
       "      <td>00AL</td>\n",
       "      <td></td>\n",
       "      <td>Epps Airpark</td>\n",
       "      <td>Harvest</td>\n",
       "      <td>Alabama</td>\n",
       "      <td>US</td>\n",
       "      <td>820</td>\n",
       "      <td>34.864799</td>\n",
       "      <td>-86.770302</td>\n",
       "      <td>America/Chicago</td>\n",
       "    </tr>\n",
       "    <tr>\n",
       "      <th>00AZ</th>\n",
       "      <td>00AZ</td>\n",
       "      <td></td>\n",
       "      <td>Cordes Airport</td>\n",
       "      <td>Cordes</td>\n",
       "      <td>Arizona</td>\n",
       "      <td>US</td>\n",
       "      <td>3810</td>\n",
       "      <td>34.305599</td>\n",
       "      <td>-112.165001</td>\n",
       "      <td>America/Phoenix</td>\n",
       "    </tr>\n",
       "    <tr>\n",
       "      <th>00CA</th>\n",
       "      <td>00CA</td>\n",
       "      <td></td>\n",
       "      <td>Goldstone /Gts/ Airport</td>\n",
       "      <td>Barstow</td>\n",
       "      <td>California</td>\n",
       "      <td>US</td>\n",
       "      <td>3038</td>\n",
       "      <td>35.350498</td>\n",
       "      <td>-116.888000</td>\n",
       "      <td>America/Los_Angeles</td>\n",
       "    </tr>\n",
       "    <tr>\n",
       "      <th>00CL</th>\n",
       "      <td>00CL</td>\n",
       "      <td></td>\n",
       "      <td>Williams Ag Airport</td>\n",
       "      <td>Biggs</td>\n",
       "      <td>California</td>\n",
       "      <td>US</td>\n",
       "      <td>87</td>\n",
       "      <td>39.427189</td>\n",
       "      <td>-121.763428</td>\n",
       "      <td>America/Los_Angeles</td>\n",
       "    </tr>\n",
       "  </tbody>\n",
       "</table>\n",
       "</div>"
      ],
      "text/plain": [
       "      icao iata                     name          city       state country  \\\n",
       "00AK  00AK                  Lowell Field  Anchor Point      Alaska      US   \n",
       "00AL  00AL                  Epps Airpark       Harvest     Alabama      US   \n",
       "00AZ  00AZ                Cordes Airport        Cordes     Arizona      US   \n",
       "00CA  00CA       Goldstone /Gts/ Airport       Barstow  California      US   \n",
       "00CL  00CL           Williams Ag Airport         Biggs  California      US   \n",
       "\n",
       "      elevation        lat         lon                   tz  \n",
       "00AK        450  59.949200 -151.695999    America/Anchorage  \n",
       "00AL        820  34.864799  -86.770302      America/Chicago  \n",
       "00AZ       3810  34.305599 -112.165001      America/Phoenix  \n",
       "00CA       3038  35.350498 -116.888000  America/Los_Angeles  \n",
       "00CL         87  39.427189 -121.763428  America/Los_Angeles  "
      ]
     },
     "execution_count": 8,
     "metadata": {},
     "output_type": "execute_result"
    }
   ],
   "source": [
    "# Convert to pandas dataframe\n",
    "airports_df = pd.DataFrame.from_dict(airports_lookup, orient='index')\n",
    "airports_df.head()"
   ]
  },
  {
   "cell_type": "code",
   "execution_count": 9,
   "id": "0893f863-351d-49d9-9f62-4132d8ce667f",
   "metadata": {},
   "outputs": [
    {
     "name": "stdout",
     "output_type": "stream",
     "text": [
      "Saved to \"datasets/airports/airports.csv\"\n"
     ]
    }
   ],
   "source": [
    "# Save airports data as csv\n",
    "airports_outpath = os.path.splitext(airports_path)[0] + '.csv'\n",
    "airports_df.to_csv(airports_outpath, index=False)\n",
    "print(f'Saved to \"{airports_outpath}\"')"
   ]
  },
  {
   "cell_type": "markdown",
   "id": "1a69368b-145b-4e9c-abb3-9e2f9aab67e8",
   "metadata": {},
   "source": [
    "### UASFM Grids\n",
    "See: https://uas-faa.opendata.arcgis.com/datasets/faa::faa-uas-facilitymap-data/about"
   ]
  },
  {
   "cell_type": "code",
   "execution_count": 17,
   "id": "04a0aa8e-192c-4b05-a580-19f7fa26c61c",
   "metadata": {},
   "outputs": [],
   "source": [
    "uasfm_grids_dir = os.path.join(DATASETS_DIR, 'uasfm_grids')\n",
    "with ZipFile(os.path.join(uasfm_grids_dir, 'FAA_UAS_FacilityMap_Data.zip')) as zf:\n",
    "    zf.extractall(uasfm_grids_dir)"
   ]
  },
  {
   "cell_type": "code",
   "execution_count": null,
   "id": "cf64e2b0-1469-473a-8d36-13beed4f32d4",
   "metadata": {},
   "outputs": [],
   "source": []
  }
 ],
 "metadata": {
  "kernelspec": {
   "display_name": "Python 3 (ipykernel)",
   "language": "python",
   "name": "python3"
  },
  "language_info": {
   "codemirror_mode": {
    "name": "ipython",
    "version": 3
   },
   "file_extension": ".py",
   "mimetype": "text/x-python",
   "name": "python",
   "nbconvert_exporter": "python",
   "pygments_lexer": "ipython3",
   "version": "3.12.5"
  }
 },
 "nbformat": 4,
 "nbformat_minor": 5
}
